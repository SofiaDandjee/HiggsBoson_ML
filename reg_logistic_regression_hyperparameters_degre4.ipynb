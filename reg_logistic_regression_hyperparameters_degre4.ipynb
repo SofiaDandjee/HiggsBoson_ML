{
 "cells": [
  {
   "cell_type": "code",
   "execution_count": 21,
   "metadata": {},
   "outputs": [
    {
     "name": "stdout",
     "output_type": "stream",
     "text": [
      "The autoreload extension is already loaded. To reload it, use:\n",
      "  %reload_ext autoreload\n"
     ]
    }
   ],
   "source": [
    "%matplotlib inline\n",
    "import numpy as np\n",
    "import matplotlib.pyplot as plt\n",
    "%load_ext autoreload\n",
    "%autoreload 2"
   ]
  },
  {
   "cell_type": "code",
   "execution_count": 22,
   "metadata": {},
   "outputs": [],
   "source": [
    "from proj1_helpers import *\n",
    "from data_helpers import *\n",
    "from cross_validation import *\n",
    "from plots import *"
   ]
  },
  {
   "cell_type": "code",
   "execution_count": 23,
   "metadata": {},
   "outputs": [],
   "source": [
    "#LOAD TRAINING DATA\n",
    "DATA_TRAIN_PATH = 'data/train.csv'\n",
    "y, tX, ids = load_csv_data(DATA_TRAIN_PATH)"
   ]
  },
  {
   "cell_type": "code",
   "execution_count": 24,
   "metadata": {},
   "outputs": [
    {
     "data": {
      "text/plain": [
       "[4, 5, 6, 12, 26, 27, 28]"
      ]
     },
     "execution_count": 24,
     "metadata": {},
     "output_type": "execute_result"
    }
   ],
   "source": [
    "#CLEAN TRAINING DATA\n",
    "bounds = [0.0, 0.5]\n",
    "tx_clean, ind_remov = treat_undefined_values(bounds, tX)\n",
    "ind_remov"
   ]
  },
  {
   "cell_type": "code",
   "execution_count": 25,
   "metadata": {},
   "outputs": [],
   "source": [
    "#MODEL BUILDING\n",
    "tx, mean, std = standardize(tx_clean,0)\n",
    "tx_augmented = build_poly_all_features(tx,4)\n",
    "y,tx = build_model_data(tx_augmented,y)\n",
    "y = classify(y)\n",
    "num_samples = len(y)\n",
    "num_features = tx.shape[1]\n",
    "y = y.reshape(num_samples,1)\n"
   ]
  },
  {
   "cell_type": "code",
   "execution_count": 26,
   "metadata": {},
   "outputs": [
    {
     "data": {
      "text/plain": [
       "(250000, 93)"
      ]
     },
     "execution_count": 26,
     "metadata": {},
     "output_type": "execute_result"
    }
   ],
   "source": [
    "num_samples, num_features\n",
    "tx.shape"
   ]
  },
  {
   "cell_type": "code",
   "execution_count": 27,
   "metadata": {},
   "outputs": [],
   "source": [
    "from compute_gradient import *\n",
    "from cost import *\n",
    "from implementations import *"
   ]
  },
  {
   "cell_type": "code",
   "execution_count": 28,
   "metadata": {},
   "outputs": [
    {
     "data": {
      "text/plain": [
       "((250000, 93), (250000, 1), array([[1.],\n",
       "        [0.],\n",
       "        [0.],\n",
       "        ...,\n",
       "        [1.],\n",
       "        [0.],\n",
       "        [0.]]))"
      ]
     },
     "execution_count": 28,
     "metadata": {},
     "output_type": "execute_result"
    }
   ],
   "source": [
    "#Initial weight\n",
    "\n",
    "\n",
    "#Maximum iterations through the whole set\n",
    "max_iter = 100\n",
    "\n",
    "#0.001 nan\n",
    "#0.0005 nan\n",
    "\n",
    "#Step-size\n",
    "gammas = np.logspace(-6,-1, 7)\n",
    "lambdas = np.logspace (-6,-1,7)\n",
    "\n",
    "\n",
    "#Regularization factor\n",
    "# lambda_ = 0.01 142000 loss 10 000 iters\n",
    "#lambda_ = 0.001 141000 loss 10 000 iters\n",
    "#lambda_ = 0.02\n",
    "#loss_min = np.inf\n",
    "tx.shape,y.shape,y"
   ]
  },
  {
   "cell_type": "code",
   "execution_count": 29,
   "metadata": {},
   "outputs": [
    {
     "name": "stderr",
     "output_type": "stream",
     "text": [
      "/Users/Sofia/Desktop/ML_Project1/cost.py:20: RuntimeWarning: divide by zero encountered in log\n",
      "  loss = y.T.dot(np.log(pred)) + (1 - y).T.dot(np.log(1 - pred))\n"
     ]
    },
    {
     "name": "stdout",
     "output_type": "stream",
     "text": [
      "1e-06\n",
      "1e-06\n",
      "0.6932169714781314\n",
      "nan\n",
      "65.756\n",
      "65.748\n",
      "1e-06\n",
      "6.8129206905796085e-06\n",
      "0.6910933669324504\n",
      "nan\n",
      "65.85319999999999\n",
      "65.8488\n",
      "1e-06\n",
      "4.641588833612782e-05\n",
      "0.6677891683224545\n",
      "nan\n",
      "65.7252\n",
      "65.73519999999999\n",
      "1e-06\n",
      "0.00031622776601683794\n",
      "0.5794878637267501\n",
      "nan\n",
      "64.0036\n",
      "64.01599999999999\n",
      "1e-06\n",
      "0.0021544346900318843\n",
      "1.3473835458136556\n",
      "nan\n",
      "68.1908\n",
      "68.2644\n",
      "1e-06\n",
      "0.014677992676220705\n",
      "1.0856930103554403\n",
      "nan\n",
      "67.7732\n",
      "67.6896\n",
      "1e-06\n",
      "0.1\n",
      "3.1037406824871216\n",
      "nan\n",
      "66.3116\n",
      "66.2644\n",
      "6.8129206905796085e-06\n",
      "1e-06\n",
      "4.039081737444631\n",
      "nan\n",
      "65.9324\n",
      "65.9324\n",
      "6.8129206905796085e-06\n",
      "6.8129206905796085e-06\n",
      "4.040523684172748\n",
      "nan\n",
      "65.9348\n",
      "65.934\n",
      "6.8129206905796085e-06\n",
      "4.641588833612782e-05\n",
      "4.050338944069868\n",
      "nan\n",
      "65.94399999999999\n",
      "65.94200000000001\n",
      "6.8129206905796085e-06\n",
      "0.00031622776601683794\n",
      "4.116829055010169\n",
      "nan\n",
      "65.982\n",
      "65.9768\n",
      "6.8129206905796085e-06\n",
      "0.0021544346900318843\n",
      "4.554307020107314\n",
      "nan\n",
      "66.2348\n",
      "66.19560000000001\n",
      "6.8129206905796085e-06\n",
      "0.014677992676220705\n",
      "4.083029023472529\n",
      "nan\n",
      "68.2492\n",
      "68.22800000000001\n",
      "6.8129206905796085e-06\n",
      "0.1\n",
      "14.484429815416291\n",
      "nan\n",
      "65.1604\n",
      "65.1232\n",
      "4.641588833612782e-05\n",
      "1e-06\n",
      "12.511151840181856\n",
      "nan\n",
      "63.147999999999996\n",
      "63.1468\n",
      "4.641588833612782e-05\n",
      "6.8129206905796085e-06\n",
      "12.50823065066922\n",
      "nan\n",
      "63.1512\n",
      "63.14919999999999\n",
      "4.641588833612782e-05\n",
      "4.641588833612782e-05\n",
      "12.488367911900932\n",
      "nan\n",
      "63.1704\n",
      "63.1704\n",
      "4.641588833612782e-05\n",
      "0.00031622776601683794\n",
      "12.35465318999814\n",
      "nan\n",
      "63.284\n",
      "63.2932\n",
      "4.641588833612782e-05\n",
      "0.0021544346900318843\n",
      "11.514081031064194\n",
      "nan\n",
      "64.024\n",
      "63.98480000000001\n",
      "4.641588833612782e-05\n",
      "0.014677992676220705\n",
      "inf\n",
      "nan\n",
      "66.56960000000001\n",
      "66.58879999999999\n",
      "4.641588833612782e-05\n",
      "0.1\n",
      "15.991511681700016\n",
      "nan\n",
      "64.95439999999999\n",
      "64.844\n",
      "0.00031622776601683794\n",
      "1e-06\n",
      "13.27043209727312\n",
      "nan\n",
      "61.108\n",
      "61.106399999999994\n",
      "0.00031622776601683794\n",
      "6.8129206905796085e-06\n",
      "13.264548419954727\n",
      "nan\n",
      "61.108000000000004\n",
      "61.1088\n",
      "0.00031622776601683794\n",
      "4.641588833612782e-05\n",
      "13.224567478310538\n",
      "nan\n",
      "61.142399999999995\n",
      "61.142399999999995\n",
      "0.00031622776601683794\n",
      "0.00031622776601683794\n",
      "12.953623783786082\n",
      "nan\n",
      "61.376000000000005\n",
      "61.3816\n",
      "0.00031622776601683794\n",
      "0.0021544346900318843\n",
      "11.182963616501711\n",
      "nan\n",
      "62.721999999999994\n",
      "62.73\n",
      "0.00031622776601683794\n",
      "0.014677992676220705\n",
      "3.461971268735909\n",
      "nan\n",
      "66.1964\n",
      "66.194\n",
      "0.00031622776601683794\n",
      "0.1\n",
      "inf\n",
      "nan\n",
      "66.20920000000001\n",
      "66.22\n",
      "0.0021544346900318843\n",
      "1e-06\n",
      "inf\n",
      "nan\n",
      "63.688\n",
      "63.688\n",
      "0.0021544346900318843\n",
      "6.8129206905796085e-06\n",
      "inf\n",
      "nan\n",
      "63.6872\n",
      "63.691199999999995\n",
      "0.0021544346900318843\n",
      "4.641588833612782e-05\n",
      "inf\n",
      "nan\n",
      "63.7164\n",
      "63.7128\n",
      "0.0021544346900318843\n",
      "0.00031622776601683794\n",
      "inf\n",
      "nan\n",
      "63.87520000000001\n",
      "63.856399999999994\n",
      "0.0021544346900318843\n",
      "0.0021544346900318843\n",
      "inf\n",
      "nan\n",
      "64.82159999999999\n",
      "64.82480000000001\n",
      "0.0021544346900318843\n",
      "0.014677992676220705\n",
      "inf\n",
      "nan\n",
      "67.7196\n",
      "67.7168\n",
      "0.0021544346900318843\n",
      "0.1\n",
      "inf\n",
      "nan\n",
      "67.7464\n",
      "67.7008\n",
      "0.014677992676220705\n",
      "1e-06\n",
      "inf\n",
      "nan\n",
      "64.9712\n",
      "64.9704\n",
      "0.014677992676220705\n",
      "6.8129206905796085e-06\n",
      "inf\n",
      "nan\n",
      "64.9768\n",
      "64.97399999999999\n",
      "0.014677992676220705\n",
      "4.641588833612782e-05\n",
      "inf\n",
      "nan\n",
      "64.998\n",
      "64.9828\n",
      "0.014677992676220705\n",
      "0.00031622776601683794\n",
      "inf\n",
      "nan\n",
      "65.156\n",
      "65.1772\n",
      "0.014677992676220705\n",
      "0.0021544346900318843\n",
      "inf\n",
      "nan\n",
      "66.2484\n",
      "66.25399999999999\n",
      "0.014677992676220705\n",
      "0.014677992676220705\n",
      "40.169071034481796\n",
      "nan\n",
      "69.4384\n",
      "69.4716\n",
      "0.014677992676220705\n",
      "0.1\n",
      "11.317668313046376\n",
      "nan\n",
      "69.5712\n",
      "69.5592\n",
      "0.1\n",
      "1e-06\n",
      "56.08533815652724\n",
      "nan\n",
      "67.99799999999999\n",
      "67.99799999999999\n",
      "0.1\n",
      "6.8129206905796085e-06\n",
      "56.05723225173223\n",
      "nan\n",
      "68.0004\n",
      "67.99600000000001\n",
      "0.1\n",
      "4.641588833612782e-05\n",
      "55.86618951594107\n",
      "nan\n",
      "68.0172\n",
      "68.0176\n",
      "0.1\n",
      "0.00031622776601683794\n",
      "54.584826139333686\n",
      "nan\n",
      "68.1252\n",
      "68.1464\n",
      "0.1\n",
      "0.0021544346900318843\n",
      "46.717676057034936\n",
      "nan\n",
      "68.762\n",
      "68.75319999999999\n",
      "0.1\n",
      "0.014677992676220705\n",
      "18.817210100111694\n",
      "nan\n",
      "69.2176\n",
      "69.27199999999999\n",
      "0.1\n",
      "0.1\n",
      "30.989389683890483\n",
      "nan\n",
      "62.588\n",
      "62.4988\n"
     ]
    }
   ],
   "source": [
    "losses_tr = np.zeros((len(gammas),len(lambdas)))\n",
    "losses_val = np.zeros((len(gammas),len(lambdas)))\n",
    "\n",
    "k_fold = 2\n",
    "seed = 1\n",
    "loss_min = np.inf\n",
    "initial_w = np.zeros((tx.shape[1],1))\n",
    "max_accuracy = 0\n",
    "#CHOOSE LAMBDA AND GAMMA\n",
    "for ind_lambda, lambda_ in enumerate(lambdas):\n",
    "    for ind_gamma ,gamma_ in enumerate (gammas):\n",
    "        loss_training = 0\n",
    "        loss_validation = 0\n",
    "        training_accuracy = 0\n",
    "        validation_accuracy = 0\n",
    "        for i,k in enumerate(range(k_fold)):\n",
    "            \n",
    "            tx_train, y_train, tx_val, y_val = cross_validation(y, tx, k, k_fold, seed)\n",
    "            w, loss_train_k = reg_logistic_regression(y_train, tx_train, lambda_, initial_w, max_iter, gamma_)\n",
    "            loss_val_k = reg_logistic_loss (y_val,tx_val,w,lambda_)/len(y_val)\n",
    "            #loss_train_k /= len(y_train)\n",
    "            loss_training += loss_train_k\n",
    "            loss_validation += loss_val_k\n",
    "            training_accuracy += predict_accuracy(y_train,tx_train,w)\n",
    "            validation_accuracy += predict_accuracy(y_val,tx_val,w)\n",
    "        \n",
    "        training_accuracy /= k_fold\n",
    "        validation_accuracy /= k_fold\n",
    "        loss_training /= k_fold\n",
    "        loss_validation /= k_fold\n",
    "        print(lambda_)\n",
    "        print(gamma_)\n",
    "        print(loss_training)\n",
    "        print(loss_validation)\n",
    "        print(training_accuracy)\n",
    "        print(validation_accuracy)\n",
    "        if (validation_accuracy > max_accuracy):\n",
    "            weights_star = w\n",
    "            lambda_star = lambda_\n",
    "            gamma_star = gamma_\n",
    "            loss_min = loss_validation\n",
    "            max_accuracy = validation_accuracy\n",
    "        losses_tr[ind_lambda][ind_gamma] = loss_training\n",
    "        losses_val[ind_lambda][ind_gamma] = loss_validation\n",
    "\n"
   ]
  },
  {
   "cell_type": "code",
   "execution_count": 30,
   "metadata": {},
   "outputs": [
    {
     "data": {
      "text/plain": [
       "array([1.00000000e-06, 6.81292069e-06, 4.64158883e-05, 3.16227766e-04,\n",
       "       2.15443469e-03, 1.46779927e-02, 1.00000000e-01])"
      ]
     },
     "execution_count": 30,
     "metadata": {},
     "output_type": "execute_result"
    }
   ],
   "source": [
    "lambdas"
   ]
  },
  {
   "cell_type": "code",
   "execution_count": 31,
   "metadata": {},
   "outputs": [
    {
     "data": {
      "text/plain": [
       "array([1.00000000e-06, 6.81292069e-06, 4.64158883e-05, 3.16227766e-04,\n",
       "       2.15443469e-03, 1.46779927e-02, 1.00000000e-01])"
      ]
     },
     "execution_count": 31,
     "metadata": {},
     "output_type": "execute_result"
    }
   ],
   "source": [
    "gammas"
   ]
  },
  {
   "cell_type": "code",
   "execution_count": 32,
   "metadata": {},
   "outputs": [
    {
     "data": {
      "text/plain": [
       "(array([[ 0.69321697,  0.69109337,  0.66778917,  0.57948786,  1.34738355,\n",
       "          1.08569301,  3.10374068],\n",
       "        [ 4.03908174,  4.04052368,  4.05033894,  4.11682906,  4.55430702,\n",
       "          4.08302902, 14.48442982],\n",
       "        [12.51115184, 12.50823065, 12.48836791, 12.35465319, 11.51408103,\n",
       "                 inf, 15.99151168],\n",
       "        [13.2704321 , 13.26454842, 13.22456748, 12.95362378, 11.18296362,\n",
       "          3.46197127,         inf],\n",
       "        [        inf,         inf,         inf,         inf,         inf,\n",
       "                 inf,         inf],\n",
       "        [        inf,         inf,         inf,         inf,         inf,\n",
       "         40.16907103, 11.31766831],\n",
       "        [56.08533816, 56.05723225, 55.86618952, 54.58482614, 46.71767606,\n",
       "         18.8172101 , 30.98938968]]),\n",
       " array([[nan, nan, nan, nan, nan, nan, nan],\n",
       "        [nan, nan, nan, nan, nan, nan, nan],\n",
       "        [nan, nan, nan, nan, nan, nan, nan],\n",
       "        [nan, nan, nan, nan, nan, nan, nan],\n",
       "        [nan, nan, nan, nan, nan, nan, nan],\n",
       "        [nan, nan, nan, nan, nan, nan, nan],\n",
       "        [nan, nan, nan, nan, nan, nan, nan]]))"
      ]
     },
     "execution_count": 32,
     "metadata": {},
     "output_type": "execute_result"
    }
   ],
   "source": [
    "losses_tr, losses_val"
   ]
  },
  {
   "cell_type": "code",
   "execution_count": 36,
   "metadata": {},
   "outputs": [
    {
     "data": {
      "text/plain": [
       "(nan, 0.014677992676220705, 0.1, 69.5592)"
      ]
     },
     "execution_count": 36,
     "metadata": {},
     "output_type": "execute_result"
    }
   ],
   "source": [
    "loss_min, lambda_star, gamma_star, max_accuracy"
   ]
  },
  {
   "cell_type": "code",
   "execution_count": 34,
   "metadata": {},
   "outputs": [
    {
     "data": {
      "text/plain": [
       "59.4232"
      ]
     },
     "execution_count": 34,
     "metadata": {},
     "output_type": "execute_result"
    }
   ],
   "source": [
    "#PREDICT TRAINING ACCURACY\n",
    "training_accuracy = predict_accuracy(y,tx,weights_star)\n",
    "training_accuracy"
   ]
  },
  {
   "cell_type": "code",
   "execution_count": null,
   "metadata": {},
   "outputs": [],
   "source": []
  },
  {
   "cell_type": "code",
   "execution_count": 37,
   "metadata": {},
   "outputs": [],
   "source": [
    "#LOAD TEST SET\n",
    "DATA_TEST_PATH = 'data/test.csv'\n",
    "ytest, tX_test, ids_test = load_csv_data(DATA_TEST_PATH)"
   ]
  },
  {
   "cell_type": "code",
   "execution_count": 38,
   "metadata": {},
   "outputs": [
    {
     "data": {
      "text/plain": [
       "(568238, 23)"
      ]
     },
     "execution_count": 38,
     "metadata": {},
     "output_type": "execute_result"
    }
   ],
   "source": [
    "#CLEAN AND STANDARDIZE TEST SET\n",
    "tX_test_clean = np.delete(tX_test, ind_remov, axis=1)\n",
    "tX_test_clean.shape\n"
   ]
  },
  {
   "cell_type": "code",
   "execution_count": 43,
   "metadata": {},
   "outputs": [
    {
     "data": {
      "text/plain": [
       "(568238, 23)"
      ]
     },
     "execution_count": 43,
     "metadata": {},
     "output_type": "execute_result"
    }
   ],
   "source": [
    "bound = [0.0, 1.0]\n",
    "tx_test_clean,_ = treat_undefined_values (bound,tX_test_clean)\n",
    "tx_test_clean.shape"
   ]
  },
  {
   "cell_type": "code",
   "execution_count": 44,
   "metadata": {},
   "outputs": [],
   "source": [
    "tx_test_clean, _, _ = standardize(tx_test_clean,0)\n"
   ]
  },
  {
   "cell_type": "code",
   "execution_count": 45,
   "metadata": {},
   "outputs": [],
   "source": [
    "tx_test_augmented = build_poly_all_features(tx_test_clean,4)"
   ]
  },
  {
   "cell_type": "code",
   "execution_count": 213,
   "metadata": {},
   "outputs": [
    {
     "data": {
      "text/plain": [
       "(568238, 46)"
      ]
     },
     "execution_count": 213,
     "metadata": {},
     "output_type": "execute_result"
    }
   ],
   "source": [
    "tx_test_augmented.shape"
   ]
  },
  {
   "cell_type": "code",
   "execution_count": 214,
   "metadata": {},
   "outputs": [],
   "source": [
    "#BUILD TEST MODEL\n",
    "ytest, tx_test = build_model_data(tx_test_augmented,ytest)"
   ]
  },
  {
   "cell_type": "code",
   "execution_count": 215,
   "metadata": {},
   "outputs": [],
   "source": [
    "#PREDICT LABELS\n",
    "OUTPUT_PATH = 'data/submission_reg_logistic-degre4.csv'\n",
    "y_pred = predict_labels(weights_star, tx_test,'logistic')\n",
    "create_csv_submission(ids_test, y_pred, OUTPUT_PATH)"
   ]
  }
 ],
 "metadata": {
  "kernelspec": {
   "display_name": "Python 3",
   "language": "python",
   "name": "python3"
  },
  "language_info": {
   "codemirror_mode": {
    "name": "ipython",
    "version": 3
   },
   "file_extension": ".py",
   "mimetype": "text/x-python",
   "name": "python",
   "nbconvert_exporter": "python",
   "pygments_lexer": "ipython3",
   "version": "3.6.5"
  }
 },
 "nbformat": 4,
 "nbformat_minor": 2
}
