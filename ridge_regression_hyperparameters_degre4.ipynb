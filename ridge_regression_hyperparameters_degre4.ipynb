{
 "cells": [
  {
   "cell_type": "code",
   "execution_count": 62,
   "metadata": {},
   "outputs": [
    {
     "name": "stdout",
     "output_type": "stream",
     "text": [
      "The autoreload extension is already loaded. To reload it, use:\n",
      "  %reload_ext autoreload\n"
     ]
    }
   ],
   "source": [
    "%matplotlib inline\n",
    "import numpy as np\n",
    "import matplotlib.pyplot as plt\n",
    "%load_ext autoreload\n",
    "%autoreload 2"
   ]
  },
  {
   "cell_type": "code",
   "execution_count": 63,
   "metadata": {},
   "outputs": [],
   "source": [
    "from proj1_helpers import *\n",
    "from data_helpers import *\n",
    "from cross_validation import *\n",
    "from plots import *"
   ]
  },
  {
   "cell_type": "code",
   "execution_count": 99,
   "metadata": {},
   "outputs": [],
   "source": [
    "#LOAD TRAINING DATA\n",
    "DATA_TRAIN_PATH = 'data/train.csv'\n",
    "y, tX, ids = load_csv_data(DATA_TRAIN_PATH)"
   ]
  },
  {
   "cell_type": "code",
   "execution_count": 100,
   "metadata": {},
   "outputs": [
    {
     "data": {
      "text/plain": [
       "[4, 5, 6, 12, 26, 27, 28]"
      ]
     },
     "execution_count": 100,
     "metadata": {},
     "output_type": "execute_result"
    }
   ],
   "source": [
    "#CLEAN TRAINING DATA\n",
    "bounds = [0.0, 0.5]\n",
    "tx_clean, ind_remov = treat_undefined_values(bounds, tX)\n",
    "ind_remov"
   ]
  },
  {
   "cell_type": "code",
   "execution_count": 101,
   "metadata": {},
   "outputs": [],
   "source": [
    "#MODEL BUILDING\n",
    "tx, mean, std = standardize(tx_clean,0)\n",
    "tx_augmented = build_poly_all_features(tx,4)\n",
    "y,tx = build_model_data(tx_augmented,y)\n",
    "#y = classify(y)\n",
    "num_samples = len(y)\n",
    "num_features = tx.shape[1]\n",
    "y = y.reshape(num_samples,1)\n"
   ]
  },
  {
   "cell_type": "code",
   "execution_count": 102,
   "metadata": {},
   "outputs": [
    {
     "data": {
      "text/plain": [
       "(250000, 93)"
      ]
     },
     "execution_count": 102,
     "metadata": {},
     "output_type": "execute_result"
    }
   ],
   "source": [
    "num_samples, num_features\n",
    "tx.shape"
   ]
  },
  {
   "cell_type": "code",
   "execution_count": 103,
   "metadata": {},
   "outputs": [],
   "source": [
    "from compute_gradient import *\n",
    "from cost import *\n",
    "from implementations import *"
   ]
  },
  {
   "cell_type": "code",
   "execution_count": 104,
   "metadata": {},
   "outputs": [
    {
     "data": {
      "text/plain": [
       "((250000, 93), (250000, 1), array([[ 1.],\n",
       "        [-1.],\n",
       "        [-1.],\n",
       "        ...,\n",
       "        [ 1.],\n",
       "        [-1.],\n",
       "        [-1.]]))"
      ]
     },
     "execution_count": 104,
     "metadata": {},
     "output_type": "execute_result"
    }
   ],
   "source": [
    "#Step-size\n",
    "\n",
    "lambdas = np.logspace (-20,1,22)\n",
    "\n",
    "\n",
    "#Regularization factor\n",
    "# lambda_ = 0.01 142000 loss 10 000 iters\n",
    "#lambda_ = 0.001 141000 loss 10 000 iters\n",
    "#lambda_ = 0.02\n",
    "#loss_min = np.inf\n",
    "tx.shape,y.shape,y"
   ]
  },
  {
   "cell_type": "code",
   "execution_count": 105,
   "metadata": {},
   "outputs": [
    {
     "name": "stdout",
     "output_type": "stream",
     "text": [
      "linear\n",
      "linear\n",
      "linear\n",
      "linear\n",
      "linear\n",
      "linear\n",
      "linear\n",
      "linear\n",
      "linear\n",
      "linear\n",
      "linear\n",
      "linear\n",
      "linear\n",
      "linear\n",
      "linear\n",
      "linear\n",
      "linear\n",
      "linear\n",
      "linear\n",
      "linear\n",
      "1e-20\n",
      "0.3134610494490199\n",
      "3.622827883167436\n",
      "77.61955555555555\n",
      "77.60119999999999\n",
      "linear\n",
      "linear\n",
      "linear\n",
      "linear\n",
      "linear\n",
      "linear\n",
      "linear\n",
      "linear\n",
      "linear\n",
      "linear\n",
      "linear\n",
      "linear\n",
      "linear\n",
      "linear\n",
      "linear\n",
      "linear\n",
      "linear\n",
      "linear\n",
      "linear\n",
      "linear\n",
      "1e-19\n",
      "0.31346104946993797\n",
      "3.6228278831883545\n",
      "77.61955555555555\n",
      "77.60119999999999\n",
      "linear\n",
      "linear\n",
      "linear\n",
      "linear\n",
      "linear\n",
      "linear\n",
      "linear\n",
      "linear\n",
      "linear\n",
      "linear\n",
      "linear\n",
      "linear\n",
      "linear\n",
      "linear\n",
      "linear\n",
      "linear\n",
      "linear\n",
      "linear\n",
      "linear\n",
      "linear\n",
      "1e-18\n",
      "0.3134610496791179\n",
      "3.622827883397534\n",
      "77.61955555555555\n",
      "77.60119999999999\n",
      "linear\n",
      "linear\n",
      "linear\n",
      "linear\n",
      "linear\n",
      "linear\n",
      "linear\n",
      "linear\n",
      "linear\n",
      "linear\n",
      "linear\n",
      "linear\n",
      "linear\n",
      "linear\n",
      "linear\n",
      "linear\n",
      "linear\n",
      "linear\n",
      "linear\n",
      "linear\n",
      "1e-17\n",
      "0.31346105177091765\n",
      "3.6228278854893325\n",
      "77.61955555555555\n",
      "77.60119999999999\n",
      "linear\n",
      "linear\n",
      "linear\n",
      "linear\n",
      "linear\n",
      "linear\n",
      "linear\n",
      "linear\n",
      "linear\n",
      "linear\n",
      "linear\n",
      "linear\n",
      "linear\n",
      "linear\n",
      "linear\n",
      "linear\n",
      "linear\n",
      "linear\n",
      "linear\n",
      "linear\n",
      "1e-16\n",
      "0.31346110608843397\n",
      "3.6225573344857707\n",
      "77.61951111111111\n",
      "77.60119999999999\n",
      "linear\n",
      "linear\n",
      "linear\n",
      "linear\n",
      "linear\n",
      "linear\n",
      "linear\n",
      "linear\n",
      "linear\n",
      "linear\n",
      "linear\n",
      "linear\n",
      "linear\n",
      "linear\n",
      "linear\n",
      "linear\n",
      "linear\n",
      "linear\n",
      "linear\n",
      "linear\n",
      "1e-15\n",
      "0.313462452265067\n",
      "3.622145814354016\n",
      "77.62044444444443\n",
      "77.60239999999999\n",
      "linear\n",
      "linear\n",
      "linear\n",
      "linear\n",
      "linear\n",
      "linear\n",
      "linear\n",
      "linear\n",
      "linear\n",
      "linear\n",
      "linear\n",
      "linear\n",
      "linear\n",
      "linear\n",
      "linear\n",
      "linear\n",
      "linear\n",
      "linear\n",
      "linear\n",
      "linear\n",
      "1e-14\n",
      "0.31346158040317\n",
      "3.6297230781178875\n",
      "77.6196\n",
      "77.60040000000001\n",
      "linear\n",
      "linear\n",
      "linear\n",
      "linear\n",
      "linear\n",
      "linear\n",
      "linear\n",
      "linear\n",
      "linear\n",
      "linear\n",
      "linear\n",
      "linear\n",
      "linear\n",
      "linear\n",
      "linear\n",
      "linear\n",
      "linear\n",
      "linear\n",
      "linear\n",
      "linear\n",
      "1e-13\n",
      "0.31346247995876697\n",
      "3.6591284534952138\n",
      "77.61586666666666\n",
      "77.60079999999999\n",
      "linear\n",
      "linear\n",
      "linear\n",
      "linear\n",
      "linear\n",
      "linear\n",
      "linear\n",
      "linear\n",
      "linear\n",
      "linear\n",
      "linear\n",
      "linear\n",
      "linear\n",
      "linear\n",
      "linear\n",
      "linear\n",
      "linear\n",
      "linear\n",
      "linear\n",
      "linear\n",
      "1e-12\n",
      "0.3134642771862875\n",
      "3.6638722128437267\n",
      "77.61435555555556\n",
      "77.6008\n",
      "linear\n",
      "linear\n",
      "linear\n",
      "linear\n",
      "linear\n",
      "linear\n",
      "linear\n",
      "linear\n",
      "linear\n",
      "linear\n",
      "linear\n",
      "linear\n",
      "linear\n",
      "linear\n",
      "linear\n",
      "linear\n",
      "linear\n",
      "linear\n",
      "linear\n",
      "linear\n",
      "1e-11\n",
      "0.31347270035201297\n",
      "3.63810882014059\n",
      "77.61577777777777\n",
      "77.59799999999998\n",
      "linear\n",
      "linear\n",
      "linear\n",
      "linear\n",
      "linear\n",
      "linear\n",
      "linear\n",
      "linear\n",
      "linear\n",
      "linear\n",
      "linear\n",
      "linear\n",
      "linear\n",
      "linear\n",
      "linear\n",
      "linear\n",
      "linear\n",
      "linear\n",
      "linear\n",
      "linear\n",
      "1e-10\n",
      "0.31354824345145804\n",
      "3.556283050900233\n",
      "77.6155111111111\n",
      "77.592\n",
      "linear\n",
      "linear\n",
      "linear\n",
      "linear\n",
      "linear\n",
      "linear\n",
      "linear\n",
      "linear\n",
      "linear\n",
      "linear\n",
      "linear\n",
      "linear\n",
      "linear\n",
      "linear\n",
      "linear\n",
      "linear\n",
      "linear\n",
      "linear\n",
      "linear\n",
      "linear\n",
      "1e-09\n",
      "0.314201571543266\n",
      "2.945208588852501\n",
      "77.62977777777778\n",
      "77.6112\n",
      "linear\n",
      "linear\n",
      "linear\n",
      "linear\n",
      "linear\n",
      "linear\n",
      "linear\n",
      "linear\n",
      "linear\n",
      "linear\n",
      "linear\n",
      "linear\n",
      "linear\n",
      "linear\n",
      "linear\n",
      "linear\n",
      "linear\n",
      "linear\n",
      "linear\n",
      "linear\n",
      "1e-08\n",
      "0.31705710163451506\n",
      "0.8107841415361852\n",
      "77.46137777777777\n",
      "77.436\n",
      "linear\n",
      "linear\n",
      "linear\n",
      "linear\n",
      "linear\n",
      "linear\n",
      "linear\n",
      "linear\n",
      "linear\n",
      "linear\n",
      "linear\n",
      "linear\n",
      "linear\n",
      "linear\n",
      "linear\n",
      "linear\n",
      "linear\n",
      "linear\n",
      "linear\n",
      "linear\n",
      "1e-07\n",
      "0.31954372140107556\n",
      "0.41722802511054224\n",
      "77.01906666666666\n",
      "76.994\n",
      "linear\n",
      "linear\n",
      "linear\n",
      "linear\n",
      "linear\n",
      "linear\n",
      "linear\n",
      "linear\n",
      "linear\n",
      "linear\n",
      "linear\n",
      "linear\n",
      "linear\n",
      "linear\n",
      "linear\n",
      "linear\n",
      "linear\n",
      "linear\n",
      "linear\n",
      "linear\n",
      "1e-06\n",
      "0.32004579943040967\n",
      "0.8567830908184458\n",
      "76.92093333333335\n",
      "76.90799999999999\n",
      "linear\n",
      "linear\n",
      "linear\n",
      "linear\n",
      "linear\n",
      "linear\n",
      "linear\n",
      "linear\n",
      "linear\n",
      "linear\n",
      "linear\n",
      "linear\n",
      "linear\n",
      "linear\n",
      "linear\n",
      "linear\n",
      "linear\n",
      "linear\n",
      "linear\n",
      "linear\n",
      "1e-05\n",
      "0.32024416928125965\n",
      "3.4742917110962486\n",
      "76.89622222222224\n",
      "76.8912\n",
      "linear\n",
      "linear\n",
      "linear\n",
      "linear\n",
      "linear\n",
      "linear\n",
      "linear\n",
      "linear\n",
      "linear\n",
      "linear\n",
      "linear\n",
      "linear\n",
      "linear\n",
      "linear\n",
      "linear\n",
      "linear\n",
      "linear\n",
      "linear\n",
      "linear\n",
      "linear\n",
      "0.0001\n",
      "0.3203853759098539\n",
      "5.200435154997886\n",
      "76.88506666666667\n",
      "76.88040000000001\n",
      "linear\n",
      "linear\n",
      "linear\n",
      "linear\n",
      "linear\n",
      "linear\n",
      "linear\n",
      "linear\n",
      "linear\n",
      "linear\n",
      "linear\n",
      "linear\n",
      "linear\n",
      "linear\n",
      "linear\n",
      "linear\n",
      "linear\n",
      "linear\n",
      "linear\n",
      "linear\n",
      "0.001\n",
      "0.32078825620657286\n",
      "5.710935147155677\n",
      "76.88004444444445\n",
      "76.8672\n",
      "linear\n",
      "linear\n",
      "linear\n",
      "linear\n",
      "linear\n",
      "linear\n",
      "linear\n",
      "linear\n",
      "linear\n",
      "linear\n",
      "linear\n",
      "linear\n",
      "linear\n",
      "linear\n",
      "linear\n",
      "linear\n",
      "linear\n",
      "linear\n",
      "linear\n",
      "linear\n",
      "0.01\n",
      "0.32348932508714023\n",
      "72.40281104778771\n",
      "76.88773333333333\n",
      "76.88\n",
      "linear\n",
      "linear\n",
      "linear\n",
      "linear\n",
      "linear\n",
      "linear\n",
      "linear\n",
      "linear\n",
      "linear\n",
      "linear\n",
      "linear\n",
      "linear\n",
      "linear\n",
      "linear\n",
      "linear\n",
      "linear\n",
      "linear\n",
      "linear\n",
      "linear\n",
      "linear\n",
      "0.1\n",
      "0.3369901123469515\n",
      "1586.840444034282\n",
      "76.62471111111111\n",
      "76.616\n",
      "linear\n",
      "linear\n",
      "linear\n",
      "linear\n",
      "linear\n",
      "linear\n",
      "linear\n",
      "linear\n",
      "linear\n",
      "linear\n",
      "linear\n",
      "linear\n",
      "linear\n",
      "linear\n",
      "linear\n",
      "linear\n",
      "linear\n",
      "linear\n",
      "linear\n",
      "linear\n",
      "1.0\n",
      "0.37580044266432105\n",
      "1633.8777197740787\n",
      "73.80653333333333\n",
      "73.79679999999999\n",
      "linear\n",
      "linear\n",
      "linear\n",
      "linear\n",
      "linear\n",
      "linear\n",
      "linear\n",
      "linear\n",
      "linear\n",
      "linear\n",
      "linear\n",
      "linear\n",
      "linear\n",
      "linear\n",
      "linear\n",
      "linear\n",
      "linear\n",
      "linear\n",
      "linear\n",
      "linear\n",
      "10.0\n",
      "0.427385607103841\n",
      "4.633593466792318\n",
      "68.92271111111111\n",
      "68.9236\n"
     ]
    }
   ],
   "source": [
    "losses_tr = np.zeros(len(lambdas))\n",
    "losses_val = np.zeros(len(lambdas))\n",
    "\n",
    "k_fold = 10\n",
    "seed = 1\n",
    "loss_min = np.inf\n",
    "max_accuracy = 0\n",
    "\n",
    "#CHOOSE LAMBDA AND GAMMA\n",
    "for ind_lambda, lambda_ in enumerate(lambdas):\n",
    "    \n",
    "    loss_training = 0\n",
    "    loss_validation = 0\n",
    "    training_accuracy = 0\n",
    "    validation_accuracy = 0\n",
    "    for i,k in enumerate(range(k_fold)):\n",
    "        tx_train, y_train, tx_val, y_val = cross_validation(y, tx, k, k_fold, seed)\n",
    "        w, loss_train_k = ridge_regression(y_train, tx_train, lambda_)\n",
    "        loss_val_k = ridge_loss (y_val,tx_val,w,lambda_)\n",
    "        loss_training += loss_train_k\n",
    "        loss_validation += loss_val_k\n",
    "        training_accuracy += predict_accuracy(y_train,tx_train,w, 'linear')\n",
    "        validation_accuracy += predict_accuracy(y_val,tx_val,w, 'linear')\n",
    "        \n",
    "    training_accuracy /= k_fold\n",
    "    validation_accuracy /= k_fold\n",
    "    loss_training /= k_fold\n",
    "    loss_validation /= k_fold\n",
    "    print(lambda_)\n",
    "    print(loss_training)\n",
    "    print(loss_validation)\n",
    "    print(training_accuracy)\n",
    "    print(validation_accuracy)\n",
    "    if (validation_accuracy > max_accuracy):\n",
    "        weights_star = w\n",
    "        lambda_star = lambda_\n",
    "        loss_min = loss_validation\n",
    "        max_accuracy = validation_accuracy \n",
    "    losses_tr[ind_lambda] = loss_training\n",
    "    losses_val[ind_lambda] = loss_validation\n",
    "\n"
   ]
  },
  {
   "cell_type": "code",
   "execution_count": null,
   "metadata": {},
   "outputs": [],
   "source": [
    "lambdas"
   ]
  },
  {
   "cell_type": "code",
   "execution_count": 106,
   "metadata": {},
   "outputs": [
    {
     "data": {
      "text/plain": [
       "(2.945208588852501, 1e-09, 77.6112)"
      ]
     },
     "execution_count": 106,
     "metadata": {},
     "output_type": "execute_result"
    }
   ],
   "source": [
    "loss_min, lambda_star, max_accuracy"
   ]
  },
  {
   "cell_type": "code",
   "execution_count": 107,
   "metadata": {},
   "outputs": [
    {
     "name": "stdout",
     "output_type": "stream",
     "text": [
      "linear\n"
     ]
    },
    {
     "data": {
      "text/plain": [
       "77.6108"
      ]
     },
     "execution_count": 107,
     "metadata": {},
     "output_type": "execute_result"
    }
   ],
   "source": [
    "#PREDICT TRAINING ACCURACY\n",
    "training_accuracy = predict_accuracy(y,tx,weights_star,'linear')\n",
    "training_accuracy"
   ]
  },
  {
   "cell_type": "code",
   "execution_count": null,
   "metadata": {},
   "outputs": [],
   "source": []
  },
  {
   "cell_type": "code",
   "execution_count": 108,
   "metadata": {},
   "outputs": [],
   "source": [
    "#LOAD TEST SET\n",
    "DATA_TEST_PATH = 'data/test.csv'\n",
    "ytest, tX_test, ids_test = load_csv_data(DATA_TEST_PATH)"
   ]
  },
  {
   "cell_type": "code",
   "execution_count": 109,
   "metadata": {},
   "outputs": [
    {
     "data": {
      "text/plain": [
       "(568238, 23)"
      ]
     },
     "execution_count": 109,
     "metadata": {},
     "output_type": "execute_result"
    }
   ],
   "source": [
    "#CLEAN AND STANDARDIZE TEST SET\n",
    "tX_test_clean = np.delete(tX_test, ind_remov, axis=1)\n",
    "tX_test_clean.shape\n"
   ]
  },
  {
   "cell_type": "code",
   "execution_count": 110,
   "metadata": {},
   "outputs": [
    {
     "data": {
      "text/plain": [
       "(568238, 23)"
      ]
     },
     "execution_count": 110,
     "metadata": {},
     "output_type": "execute_result"
    }
   ],
   "source": [
    "tx_test_clean = remove_undefined_values (tX_test_clean)\n",
    "tx_test_clean.shape"
   ]
  },
  {
   "cell_type": "code",
   "execution_count": 111,
   "metadata": {},
   "outputs": [],
   "source": [
    "tx_test_clean, _, _ = standardize(tx_test_clean,0)\n"
   ]
  },
  {
   "cell_type": "code",
   "execution_count": 112,
   "metadata": {},
   "outputs": [],
   "source": [
    "tx_test_augmented = build_poly_all_features(tx_test_clean,4)"
   ]
  },
  {
   "cell_type": "code",
   "execution_count": 113,
   "metadata": {},
   "outputs": [
    {
     "data": {
      "text/plain": [
       "(568238, 92)"
      ]
     },
     "execution_count": 113,
     "metadata": {},
     "output_type": "execute_result"
    }
   ],
   "source": [
    "tx_test_augmented.shape"
   ]
  },
  {
   "cell_type": "code",
   "execution_count": 114,
   "metadata": {},
   "outputs": [],
   "source": [
    "#BUILD TEST MODEL\n",
    "ytest, tx_test = build_model_data(tx_test_augmented,ytest)"
   ]
  },
  {
   "cell_type": "code",
   "execution_count": 115,
   "metadata": {},
   "outputs": [
    {
     "name": "stdout",
     "output_type": "stream",
     "text": [
      "linear\n"
     ]
    }
   ],
   "source": [
    "#PREDICT LABELS\n",
    "OUTPUT_PATH = 'data/submission_reg_logistic-degre4.csv'\n",
    "y_pred = predict_labels(weights_star, tx_test,'linear')\n",
    "create_csv_submission(ids_test, y_pred, OUTPUT_PATH)"
   ]
  },
  {
   "cell_type": "code",
   "execution_count": 92,
   "metadata": {},
   "outputs": [
    {
     "data": {
      "text/plain": [
       "array([[ 1.],\n",
       "       [-1.],\n",
       "       [-1.],\n",
       "       ...,\n",
       "       [ 1.],\n",
       "       [-1.],\n",
       "       [-1.]])"
      ]
     },
     "execution_count": 92,
     "metadata": {},
     "output_type": "execute_result"
    }
   ],
   "source": [
    "y"
   ]
  },
  {
   "cell_type": "code",
   "execution_count": 93,
   "metadata": {},
   "outputs": [
    {
     "data": {
      "text/plain": [
       "array([[ 1.],\n",
       "       [ 1.],\n",
       "       [ 1.],\n",
       "       ...,\n",
       "       [ 1.],\n",
       "       [-1.],\n",
       "       [ 1.]])"
      ]
     },
     "execution_count": 93,
     "metadata": {},
     "output_type": "execute_result"
    }
   ],
   "source": [
    "y_pred"
   ]
  },
  {
   "cell_type": "code",
   "execution_count": 95,
   "metadata": {},
   "outputs": [
    {
     "data": {
      "text/plain": [
       "array([1., 1., 1., ..., 1., 1., 1.])"
      ]
     },
     "execution_count": 95,
     "metadata": {},
     "output_type": "execute_result"
    }
   ],
   "source": [
    "ytest"
   ]
  },
  {
   "cell_type": "code",
   "execution_count": null,
   "metadata": {},
   "outputs": [],
   "source": []
  }
 ],
 "metadata": {
  "kernelspec": {
   "display_name": "Python 3",
   "language": "python",
   "name": "python3"
  },
  "language_info": {
   "codemirror_mode": {
    "name": "ipython",
    "version": 3
   },
   "file_extension": ".py",
   "mimetype": "text/x-python",
   "name": "python",
   "nbconvert_exporter": "python",
   "pygments_lexer": "ipython3",
   "version": "3.6.5"
  }
 },
 "nbformat": 4,
 "nbformat_minor": 2
}
