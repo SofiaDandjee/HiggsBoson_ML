{
 "cells": [
  {
   "cell_type": "code",
   "execution_count": 1,
   "metadata": {},
   "outputs": [],
   "source": [
    "%matplotlib inline\n",
    "import numpy as np\n",
    "import matplotlib.pyplot as plt\n",
    "%load_ext autoreload\n",
    "%autoreload 2"
   ]
  },
  {
   "cell_type": "code",
   "execution_count": 2,
   "metadata": {},
   "outputs": [],
   "source": [
    "from proj1_helpers import *\n",
    "from data_helpers import *\n",
    "from cross_validation import *\n",
    "from plots import *"
   ]
  },
  {
   "cell_type": "code",
   "execution_count": 3,
   "metadata": {},
   "outputs": [],
   "source": [
    "#LOAD TRAINING DATA\n",
    "DATA_TRAIN_PATH = 'data/train.csv'\n",
    "y, tX, ids = load_csv_data(DATA_TRAIN_PATH)"
   ]
  },
  {
   "cell_type": "code",
   "execution_count": 4,
   "metadata": {},
   "outputs": [
    {
     "data": {
      "text/plain": [
       "[4, 5, 6, 12, 26, 27, 28]"
      ]
     },
     "execution_count": 4,
     "metadata": {},
     "output_type": "execute_result"
    }
   ],
   "source": [
    "#CLEAN TRAINING DATA\n",
    "bounds = [0.0, 0.5]\n",
    "tx_clean, ind_remov = treat_undefined_values(bounds, tX)\n",
    "ind_remov"
   ]
  },
  {
   "cell_type": "code",
   "execution_count": 5,
   "metadata": {},
   "outputs": [],
   "source": [
    "#MODEL BUILDING\n",
    "tx, mean, std = standardize(tx_clean,0)\n",
    "tx_augmented = build_poly_all_features(tx,3)\n",
    "y,tx = build_model_data(tx_augmented,y)\n",
    "y = classify(y)\n",
    "num_samples = len(y)\n",
    "num_features = tx.shape[1]\n",
    "y = y.reshape(num_samples,1)\n"
   ]
  },
  {
   "cell_type": "code",
   "execution_count": 6,
   "metadata": {},
   "outputs": [
    {
     "data": {
      "text/plain": [
       "(250000, 70)"
      ]
     },
     "execution_count": 6,
     "metadata": {},
     "output_type": "execute_result"
    }
   ],
   "source": [
    "num_samples, num_features\n",
    "tx.shape"
   ]
  },
  {
   "cell_type": "code",
   "execution_count": 7,
   "metadata": {},
   "outputs": [],
   "source": [
    "from compute_gradient import *\n",
    "from cost import *\n",
    "from implementations import *"
   ]
  },
  {
   "cell_type": "code",
   "execution_count": 8,
   "metadata": {},
   "outputs": [
    {
     "data": {
      "text/plain": [
       "((250000, 70), (250000, 1), array([[1.],\n",
       "        [0.],\n",
       "        [0.],\n",
       "        ...,\n",
       "        [1.],\n",
       "        [0.],\n",
       "        [0.]]))"
      ]
     },
     "execution_count": 8,
     "metadata": {},
     "output_type": "execute_result"
    }
   ],
   "source": [
    "#Initial weight\n",
    "\n",
    "\n",
    "#Maximum iterations through the whole set\n",
    "max_iter = 100\n",
    "\n",
    "#0.001 nan\n",
    "#0.0005 nan\n",
    "\n",
    "#Step-size\n",
    "gammas = np.logspace(-6,-1, 7)\n",
    "lambdas = np.logspace (-6,-1,7)\n",
    "\n",
    "\n",
    "#Regularization factor\n",
    "# lambda_ = 0.01 142000 loss 10 000 iters\n",
    "#lambda_ = 0.001 141000 loss 10 000 iters\n",
    "#lambda_ = 0.02\n",
    "#loss_min = np.inf\n",
    "tx.shape,y.shape,y"
   ]
  },
  {
   "cell_type": "code",
   "execution_count": 19,
   "metadata": {},
   "outputs": [
    {
     "name": "stdout",
     "output_type": "stream",
     "text": [
      "1e-06\n",
      "1e-06\n",
      "0.6931928748784768\n",
      "0.6928812429186292\n",
      "65.7324\n",
      "65.72919999999999\n",
      "1e-06\n",
      "6.8129206905796085e-06\n",
      "0.6936167267334739\n",
      "0.6921006315921631\n",
      "65.75280000000001\n",
      "65.7748\n"
     ]
    },
    {
     "name": "stderr",
     "output_type": "stream",
     "text": [
      "/Users/Sofia/Desktop/ML_Project1/cost.py:20: RuntimeWarning: divide by zero encountered in log\n",
      "  loss = y.T.dot(np.log(pred)) + (1 - y).T.dot(np.log(1 - pred))\n"
     ]
    },
    {
     "name": "stdout",
     "output_type": "stream",
     "text": [
      "1e-06\n",
      "4.641588833612782e-05\n",
      "0.6945158883079265\n",
      "nan\n",
      "65.9084\n",
      "65.9324\n",
      "1e-06\n",
      "0.00031622776601683794\n",
      "0.6825933753593655\n",
      "nan\n",
      "66.1192\n",
      "66.13\n",
      "1e-06\n",
      "0.0021544346900318843\n",
      "0.6556431884258214\n",
      "nan\n",
      "65.69839999999999\n",
      "65.7124\n",
      "1e-06\n",
      "0.014677992676220705\n",
      "0.4758616046670533\n",
      "nan\n",
      "68.418\n",
      "68.3852\n",
      "1e-06\n",
      "0.1\n",
      "0.007607297084776135\n",
      "nan\n",
      "64.0472\n",
      "64.1232\n",
      "6.8129206905796085e-06\n",
      "1e-06\n",
      "0.0713417800811576\n",
      "nan\n",
      "62.449600000000004\n",
      "62.449600000000004\n",
      "6.8129206905796085e-06\n",
      "6.8129206905796085e-06\n",
      "0.07129049039965242\n",
      "nan\n",
      "62.4544\n",
      "62.4544\n",
      "6.8129206905796085e-06\n",
      "4.641588833612782e-05\n",
      "0.07094250506559188\n",
      "nan\n",
      "62.476\n",
      "62.474000000000004\n",
      "6.8129206905796085e-06\n",
      "0.00031622776601683794\n",
      "0.0686368795696109\n",
      "nan\n",
      "62.6036\n",
      "62.614000000000004\n",
      "6.8129206905796085e-06\n",
      "0.0021544346900318843\n",
      "0.05549291772255874\n",
      "nan\n",
      "63.385999999999996\n",
      "63.3644\n",
      "6.8129206905796085e-06\n",
      "0.014677992676220705\n",
      "0.025908375298101784\n",
      "nan\n",
      "65.5832\n",
      "65.5284\n",
      "6.8129206905796085e-06\n",
      "0.1\n",
      "0.062226961973989484\n",
      "nan\n",
      "67.4488\n",
      "67.3416\n",
      "4.641588833612782e-05\n",
      "1e-06\n",
      "3.5229450940404714\n",
      "nan\n",
      "66.00919999999999\n",
      "66.0096\n",
      "4.641588833612782e-05\n",
      "6.8129206905796085e-06\n",
      "3.521550269836046\n",
      "nan\n",
      "66.00880000000001\n",
      "66.00880000000001\n",
      "4.641588833612782e-05\n",
      "4.641588833612782e-05\n",
      "3.5120582076262297\n",
      "nan\n",
      "66.0076\n",
      "66.00800000000001\n",
      "4.641588833612782e-05\n",
      "0.00031622776601683794\n",
      "3.447860793245287\n",
      "nan\n",
      "66.056\n",
      "66.0488\n",
      "4.641588833612782e-05\n",
      "0.0021544346900318843\n",
      "3.026081156251743\n",
      "nan\n",
      "66.3948\n",
      "66.3724\n",
      "4.641588833612782e-05\n",
      "0.014677992676220705\n",
      "0.7753678376196371\n",
      "nan\n",
      "67.86160000000001\n",
      "67.8104\n",
      "4.641588833612782e-05\n",
      "0.1\n",
      "0.02958972313876654\n",
      "nan\n",
      "66.1784\n",
      "66.2344\n",
      "0.00031622776601683794\n",
      "1e-06\n",
      "0.7995618211421334\n",
      "nan\n",
      "62.8504\n",
      "62.849999999999994\n",
      "0.00031622776601683794\n",
      "6.8129206905796085e-06\n",
      "0.800098799139112\n",
      "nan\n",
      "62.8572\n",
      "62.858000000000004\n",
      "0.00031622776601683794\n",
      "4.641588833612782e-05\n",
      "0.8037637038075331\n",
      "nan\n",
      "62.9024\n",
      "62.894\n",
      "0.00031622776601683794\n",
      "0.00031622776601683794\n",
      "0.8290252526126282\n",
      "nan\n",
      "63.150000000000006\n",
      "63.154799999999994\n",
      "0.00031622776601683794\n",
      "0.0021544346900318843\n",
      "1.0126641799664844\n",
      "nan\n",
      "64.7016\n",
      "64.68440000000001\n",
      "0.00031622776601683794\n",
      "0.014677992676220705\n",
      "0.20771302862002852\n",
      "nan\n",
      "69.0676\n",
      "69.0432\n",
      "0.00031622776601683794\n",
      "0.1\n",
      "0.6994086444304053\n",
      "nan\n",
      "67.254\n",
      "67.2256\n",
      "0.0021544346900318843\n",
      "1e-06\n",
      "1.4110277435056158\n",
      "nan\n",
      "62.052400000000006\n",
      "62.052800000000005\n",
      "0.0021544346900318843\n",
      "6.8129206905796085e-06\n",
      "1.409846225553472\n",
      "nan\n",
      "62.064800000000005\n",
      "62.066\n",
      "0.0021544346900318843\n",
      "4.641588833612782e-05\n",
      "1.4018127243332272\n",
      "nan\n",
      "62.1228\n",
      "62.135999999999996\n",
      "0.0021544346900318843\n",
      "0.00031622776601683794\n",
      "1.3478636459692306\n",
      "nan\n",
      "62.5908\n",
      "62.5868\n",
      "0.0021544346900318843\n",
      "0.0021544346900318843\n",
      "1.1097983460059218\n",
      "nan\n",
      "65.1752\n",
      "65.16919999999999\n",
      "0.0021544346900318843\n",
      "0.014677992676220705\n",
      "3.0737012660016454\n",
      "nan\n",
      "71.9168\n",
      "71.99119999999999\n",
      "0.0021544346900318843\n",
      "0.1\n",
      "0.8635017151376421\n",
      "nan\n",
      "68.5372\n",
      "68.598\n",
      "0.014677992676220705\n",
      "1e-06\n",
      "3.901327929137958\n",
      "nan\n",
      "64.244\n",
      "64.2432\n",
      "0.014677992676220705\n",
      "6.8129206905796085e-06\n",
      "3.899723870181222\n",
      "nan\n",
      "64.2544\n",
      "64.2512\n",
      "0.014677992676220705\n",
      "4.641588833612782e-05\n",
      "3.888834293701855\n",
      "nan\n",
      "64.304\n",
      "64.3108\n",
      "0.014677992676220705\n",
      "0.00031622776601683794\n",
      "3.8162901635404256\n",
      "nan\n",
      "64.7\n",
      "64.6856\n",
      "0.014677992676220705\n",
      "0.0021544346900318843\n",
      "3.3649191719285447\n",
      "nan\n",
      "66.81039999999999\n",
      "66.7856\n",
      "0.014677992676220705\n",
      "0.014677992676220705\n",
      "1.9297203683979993\n",
      "nan\n",
      "71.878\n",
      "71.8528\n",
      "0.014677992676220705\n",
      "0.1\n",
      "1.9909395862365442\n",
      "nan\n",
      "65.07679999999999\n",
      "65.0608\n",
      "0.1\n",
      "1e-06\n",
      "9.597540842149861\n",
      "nan\n",
      "64.0496\n",
      "64.0496\n",
      "0.1\n",
      "6.8129206905796085e-06\n",
      "9.592705762958676\n",
      "nan\n",
      "64.0512\n",
      "64.0528\n",
      "0.1\n",
      "4.641588833612782e-05\n",
      "9.559845533278242\n",
      "nan\n",
      "64.0724\n",
      "64.0708\n",
      "0.1\n",
      "0.00031622776601683794\n",
      "9.33968040676154\n",
      "nan\n",
      "64.2304\n",
      "64.23\n",
      "0.1\n",
      "0.0021544346900318843\n",
      "7.999907239482373\n",
      "nan\n",
      "65.3024\n",
      "65.3204\n",
      "0.1\n",
      "0.014677992676220705\n",
      "3.325294159272524\n",
      "nan\n",
      "68.91159999999999\n",
      "68.8672\n",
      "0.1\n",
      "0.1\n",
      "3.4942223506294647\n",
      "nan\n",
      "61.4864\n",
      "61.6016\n"
     ]
    }
   ],
   "source": [
    "losses_tr = np.zeros((len(gammas),len(lambdas)))\n",
    "losses_val = np.zeros((len(gammas),len(lambdas)))\n",
    "\n",
    "k_fold = 2\n",
    "seed = 1\n",
    "loss_min = np.inf\n",
    "initial_w = np.zeros((tx.shape[1],1))\n",
    "max_accuracy = 0\n",
    "#CHOOSE LAMBDA AND GAMMA\n",
    "for ind_lambda, lambda_ in enumerate(lambdas):\n",
    "    for ind_gamma ,gamma_ in enumerate (gammas):\n",
    "        loss_training = 0\n",
    "        loss_validation = 0\n",
    "        training_accuracy = 0\n",
    "        validation_accuracy = 0\n",
    "        for i,k in enumerate(range(k_fold)):\n",
    "            \n",
    "            tx_train, y_train, tx_val, y_val = cross_validation(y, tx, k, k_fold, seed)\n",
    "            w, loss_train_k = reg_logistic_regression(y_train, tx_train, lambda_, initial_w, max_iter, gamma_)\n",
    "            loss_val_k = reg_logistic_loss (y_val,tx_val,w,lambda_)/len(y_val)\n",
    "            #loss_train_k /= len(y_train)\n",
    "            loss_training += loss_train_k\n",
    "            loss_validation += loss_val_k\n",
    "            training_accuracy += predict_accuracy(y_train,tx_train,w)\n",
    "            validation_accuracy += predict_accuracy(y_val,tx_val,w)\n",
    "        \n",
    "        training_accuracy /= k_fold\n",
    "        validation_accuracy /= k_fold\n",
    "        loss_training /= k_fold\n",
    "        loss_validation /= k_fold\n",
    "        print(lambda_)\n",
    "        print(gamma_)\n",
    "        print(loss_training)\n",
    "        print(loss_validation)\n",
    "        print(training_accuracy)\n",
    "        print(validation_accuracy)\n",
    "        if (validation_accuracy > max_accuracy):\n",
    "            weights_star = w\n",
    "            lambda_star = lambda_\n",
    "            gamma_star = gamma_\n",
    "            loss_min = loss_validation\n",
    "            max_accuracy = validation_accuracy\n",
    "            \n",
    "        losses_tr[ind_lambda][ind_gamma] = loss_training\n",
    "        losses_val[ind_lambda][ind_gamma] = loss_validation\n",
    "\n"
   ]
  },
  {
   "cell_type": "code",
   "execution_count": 26,
   "metadata": {},
   "outputs": [
    {
     "data": {
      "text/plain": [
       "array([1.00000000e-05, 4.64158883e-05, 2.15443469e-04, 1.00000000e-03,\n",
       "       4.64158883e-03, 2.15443469e-02, 1.00000000e-01])"
      ]
     },
     "execution_count": 26,
     "metadata": {},
     "output_type": "execute_result"
    }
   ],
   "source": [
    "lambdas"
   ]
  },
  {
   "cell_type": "code",
   "execution_count": 27,
   "metadata": {},
   "outputs": [
    {
     "data": {
      "text/plain": [
       "array([1.00000000e-06, 6.81292069e-06, 4.64158883e-05, 3.16227766e-04,\n",
       "       2.15443469e-03, 1.46779927e-02, 1.00000000e-01])"
      ]
     },
     "execution_count": 27,
     "metadata": {},
     "output_type": "execute_result"
    }
   ],
   "source": [
    "gammas"
   ]
  },
  {
   "cell_type": "code",
   "execution_count": 28,
   "metadata": {},
   "outputs": [
    {
     "data": {
      "text/plain": [
       "(array([[0.69319692,        inf,        nan,        nan,        nan,\n",
       "                nan,        nan],\n",
       "        [       nan,        nan,        nan,        nan,        nan,\n",
       "                nan,        nan],\n",
       "        [       nan,        nan,        nan,        nan,        nan,\n",
       "                nan,        nan],\n",
       "        [       nan,        nan,        nan,        nan,        nan,\n",
       "                nan,        nan],\n",
       "        [       nan,        nan,        nan,        nan,        nan,\n",
       "                nan,        nan],\n",
       "        [       nan,        nan,        nan,        nan,        nan,\n",
       "                nan,        nan],\n",
       "        [       nan,        nan,        nan,        nan,        nan,\n",
       "                nan,        nan]]),\n",
       " array([[0.69288124, 0.69210063,        nan,        nan,        nan,\n",
       "                nan,        nan],\n",
       "        [       nan,        nan,        nan,        nan,        nan,\n",
       "                nan,        nan],\n",
       "        [       nan,        nan,        nan,        nan,        nan,\n",
       "                nan,        nan],\n",
       "        [       nan,        nan,        nan,        nan,        nan,\n",
       "                nan,        nan],\n",
       "        [       nan,        nan,        nan,        nan,        nan,\n",
       "                nan,        nan],\n",
       "        [       nan,        nan,        nan,        nan,        nan,\n",
       "                nan,        nan],\n",
       "        [       nan,        nan,        nan,        nan,        nan,\n",
       "                nan,        nan]]))"
      ]
     },
     "execution_count": 28,
     "metadata": {},
     "output_type": "execute_result"
    }
   ],
   "source": [
    "losses_tr, losses_val"
   ]
  },
  {
   "cell_type": "code",
   "execution_count": 22,
   "metadata": {
    "scrolled": true
   },
   "outputs": [
    {
     "data": {
      "text/plain": [
       "(nan, 0.0021544346900318843, 0.014677992676220705)"
      ]
     },
     "execution_count": 22,
     "metadata": {},
     "output_type": "execute_result"
    }
   ],
   "source": [
    "loss_min, lambda_star, gamma_star"
   ]
  },
  {
   "cell_type": "code",
   "execution_count": 23,
   "metadata": {},
   "outputs": [
    {
     "data": {
      "text/plain": [
       "57.5268"
      ]
     },
     "execution_count": 23,
     "metadata": {},
     "output_type": "execute_result"
    }
   ],
   "source": [
    "#PREDICT TRAINING ACCURACY\n",
    "training_accuracy = predict_accuracy(y,tx,weights_star)\n",
    "training_accuracy"
   ]
  },
  {
   "cell_type": "code",
   "execution_count": null,
   "metadata": {},
   "outputs": [],
   "source": []
  },
  {
   "cell_type": "code",
   "execution_count": 25,
   "metadata": {},
   "outputs": [],
   "source": [
    "#LOAD TEST SET\n",
    "DATA_TEST_PATH = 'data/test.csv'\n",
    "ytest, tX_test, ids_test = load_csv_data(DATA_TEST_PATH)"
   ]
  },
  {
   "cell_type": "code",
   "execution_count": 26,
   "metadata": {},
   "outputs": [
    {
     "data": {
      "text/plain": [
       "(568238, 23)"
      ]
     },
     "execution_count": 26,
     "metadata": {},
     "output_type": "execute_result"
    }
   ],
   "source": [
    "#CLEAN AND STANDARDIZE TEST SET\n",
    "tX_test_clean = np.delete(tX_test, ind_remov, axis=1)\n",
    "tX_test_clean.shape\n"
   ]
  },
  {
   "cell_type": "code",
   "execution_count": 27,
   "metadata": {},
   "outputs": [
    {
     "data": {
      "text/plain": [
       "(568238, 23)"
      ]
     },
     "execution_count": 27,
     "metadata": {},
     "output_type": "execute_result"
    }
   ],
   "source": [
    "bound = [0.0, 1.0]\n",
    "tx_test_clean,_ = treat_undefined_values (bound,tX_test_clean)\n",
    "tx_test_clean.shape"
   ]
  },
  {
   "cell_type": "code",
   "execution_count": 28,
   "metadata": {},
   "outputs": [],
   "source": [
    "tx_test_clean, _, _ = standardize(tx_test_clean,0)\n"
   ]
  },
  {
   "cell_type": "code",
   "execution_count": 29,
   "metadata": {},
   "outputs": [],
   "source": [
    "tx_test_augmented = build_poly_all_features(tx_test_clean,3)"
   ]
  },
  {
   "cell_type": "code",
   "execution_count": 30,
   "metadata": {},
   "outputs": [
    {
     "data": {
      "text/plain": [
       "(568238, 69)"
      ]
     },
     "execution_count": 30,
     "metadata": {},
     "output_type": "execute_result"
    }
   ],
   "source": [
    "tx_test_augmented.shape"
   ]
  },
  {
   "cell_type": "code",
   "execution_count": 31,
   "metadata": {},
   "outputs": [
    {
     "data": {
      "text/plain": [
       "(568238, 70)"
      ]
     },
     "execution_count": 31,
     "metadata": {},
     "output_type": "execute_result"
    }
   ],
   "source": [
    "#BUILD TEST MODEL\n",
    "ytest, tx_test = build_model_data(tx_test_augmented,ytest)\n",
    "tx_test.shape"
   ]
  },
  {
   "cell_type": "code",
   "execution_count": 32,
   "metadata": {},
   "outputs": [],
   "source": [
    "#PREDICT LABELS\n",
    "OUTPUT_PATH = 'data/submission_reg_logistic-degre3.csv'\n",
    "y_pred = predict_labels(weights_star, tx_test,'logistic')\n",
    "create_csv_submission(ids_test, y_pred, OUTPUT_PATH)"
   ]
  },
  {
   "cell_type": "code",
   "execution_count": null,
   "metadata": {},
   "outputs": [],
   "source": []
  }
 ],
 "metadata": {
  "kernelspec": {
   "display_name": "Python 3",
   "language": "python",
   "name": "python3"
  },
  "language_info": {
   "codemirror_mode": {
    "name": "ipython",
    "version": 3
   },
   "file_extension": ".py",
   "mimetype": "text/x-python",
   "name": "python",
   "nbconvert_exporter": "python",
   "pygments_lexer": "ipython3",
   "version": "3.7.4"
  }
 },
 "nbformat": 4,
 "nbformat_minor": 2
}
