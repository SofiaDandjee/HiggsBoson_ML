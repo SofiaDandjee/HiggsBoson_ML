{
 "cells": [
  {
   "cell_type": "code",
   "execution_count": 1,
   "metadata": {},
   "outputs": [],
   "source": [
    "%matplotlib inline\n",
    "import numpy as np\n",
    "import matplotlib.pyplot as plt\n",
    "%load_ext autoreload\n",
    "%autoreload 2"
   ]
  },
  {
   "cell_type": "code",
   "execution_count": 2,
   "metadata": {},
   "outputs": [],
   "source": [
    "from proj1_helpers import *\n",
    "from data_helpers import *\n",
    "from cross_validation import *\n",
    "from plots import *"
   ]
  },
  {
   "cell_type": "code",
   "execution_count": 3,
   "metadata": {},
   "outputs": [],
   "source": [
    "#LOAD TRAINING DATA\n",
    "DATA_TRAIN_PATH = 'data/train.csv'\n",
    "y, tX, ids = load_csv_data(DATA_TRAIN_PATH)"
   ]
  },
  {
   "cell_type": "code",
   "execution_count": 4,
   "metadata": {},
   "outputs": [
    {
     "data": {
      "text/plain": [
       "[4, 5, 6, 12, 26, 27, 28]"
      ]
     },
     "execution_count": 4,
     "metadata": {},
     "output_type": "execute_result"
    }
   ],
   "source": [
    "#CLEAN TRAINING DATA\n",
    "bounds = [0.0, 0.5]\n",
    "tx_clean, ind_remov = treat_undefined_values(bounds, tX)\n",
    "ind_remov"
   ]
  },
  {
   "cell_type": "code",
   "execution_count": 5,
   "metadata": {},
   "outputs": [],
   "source": [
    "#MODEL BUILDING\n",
    "tx, mean, std = standardize(tx_clean,0)\n",
    "y,tx = build_model_data(tx,y)\n",
    "y = classify(y)\n",
    "num_samples = len(y)\n",
    "num_features = tx.shape[1]\n",
    "y = y.reshape(num_samples,1)\n"
   ]
  },
  {
   "cell_type": "code",
   "execution_count": 6,
   "metadata": {},
   "outputs": [
    {
     "data": {
      "text/plain": [
       "(250000, 24)"
      ]
     },
     "execution_count": 6,
     "metadata": {},
     "output_type": "execute_result"
    }
   ],
   "source": [
    "num_samples, num_features\n",
    "tx.shape"
   ]
  },
  {
   "cell_type": "code",
   "execution_count": 7,
   "metadata": {},
   "outputs": [],
   "source": [
    "from compute_gradient import *\n",
    "from cost import *\n",
    "from implementations import *"
   ]
  },
  {
   "cell_type": "code",
   "execution_count": 8,
   "metadata": {},
   "outputs": [
    {
     "data": {
      "text/plain": [
       "((250000, 24), (250000, 1), array([[1.],\n",
       "        [0.],\n",
       "        [0.],\n",
       "        ...,\n",
       "        [1.],\n",
       "        [0.],\n",
       "        [0.]]))"
      ]
     },
     "execution_count": 8,
     "metadata": {},
     "output_type": "execute_result"
    }
   ],
   "source": [
    "#Initial weight\n",
    "\n",
    "\n",
    "#Maximum iterations through the whole set\n",
    "max_iter = 100\n",
    "\n",
    "#0.001 nan\n",
    "#0.0005 nan\n",
    "\n",
    "#Step-size\n",
    "gammas = np.logspace(-6,-1, 7)\n",
    "lambdas = np.logspace (-5,0,7)\n",
    "\n",
    "\n",
    "#Regularization factor\n",
    "# lambda_ = 0.01 142000 loss 10 000 iters\n",
    "#lambda_ = 0.001 141000 loss 10 000 iters\n",
    "#lambda_ = 0.02\n",
    "#loss_min = np.inf\n",
    "tx.shape,y.shape,y"
   ]
  },
  {
   "cell_type": "code",
   "execution_count": 9,
   "metadata": {},
   "outputs": [
    {
     "name": "stdout",
     "output_type": "stream",
     "text": [
      "1e-05\n",
      "1e-06\n",
      "69.14327595307076\n",
      "0.6910804089800408\n",
      "65.7332\n",
      "65.7332\n",
      "1e-05\n",
      "6.8129206905796085e-06\n",
      "68.0835881664114\n",
      "0.6780215673432596\n",
      "65.7332\n",
      "65.7372\n",
      "1e-05\n",
      "4.641588833612782e-05\n",
      "64.14678774531926\n",
      "0.6280915945536306\n",
      "66.46000000000001\n",
      "66.5352\n",
      "1e-05\n",
      "0.00031622776601683794\n",
      "58.302667364255974\n",
      "0.5531699542828886\n",
      "69.2132\n",
      "69.2524\n",
      "1e-05\n",
      "0.0021544346900318843\n",
      "55.963344992491756\n",
      "0.5269656884168457\n",
      "70.26400000000001\n",
      "70.2424\n",
      "1e-05\n",
      "0.014677992676220705\n",
      "53.38394043067041\n",
      "0.5336927204498164\n",
      "70.8432\n",
      "70.8312\n"
     ]
    },
    {
     "name": "stderr",
     "output_type": "stream",
     "text": [
      "/Users/Sofia/Desktop/ML_Project1/cost.py:20: RuntimeWarning: divide by zero encountered in log\n",
      "  loss = y.T.dot(np.log(pred)) + (1 - y).T.dot(np.log(1 - pred))\n"
     ]
    },
    {
     "name": "stdout",
     "output_type": "stream",
     "text": [
      "1e-05\n",
      "0.1\n",
      "35.7115200492278\n",
      "nan\n",
      "69.648\n",
      "69.7332\n",
      "6.812920690579608e-05\n",
      "1e-06\n",
      "62.24547398848923\n",
      "nan\n",
      "70.92\n",
      "70.9188\n",
      "6.812920690579608e-05\n",
      "6.8129206905796085e-06\n",
      "61.9751696413869\n",
      "nan\n",
      "70.9728\n",
      "70.9808\n",
      "6.812920690579608e-05\n",
      "4.641588833612782e-05\n",
      "60.70578934293728\n",
      "0.5924645726436886\n",
      "71.27279999999999\n",
      "71.188\n",
      "6.812920690579608e-05\n",
      "0.00031622776601683794\n",
      "58.78091363045647\n",
      "0.5354657886303247\n",
      "71.7628\n",
      "71.7624\n",
      "6.812920690579608e-05\n",
      "0.0021544346900318843\n",
      "57.434190452153246\n",
      "0.5181621205803667\n",
      "71.3148\n",
      "71.29400000000001\n",
      "6.812920690579608e-05\n",
      "0.014677992676220705\n",
      "53.53536286725249\n",
      "0.5324496942807575\n",
      "70.96000000000001\n",
      "70.94319999999999\n",
      "6.812920690579608e-05\n",
      "0.1\n",
      "35.701975090252546\n",
      "nan\n",
      "69.61359999999999\n",
      "69.7132\n",
      "0.0004641588833612782\n",
      "1e-06\n",
      "62.48886171201791\n",
      "nan\n",
      "70.884\n",
      "70.88560000000001\n",
      "0.0004641588833612782\n",
      "6.8129206905796085e-06\n",
      "62.212702175708884\n",
      "nan\n",
      "70.9428\n",
      "70.9388\n",
      "0.0004641588833612782\n",
      "4.641588833612782e-05\n",
      "60.91815515422012\n",
      "0.591642198955932\n",
      "71.244\n",
      "71.1676\n",
      "0.0004641588833612782\n",
      "0.00031622776601683794\n",
      "58.94279699549217\n",
      "0.5348992934319144\n",
      "71.7364\n",
      "71.728\n",
      "0.0004641588833612782\n",
      "0.0021544346900318843\n",
      "57.481666059013776\n",
      "0.5179794773369667\n",
      "71.27000000000001\n",
      "71.2288\n",
      "0.0004641588833612782\n",
      "0.014677992676220705\n",
      "53.51514495604948\n",
      "0.5325928112229374\n",
      "70.87719999999999\n",
      "70.83840000000001\n",
      "0.0004641588833612782\n",
      "0.1\n",
      "35.723755838134146\n",
      "nan\n",
      "69.4896\n",
      "69.5724\n",
      "0.0031622776601683794\n",
      "1e-06\n",
      "64.02964156965577\n",
      "nan\n",
      "70.70439999999999\n",
      "70.7008\n",
      "0.0031622776601683794\n",
      "6.8129206905796085e-06\n",
      "63.701454470142934\n",
      "0.6088539823405748\n",
      "70.75880000000001\n",
      "70.7704\n",
      "0.0031622776601683794\n",
      "4.641588833612782e-05\n",
      "62.18577411905672\n",
      "0.5876168040104246\n",
      "71.082\n",
      "71.05879999999999\n",
      "0.0031622776601683794\n",
      "0.00031622776601683794\n",
      "59.81015277163725\n",
      "0.5322672911585449\n",
      "71.5832\n",
      "71.5244\n",
      "0.0031622776601683794\n",
      "0.0021544346900318843\n",
      "57.64417210257104\n",
      "0.5188353474815361\n",
      "70.90559999999999\n",
      "70.87960000000001\n",
      "0.0031622776601683794\n",
      "0.014677992676220705\n",
      "53.57973456907732\n",
      "0.535973749371591\n",
      "70.30359999999999\n",
      "70.3296\n",
      "0.0031622776601683794\n",
      "0.1\n",
      "36.106209092635005\n",
      "0.6884996661064994\n",
      "68.8412\n",
      "68.89320000000001\n",
      "0.021544346900318846\n",
      "1e-06\n",
      "69.18639023559905\n",
      "0.6036913793283674\n",
      "69.788\n",
      "69.7816\n",
      "0.021544346900318846\n",
      "6.8129206905796085e-06\n",
      "68.58827364713301\n",
      "0.5985789464188458\n",
      "69.8748\n",
      "69.86359999999999\n",
      "0.021544346900318846\n",
      "4.641588833612782e-05\n",
      "65.93246868662514\n",
      "0.5751934316274045\n",
      "70.2064\n",
      "70.2136\n",
      "0.021544346900318846\n",
      "0.00031622776601683794\n",
      "61.580249300020405\n",
      "0.5321592593605662\n",
      "70.5008\n",
      "70.5272\n",
      "0.021544346900318846\n",
      "0.0021544346900318843\n",
      "58.25590825894434\n",
      "0.5364247429212116\n",
      "69.4632\n",
      "69.40719999999999\n",
      "0.021544346900318846\n",
      "0.014677992676220705\n",
      "54.8821005936487\n",
      "0.5519482417279374\n",
      "68.92439999999999\n",
      "69.0316\n",
      "0.021544346900318846\n",
      "0.1\n",
      "37.907952032505136\n",
      "0.7094807234635475\n",
      "67.4504\n",
      "67.5832\n",
      "0.14677992676220705\n",
      "1e-06\n",
      "86.38250462740943\n",
      "0.6119762319871244\n",
      "68.3532\n",
      "68.3656\n",
      "0.14677992676220705\n",
      "6.8129206905796085e-06\n",
      "83.64915143109101\n",
      "0.6027543463045808\n",
      "68.3412\n",
      "68.3244\n",
      "0.14677992676220705\n",
      "4.641588833612782e-05\n",
      "72.80753124966276\n",
      "0.5761770494922844\n",
      "68.2208\n",
      "68.24119999999999\n",
      "0.14677992676220705\n",
      "0.00031622776601683794\n",
      "63.596533070081335\n",
      "0.5784931734673195\n",
      "67.6516\n",
      "67.6268\n",
      "0.14677992676220705\n",
      "0.0021544346900318843\n",
      "62.16091224733309\n",
      "0.5853013776217266\n",
      "67.2688\n",
      "67.28880000000001\n",
      "0.14677992676220705\n",
      "0.014677992676220705\n",
      "58.76319704276399\n",
      "0.5998447422813681\n",
      "67.0304\n",
      "67.1192\n",
      "0.14677992676220705\n",
      "0.1\n",
      "42.46233675910846\n",
      "0.6970489898622907\n",
      "65.8748\n",
      "65.9308\n",
      "1.0\n",
      "1e-06\n",
      "122.85529740593647\n",
      "0.6235832386966111\n",
      "67.76679999999999\n",
      "67.76599999999999\n",
      "1.0\n",
      "6.8129206905796085e-06\n",
      "101.03300315238505\n",
      "0.611594678455502\n",
      "67.37960000000001\n",
      "67.33760000000001\n",
      "1.0\n",
      "4.641588833612782e-05\n",
      "69.42439075818697\n",
      "0.63568323698914\n",
      "65.806\n",
      "65.8348\n",
      "1.0\n",
      "0.00031622776601683794\n",
      "67.35024966210938\n",
      "0.6510237504600243\n",
      "65.8124\n",
      "65.8356\n",
      "1.0\n",
      "0.0021544346900318843\n",
      "66.60881856514811\n",
      "0.6529477559366286\n",
      "65.7932\n",
      "65.8488\n",
      "1.0\n",
      "0.014677992676220705\n",
      "62.45454522392632\n",
      "0.663340410520139\n",
      "65.71719999999999\n",
      "65.72479999999999\n",
      "1.0\n",
      "0.1\n",
      "47.44176645629155\n",
      "0.7006444548200377\n",
      "63.1596\n",
      "63.21000000000001\n"
     ]
    }
   ],
   "source": [
    "losses_tr = np.zeros((len(gammas),len(lambdas)))\n",
    "losses_val = np.zeros((len(gammas),len(lambdas)))\n",
    "\n",
    "k_fold = 2\n",
    "seed = 1\n",
    "loss_min = np.inf\n",
    "initial_w = np.zeros((tx.shape[1],1))\n",
    "accuracy_max = 0\n",
    "\n",
    "#CHOOSE LAMBDA AND GAMMA\n",
    "for ind_lambda, lambda_ in enumerate(lambdas):\n",
    "    for ind_gamma ,gamma_ in enumerate (gammas):\n",
    "        loss_training = 0\n",
    "        loss_validation = 0\n",
    "        training_accuracy = 0\n",
    "        validation_accuracy = 0\n",
    "        for i,k in enumerate(range(k_fold)):\n",
    "            \n",
    "            tx_train, y_train, tx_val, y_val = cross_validation(y, tx, k, k_fold, seed)\n",
    "            w, loss_train_k = reg_logistic_regression(y_train, tx_train, lambda_, initial_w, max_iter, gamma_)\n",
    "            loss_val_k = reg_logistic_loss (y_val,tx_val,w,lambda_)/len(y_val)\n",
    "            #loss_train_k /= len(y_train)\n",
    "            loss_training += loss_train_k\n",
    "            loss_validation += loss_val_k\n",
    "            training_accuracy += predict_accuracy(y_train,tx_train,w)\n",
    "            validation_accuracy += predict_accuracy(y_val,tx_val,w)\n",
    "        \n",
    "        training_accuracy /= k_fold\n",
    "        validation_accuracy /= k_fold\n",
    "        loss_training /= k_fold\n",
    "        loss_validation /= k_fold\n",
    "        print(lambda_)\n",
    "        print(gamma_)\n",
    "        print(loss_training)\n",
    "        print(loss_validation)\n",
    "        print(training_accuracy)\n",
    "        print(validation_accuracy)\n",
    "        if (validation_accuracy > accuracy_max):\n",
    "            weights_star = w\n",
    "            lambda_star = lambda_\n",
    "            gamma_star = gamma_\n",
    "            accuracy_max = validation_accuracy\n",
    "        \n",
    "        losses_tr[ind_lambda][ind_gamma] = loss_training\n",
    "        losses_val[ind_lambda][ind_gamma] = loss_validation\n",
    "\n"
   ]
  },
  {
   "cell_type": "code",
   "execution_count": null,
   "metadata": {},
   "outputs": [],
   "source": [
    "lambdas"
   ]
  },
  {
   "cell_type": "code",
   "execution_count": 37,
   "metadata": {},
   "outputs": [
    {
     "data": {
      "text/plain": [
       "71.8224"
      ]
     },
     "execution_count": 37,
     "metadata": {},
     "output_type": "execute_result"
    }
   ],
   "source": [
    "accuracy_max"
   ]
  },
  {
   "cell_type": "code",
   "execution_count": null,
   "metadata": {},
   "outputs": [],
   "source": [
    "gammas"
   ]
  },
  {
   "cell_type": "code",
   "execution_count": null,
   "metadata": {},
   "outputs": [],
   "source": [
    "losses_tr, losses_val"
   ]
  },
  {
   "cell_type": "code",
   "execution_count": 38,
   "metadata": {},
   "outputs": [
    {
     "data": {
      "text/plain": [
       "(inf, 0.0004641588833612782, 0.014677992676220705)"
      ]
     },
     "execution_count": 38,
     "metadata": {},
     "output_type": "execute_result"
    }
   ],
   "source": [
    "loss_min, lambda_star, gamma_star"
   ]
  },
  {
   "cell_type": "code",
   "execution_count": 39,
   "metadata": {},
   "outputs": [
    {
     "data": {
      "text/plain": [
       "65.6512"
      ]
     },
     "execution_count": 39,
     "metadata": {},
     "output_type": "execute_result"
    }
   ],
   "source": [
    "#PREDICT TRAINING ACCURACY\n",
    "training_accuracy = predict_accuracy(y,tx,weights_star)\n",
    "training_accuracy"
   ]
  },
  {
   "cell_type": "code",
   "execution_count": 198,
   "metadata": {},
   "outputs": [],
   "source": [
    "#LOAD TEST SET\n",
    "DATA_TEST_PATH = 'data/test.csv'\n",
    "ytest, tX_test, ids_test = load_csv_data(DATA_TEST_PATH)"
   ]
  },
  {
   "cell_type": "code",
   "execution_count": 203,
   "metadata": {},
   "outputs": [
    {
     "data": {
      "text/plain": [
       "(568238, 23)"
      ]
     },
     "execution_count": 203,
     "metadata": {},
     "output_type": "execute_result"
    }
   ],
   "source": [
    "#CLEAN AND STANDARDIZE TEST SET\n",
    "tX_test_clean = np.delete(tX_test, ind_remov, axis=1)\n",
    "tX_test_clean.shape\n"
   ]
  },
  {
   "cell_type": "code",
   "execution_count": 206,
   "metadata": {},
   "outputs": [
    {
     "data": {
      "text/plain": [
       "(568238, 23)"
      ]
     },
     "execution_count": 206,
     "metadata": {},
     "output_type": "execute_result"
    }
   ],
   "source": [
    "tx_test_clean = remove_undefined_values (tX_test_clean)\n",
    "tx_test_clean.shape"
   ]
  },
  {
   "cell_type": "code",
   "execution_count": 207,
   "metadata": {},
   "outputs": [],
   "source": [
    "tx_test_clean, _, _ = standardize(tx_test_clean,0)\n"
   ]
  },
  {
   "cell_type": "code",
   "execution_count": 210,
   "metadata": {},
   "outputs": [
    {
     "data": {
      "text/plain": [
       "(568238, 23)"
      ]
     },
     "execution_count": 210,
     "metadata": {},
     "output_type": "execute_result"
    }
   ],
   "source": [
    "tx_test_augmented = build_poly_all_features(tx_test_clean,2)"
   ]
  },
  {
   "cell_type": "code",
   "execution_count": 213,
   "metadata": {},
   "outputs": [
    {
     "data": {
      "text/plain": [
       "(568238, 46)"
      ]
     },
     "execution_count": 213,
     "metadata": {},
     "output_type": "execute_result"
    }
   ],
   "source": [
    "tx_test_augmented.shape"
   ]
  },
  {
   "cell_type": "code",
   "execution_count": 214,
   "metadata": {},
   "outputs": [],
   "source": [
    "#BUILD TEST MODEL\n",
    "ytest, tx_test = build_model_data(tx_test_augmented,ytest)"
   ]
  },
  {
   "cell_type": "code",
   "execution_count": 215,
   "metadata": {},
   "outputs": [],
   "source": [
    "#PREDICT LABELS\n",
    "OUTPUT_PATH = 'data/submission_reg_logistic-degre2.csv'\n",
    "y_pred = predict_labels(weights_star, tx_test,'logistic')\n",
    "create_csv_submission(ids_test, y_pred, OUTPUT_PATH)"
   ]
  }
 ],
 "metadata": {
  "kernelspec": {
   "display_name": "Python 3",
   "language": "python",
   "name": "python3"
  },
  "language_info": {
   "codemirror_mode": {
    "name": "ipython",
    "version": 3
   },
   "file_extension": ".py",
   "mimetype": "text/x-python",
   "name": "python",
   "nbconvert_exporter": "python",
   "pygments_lexer": "ipython3",
   "version": "3.6.5"
  }
 },
 "nbformat": 4,
 "nbformat_minor": 2
}
