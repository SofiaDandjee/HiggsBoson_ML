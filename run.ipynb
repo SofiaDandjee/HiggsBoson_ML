{
 "cells": [
  {
   "cell_type": "code",
   "execution_count": 11,
   "metadata": {},
   "outputs": [
    {
     "name": "stdout",
     "output_type": "stream",
     "text": [
      "The autoreload extension is already loaded. To reload it, use:\n",
      "  %reload_ext autoreload\n"
     ]
    }
   ],
   "source": [
    "%matplotlib inline\n",
    "import numpy as np\n",
    "import collections \n",
    "import matplotlib.pyplot as plt\n",
    "%load_ext autoreload\n",
    "%autoreload 2"
   ]
  },
  {
   "cell_type": "code",
   "execution_count": 12,
   "metadata": {},
   "outputs": [],
   "source": [
    "from proj1_helpers import *\n",
    "from data_helpers import *\n",
    "from cross_validation import cross_validation\n",
    "from implementations import ridge_regression\n",
    "from cost import compute_loss\n",
    "from plots import plot_cross_validation"
   ]
  },
  {
   "cell_type": "markdown",
   "metadata": {},
   "source": [
    "## Load train and test data"
   ]
  },
  {
   "cell_type": "markdown",
   "metadata": {},
   "source": [
    "### Load train and test data"
   ]
  },
  {
   "cell_type": "code",
   "execution_count": 13,
   "metadata": {},
   "outputs": [],
   "source": [
    "# Data paths\n",
    "DATA_TRAIN_PATH = 'data/train.csv'\n",
    "DATA_TEST_PATH = 'data/test.csv'\n",
    "\n",
    "# Load data\n",
    "y_train, x_train, ids_train = load_csv_data(DATA_TRAIN_PATH)\n",
    "y_test, x_test, ids_test = load_csv_data(DATA_TEST_PATH)"
   ]
  },
  {
   "cell_type": "markdown",
   "metadata": {},
   "source": [
    "### Split the data in three samples in function of the jet value"
   ]
  },
  {
   "cell_type": "code",
   "execution_count": 14,
   "metadata": {},
   "outputs": [],
   "source": [
    "jet_train_samples = get_jet_samples(x_train)\n",
    "jet_test_samples = get_jet_samples(x_test)"
   ]
  },
  {
   "cell_type": "markdown",
   "metadata": {},
   "source": [
    "### Define parameters"
   ]
  },
  {
   "cell_type": "code",
   "execution_count": 15,
   "metadata": {},
   "outputs": [],
   "source": [
    "degrees = [10, 10, 10]\n",
    "lambdas = [1e-3, 1e-3, 1e-3]"
   ]
  },
  {
   "cell_type": "markdown",
   "metadata": {},
   "source": [
    "## Ridge regression and predictions"
   ]
  },
  {
   "cell_type": "code",
   "execution_count": 44,
   "metadata": {},
   "outputs": [
    {
     "name": "stdout",
     "output_type": "stream",
     "text": [
      "0\n",
      "15002\n",
      "20644\n",
      "25492\n",
      "0.7267002518891688\n",
      "0.5884983524242899\n",
      "0.6503381307438876\n",
      "1\n",
      "19020\n",
      "25588\n",
      "27710\n",
      "0.7433171799280913\n",
      "0.686394803320101\n",
      "0.7137228413824158\n",
      "2\n",
      "26299\n",
      "32553\n",
      "32465\n",
      "0.8078825300279544\n",
      "0.8100723856460804\n",
      "0.8089759758836015\n"
     ]
    }
   ],
   "source": [
    "y_prediction_test = np.zeros(y_test.shape)\n",
    "\n",
    "# iterate through three groups\n",
    "for i in range(3):\n",
    "    #parameters\n",
    "    degree = degrees[i]\n",
    "    lambda_ =lambdas[i]\n",
    "    # get train and test data\n",
    "    train_index = jet_train_samples[i]\n",
    "    test_index = jet_test_samples[i]\n",
    "    x_tr, y_tr = x_train[train_index], y_train[train_index]\n",
    "    x_te, y_te = x_test[test_index], y_test[test_index]\n",
    "    # clean data\n",
    "    x_tr,_ = clean_data(x_tr)\n",
    "    x_te,_ = clean_data(x_te)\n",
    "    # build model\n",
    "    y_tr, x_tr = build_model_data(x_tr, y_tr)\n",
    "    y_te, x_te = build_model_data(x_te, y_te)\n",
    "    # build polynomial model\n",
    "    x_tr = build_poly_all_features(x_tr, degree)\n",
    "    x_te = build_poly_all_features(x_te, degree)\n",
    "    # ridge regression\n",
    "    weights, loss = ridge_regression(y_tr, x_tr, lambda_)\n",
    "    accuracy = predict_accuracy(y_tr, x_tr, weights)\n",
    "    f1_score = compute_f1_score(y_tr, x_tr, weights)\n",
    "    y_prediction_test[test_index] = predict_labels(weights, x_te)"
   ]
  },
  {
   "cell_type": "markdown",
   "metadata": {},
   "source": [
    "## Save ouput for submission"
   ]
  },
  {
   "cell_type": "code",
   "execution_count": 15,
   "metadata": {},
   "outputs": [],
   "source": [
    "#PREDICT LABELS\n",
    "OUTPUT_PATH = 'data/submission.csv'\n",
    "create_csv_submission(ids_test, y_prediction_test, OUTPUT_PATH)"
   ]
  },
  {
   "cell_type": "code",
   "execution_count": null,
   "metadata": {},
   "outputs": [],
   "source": []
  }
 ],
 "metadata": {
  "kernelspec": {
   "display_name": "Python 3",
   "language": "python",
   "name": "python3"
  },
  "language_info": {
   "codemirror_mode": {
    "name": "ipython",
    "version": 3
   },
   "file_extension": ".py",
   "mimetype": "text/x-python",
   "name": "python",
   "nbconvert_exporter": "python",
   "pygments_lexer": "ipython3",
   "version": "3.7.3"
  }
 },
 "nbformat": 4,
 "nbformat_minor": 2
}
