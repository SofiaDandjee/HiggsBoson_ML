{
 "cells": [
  {
   "cell_type": "code",
   "execution_count": 9,
   "metadata": {},
   "outputs": [
    {
     "name": "stdout",
     "output_type": "stream",
     "text": [
      "The autoreload extension is already loaded. To reload it, use:\n",
      "  %reload_ext autoreload\n"
     ]
    }
   ],
   "source": [
    "%matplotlib inline\n",
    "import numpy as np\n",
    "np.warnings.filterwarnings('ignore')\n",
    "import matplotlib.pyplot as plt\n",
    "%load_ext autoreload\n",
    "%autoreload 2"
   ]
  },
  {
   "cell_type": "code",
   "execution_count": 10,
   "metadata": {},
   "outputs": [],
   "source": [
    "from proj1_helpers import *\n",
    "from data_helpers import *\n",
    "from implementations import ridge_regression\n",
    "from cost import compute_loss"
   ]
  },
  {
   "cell_type": "markdown",
   "metadata": {},
   "source": [
    "## Load train and test data"
   ]
  },
  {
   "cell_type": "markdown",
   "metadata": {},
   "source": [
    "### Load train and test data"
   ]
  },
  {
   "cell_type": "code",
   "execution_count": 11,
   "metadata": {},
   "outputs": [
    {
     "name": "stdout",
     "output_type": "stream",
     "text": [
      "Train and test data sets loaded\n"
     ]
    }
   ],
   "source": [
    "# Data paths\n",
    "DATA_TRAIN_PATH = \"../data/train.csv\"\n",
    "DATA_TEST_PATH = \"../data/test.csv\"\n",
    "\n",
    "# Load data\n",
    "y_train, x_train, ids_train = load_csv_data(DATA_TRAIN_PATH)\n",
    "y_test, x_test, ids_test = load_csv_data(DATA_TEST_PATH)\n",
    "\n",
    "print(\"Train and test data sets loaded\")"
   ]
  },
  {
   "cell_type": "markdown",
   "metadata": {},
   "source": [
    "### Split the data in three samples in function of the jet value"
   ]
  },
  {
   "cell_type": "code",
   "execution_count": 12,
   "metadata": {},
   "outputs": [],
   "source": [
    "jet_train_samples = get_jet_samples(x_train)\n",
    "jet_test_samples = get_jet_samples(x_test)"
   ]
  },
  {
   "cell_type": "markdown",
   "metadata": {},
   "source": [
    "### Define parameters"
   ]
  },
  {
   "cell_type": "code",
   "execution_count": 13,
   "metadata": {},
   "outputs": [],
   "source": [
    "degrees = [12, 12, 12]\n",
    "lambdas = [1e-4, 1e-3, 1e-3]"
   ]
  },
  {
   "cell_type": "markdown",
   "metadata": {},
   "source": [
    "## Ridge regression and predictions"
   ]
  },
  {
   "cell_type": "code",
   "execution_count": null,
   "metadata": {},
   "outputs": [
    {
     "name": "stdout",
     "output_type": "stream",
     "text": [
      "Computing ridge regression for group 0...\n",
      "  Accuracy = 84.41644230480519 \n",
      "  F1-score = 0.6594339209939193 \n",
      "\n",
      "Computing ridge regression for group 1...\n",
      "  Accuracy = 80.59166408748581 \n",
      "  F1-score = 0.7165191184780562 \n",
      "\n",
      "Computing ridge regression for group 2...\n"
     ]
    }
   ],
   "source": [
    "y_prediction_test = np.zeros(y_test.shape)\n",
    "mean_accuracy = 0\n",
    "mean_f1_score = 0\n",
    "\n",
    "# iterate through each of the three groups\n",
    "for i in range(3):\n",
    "    print(\"Computing ridge regression for group {ind}...\".format(ind=i))\n",
    "    \n",
    "    #parameters\n",
    "    degree = degrees[i]\n",
    "    lambda_ =lambdas[i]\n",
    "    \n",
    "    # get train and test data\n",
    "    train_index = jet_train_samples[i]\n",
    "    test_index = jet_test_samples[i]\n",
    "    \n",
    "    x_tr, y_tr = x_train[train_index], y_train[train_index]\n",
    "    x_te, y_te = x_test[test_index], y_test[test_index]\n",
    "    \n",
    "    # clean train and test data\n",
    "    x_tr,x_te = clean_data(x_tr, x_te)\n",
    "    \n",
    "    # build polynomial data\n",
    "    x_tr, y_tr = augment_data(x_tr, y_tr, degree)\n",
    "    x_te, y_te = augment_data(x_te, y_te, degree)\n",
    "    \n",
    "    # train model\n",
    "    weights, loss = ridge_regression(y_tr, x_tr, lambda_)\n",
    "    accuracy = predict_accuracy(y_tr, x_tr, weights)\n",
    "    f1_score = compute_f1_score(y_tr, x_tr, weights)\n",
    "    y_prediction_test[test_index] = predict_labels(weights, x_te)\n",
    "    print(\"  Accuracy = {acc} \\n  F1-score = {f1} \\n\".format(acc=accuracy, f1=f1_score))\n",
    "    mean_accuracy += train_index.shape[0] * accuracy\n",
    "    mean_f1_score += train_index.shape[0] * f1_score\n",
    "    \n",
    "mean_accuracy /= x_train.shape[0]\n",
    "mean_f1_score /= x_train.shape[0]\n",
    "print(\"Final accuracy = {acc} \\nFinal F1-score = {f1} \\n\".format(acc=mean_accuracy, f1=mean_f1_score))"
   ]
  },
  {
   "cell_type": "markdown",
   "metadata": {},
   "source": [
    "## Save ouput for submission"
   ]
  },
  {
   "cell_type": "code",
   "execution_count": 15,
   "metadata": {},
   "outputs": [
    {
     "name": "stdout",
     "output_type": "stream",
     "text": [
      "File submission.csv ready to be submitted !\n"
     ]
    }
   ],
   "source": [
    "OUTPUT_PATH = \"../data/submission.csv\"\n",
    "create_csv_submission(ids_test, y_prediction_test, OUTPUT_PATH)\n",
    "print(\"File submission.csv ready to be submitted !\")"
   ]
  },
  {
   "cell_type": "code",
   "execution_count": null,
   "metadata": {},
   "outputs": [],
   "source": []
  }
 ],
 "metadata": {
  "kernelspec": {
   "display_name": "Python 3",
   "language": "python",
   "name": "python3"
  },
  "language_info": {
   "codemirror_mode": {
    "name": "ipython",
    "version": 3
   },
   "file_extension": ".py",
   "mimetype": "text/x-python",
   "name": "python",
   "nbconvert_exporter": "python",
   "pygments_lexer": "ipython3",
   "version": "3.7.4"
  }
 },
 "nbformat": 4,
 "nbformat_minor": 2
}
