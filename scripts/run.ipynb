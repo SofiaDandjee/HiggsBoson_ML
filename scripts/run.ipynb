{
 "cells": [
  {
   "cell_type": "code",
   "execution_count": 32,
   "metadata": {},
   "outputs": [
    {
     "name": "stdout",
     "output_type": "stream",
     "text": [
      "The autoreload extension is already loaded. To reload it, use:\n",
      "  %reload_ext autoreload\n"
     ]
    }
   ],
   "source": [
    "%matplotlib inline\n",
    "import numpy as np\n",
    "import collections \n",
    "import matplotlib.pyplot as plt\n",
    "%load_ext autoreload\n",
    "%autoreload 2"
   ]
  },
  {
   "cell_type": "code",
   "execution_count": 33,
   "metadata": {},
   "outputs": [],
   "source": [
    "from proj1_helpers import *\n",
    "from data_helpers import *\n",
    "from implementations import ridge_regression\n",
    "from cost import compute_loss"
   ]
  },
  {
   "cell_type": "markdown",
   "metadata": {},
   "source": [
    "## Load train and test data"
   ]
  },
  {
   "cell_type": "markdown",
   "metadata": {},
   "source": [
    "### Load train and test data"
   ]
  },
  {
   "cell_type": "code",
   "execution_count": 34,
   "metadata": {},
   "outputs": [
    {
     "name": "stdout",
     "output_type": "stream",
     "text": [
      "Training and test set loaded\n"
     ]
    }
   ],
   "source": [
    "# Data paths\n",
    "DATA_TRAIN_PATH = \"../data/train.csv\"\n",
    "DATA_TEST_PATH = \"../data/test.csv\"\n",
    "\n",
    "# Load data\n",
    "y_train, x_train, ids_train = load_csv_data(DATA_TRAIN_PATH)\n",
    "y_test, x_test, ids_test = load_csv_data(DATA_TEST_PATH)\n",
    "\n",
    "print(\"Training and test set loaded\")"
   ]
  },
  {
   "cell_type": "markdown",
   "metadata": {},
   "source": [
    "### Split the data in three samples in function of the jet value"
   ]
  },
  {
   "cell_type": "code",
   "execution_count": 21,
   "metadata": {},
   "outputs": [],
   "source": [
    "jet_train_samples = get_jet_samples(x_train)\n",
    "jet_test_samples = get_jet_samples(x_test)"
   ]
  },
  {
   "cell_type": "markdown",
   "metadata": {},
   "source": [
    "### Define parameters"
   ]
  },
  {
   "cell_type": "code",
   "execution_count": 28,
   "metadata": {},
   "outputs": [],
   "source": [
    "degrees = [12, 12, 12]\n",
    "lambdas = [1e-4, 1e-3, 1e-3]"
   ]
  },
  {
   "cell_type": "markdown",
   "metadata": {},
   "source": [
    "## Ridge regression and predictions"
   ]
  },
  {
   "cell_type": "code",
   "execution_count": 29,
   "metadata": {},
   "outputs": [
    {
     "name": "stderr",
     "output_type": "stream",
     "text": [
      "/Users/Sofia/anaconda3/lib/python3.6/site-packages/numpy/lib/nanfunctions.py:1434: RuntimeWarning: Degrees of freedom <= 0 for slice.\n",
      "  keepdims=keepdims)\n"
     ]
    },
    {
     "name": "stdout",
     "output_type": "stream",
     "text": [
      "84.41243882177494\n",
      "80.55426596512947\n",
      "83.17963139103703\n"
     ]
    }
   ],
   "source": [
    "y_prediction_test = np.zeros(y_test.shape)\n",
    "\n",
    "# iterate through three groups\n",
    "for i in range(3):\n",
    "    #parameters\n",
    "    degree = degrees[i]\n",
    "    lambda_ =lambdas[i]\n",
    "    \n",
    "    # get train and test data\n",
    "    train_index = jet_train_samples[i]\n",
    "    test_index = jet_test_samples[i]\n",
    "    \n",
    "    x_tr, y_tr = x_train[train_index], y_train[train_index]\n",
    "    x_te, y_te = x_test[test_index], y_test[test_index]\n",
    "    \n",
    "    # clean train and test data\n",
    "    x_tr,x_te = clean_data(x_tr, x_te)\n",
    "    \n",
    "    # build polynomial data\n",
    "    x_tr, y_tr = augment_data (x_tr, y_tr, degree)\n",
    "    x_te, y_te = augment_data (x_te, y_te, degree)\n",
    "    \n",
    "    # train model\n",
    "    weights, loss = ridge_regression(y_tr, x_tr, lambda_)\n",
    "    accuracy = predict_accuracy(y_tr, x_tr, weights)\n",
    "    print(accuracy)\n",
    "    f1_score = compute_f1_score(y_tr, x_tr, weights)\n",
    "    y_prediction_test[test_index] = predict_labels(weights, x_te)"
   ]
  },
  {
   "cell_type": "code",
   "execution_count": 30,
   "metadata": {
    "scrolled": true
   },
   "outputs": [
    {
     "name": "stdout",
     "output_type": "stream",
     "text": [
      "83.17963139103703\n"
     ]
    }
   ],
   "source": [
    "print(accuracy)"
   ]
  },
  {
   "cell_type": "markdown",
   "metadata": {},
   "source": [
    "## Save ouput for submission"
   ]
  },
  {
   "cell_type": "code",
   "execution_count": 31,
   "metadata": {},
   "outputs": [],
   "source": [
    "#PREDICT LABELS\n",
    "OUTPUT_PATH = \"../data/submissionbisbis.csv\"\n",
    "create_csv_submission(ids_test, y_prediction_test, OUTPUT_PATH)"
   ]
  },
  {
   "cell_type": "code",
   "execution_count": null,
   "metadata": {},
   "outputs": [],
   "source": []
  }
 ],
 "metadata": {
  "kernelspec": {
   "display_name": "Python 3",
   "language": "python",
   "name": "python3"
  },
  "language_info": {
   "codemirror_mode": {
    "name": "ipython",
    "version": 3
   },
   "file_extension": ".py",
   "mimetype": "text/x-python",
   "name": "python",
   "nbconvert_exporter": "python",
   "pygments_lexer": "ipython3",
   "version": "3.6.5"
  }
 },
 "nbformat": 4,
 "nbformat_minor": 2
}
