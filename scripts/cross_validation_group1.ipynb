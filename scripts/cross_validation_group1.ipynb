{
 "cells": [
  {
   "cell_type": "code",
   "execution_count": 19,
   "metadata": {
    "colab": {},
    "colab_type": "code",
    "id": "S_s6B33VEndZ"
   },
   "outputs": [
    {
     "name": "stdout",
     "output_type": "stream",
     "text": [
      "The autoreload extension is already loaded. To reload it, use:\n",
      "  %reload_ext autoreload\n"
     ]
    }
   ],
   "source": [
    "%matplotlib inline\n",
    "import numpy as np\n",
    "import matplotlib.pyplot as plt\n",
    "%load_ext autoreload\n",
    "%autoreload 2"
   ]
  },
  {
   "cell_type": "markdown",
   "metadata": {
    "colab_type": "text",
    "id": "YaBZH_VLEndi"
   },
   "source": [
    "## Load train and test data"
   ]
  },
  {
   "cell_type": "code",
   "execution_count": 20,
   "metadata": {
    "colab": {},
    "colab_type": "code",
    "id": "QUp3aGWvqm3j"
   },
   "outputs": [],
   "source": [
    "from proj1_helpers import *\n",
    "from data_helpers import *\n",
    "from implementations import ridge_regression\n",
    "from cost import compute_loss\n"
   ]
  },
  {
   "cell_type": "markdown",
   "metadata": {},
   "source": [
    "### Load train and test data"
   ]
  },
  {
   "cell_type": "code",
   "execution_count": 23,
   "metadata": {
    "colab": {},
    "colab_type": "code",
    "id": "pgWxh_GdEndl"
   },
   "outputs": [],
   "source": [
    "# Data paths\n",
    "DATA_TRAIN_PATH = 'data/train.csv'\n",
    "\n",
    "# Load data\n",
    "Y, X, id_train = load_csv_data(DATA_TRAIN_PATH)"
   ]
  },
  {
   "cell_type": "markdown",
   "metadata": {},
   "source": [
    "### Get index for the three different jet groups"
   ]
  },
  {
   "cell_type": "code",
   "execution_count": 24,
   "metadata": {},
   "outputs": [],
   "source": [
    "jet_train_samples = get_jet_samples(X)"
   ]
  },
  {
   "cell_type": "markdown",
   "metadata": {},
   "source": [
    "### Define parameters"
   ]
  },
  {
   "cell_type": "code",
   "execution_count": 25,
   "metadata": {},
   "outputs": [
    {
     "data": {
      "text/plain": [
       "(range(1, 20), array([1.e-08, 1.e-07, 1.e-06, 1.e-05, 1.e-04, 1.e-03, 1.e-02]))"
      ]
     },
     "execution_count": 25,
     "metadata": {},
     "output_type": "execute_result"
    }
   ],
   "source": [
    "degrees = range(1,20)\n",
    "lambda_test = 1e-3\n",
    "lambdas = np.logspace(-8,-2,7)\n",
    "k_fold = 4\n",
    "seed = 2\n",
    "degrees, lambdas"
   ]
  },
  {
   "cell_type": "markdown",
   "metadata": {
    "colab_type": "text",
    "id": "yUQybl2IEndu"
   },
   "source": [
    "## Group 1"
   ]
  },
  {
   "cell_type": "code",
   "execution_count": 26,
   "metadata": {
    "colab": {
     "base_uri": "https://localhost:8080/",
     "height": 198
    },
    "colab_type": "code",
    "id": "Ya9xiZufEnd2",
    "outputId": "a5f1377a-08a2-4255-b58d-9a733eff30fa"
   },
   "outputs": [],
   "source": [
    "# get train and test data\n",
    "train_index = jet_train_samples[1]\n",
    "x, y = X[train_index], Y[train_index]"
   ]
  },
  {
   "cell_type": "markdown",
   "metadata": {},
   "source": [
    "### Best degree"
   ]
  },
  {
   "cell_type": "code",
   "execution_count": 27,
   "metadata": {},
   "outputs": [
    {
     "name": "stderr",
     "output_type": "stream",
     "text": [
      "/Users/Sofia/anaconda3/lib/python3.6/site-packages/numpy/lib/nanfunctions.py:1434: RuntimeWarning: Degrees of freedom <= 0 for slice.\n",
      "  keepdims=keepdims)\n"
     ]
    },
    {
     "name": "stdout",
     "output_type": "stream",
     "text": [
      "1 71.0736270160597 70.99711131744559\n",
      "2 75.60825681763473 75.57902610131023\n",
      "3 76.59479349358644 76.52042711234913\n",
      "4 77.67933904192029 77.6359228309089\n",
      "5 78.1070531999037 78.03440627256782\n",
      "6 78.49736923553078 78.3903332301661\n",
      "7 79.28101035111249 79.22856700711854\n",
      "8 79.99243440283365 79.91591870421954\n",
      "9 80.31655146325527 80.14804498091407\n",
      "10 80.31311255545239 80.1325698958011\n",
      "11 80.46055572750095 80.30666460332199\n",
      "12 80.63551016197255 80.46657381615599\n",
      "13 74.60710478352075 74.6737336222016\n",
      "14 76.1606313834726 75.9813783142474\n",
      "15 80.36684548987242 80.04874651810584\n",
      "16 76.54621892087073 76.45594759104509\n",
      "17 78.47329688091062 78.27298050139275\n",
      "18 77.82119398878916 77.67203136283916\n",
      "19 79.6365074452354 79.50840812957804\n"
     ]
    }
   ],
   "source": [
    "acc_training = []\n",
    "acc_validation = []\n",
    "\n",
    "for degree in degrees:\n",
    "        acc_tr_tmp = []\n",
    "        acc_val_tmp = []\n",
    "        \n",
    "        for k in range(k_fold):\n",
    "            x_train, y_train, x_val, y_val = cross_validation(y, x, k, k_fold, seed)\n",
    "            x_tr_clean,_ = clean_data(x_train)\n",
    "            x_val_clean,_ = clean_data(x_val)\n",
    "            x_train_aug, y_train = augment_data(x_tr_clean, y_train, degree)\n",
    "            x_val_aug, y_val = augment_data(x_val_clean, y_val, degree)\n",
    "            w,_ = ridge_regression (y_train, x_train_aug, lambda_test)\n",
    "            \n",
    "            acc_tr = predict_accuracy(y_train, x_train_aug, w)\n",
    "            acc_val = predict_accuracy(y_val, x_val_aug, w)\n",
    "            \n",
    "            acc_tr_tmp.append(acc_tr)\n",
    "            acc_val_tmp.append(acc_val)\n",
    "            \n",
    "        print(degree, np.mean(acc_tr_tmp), np.mean(acc_val_tmp))\n",
    "\n",
    "        acc_training.append(np.mean(acc_tr_tmp))\n",
    "        acc_validation.append(np.mean(acc_val_tmp))"
   ]
  },
  {
   "cell_type": "code",
   "execution_count": 28,
   "metadata": {},
   "outputs": [
    {
     "data": {
      "image/png": "[encoded data removed]",
      "text/plain": [
       "<Figure size 432x288 with 1 Axes>"
      ]
     },
     "metadata": {},
     "output_type": "display_data"
    }
   ],
   "source": [
    "max_accuracy = np.amax(acc_validation)\n",
    "best_degree = degrees[np.argmax(acc_validation)]\n",
    "\n",
    "fig,ax = plt.subplots(1,1)\n",
    "\n",
    "plt.plot(degrees, acc_training, label='Training', marker = \"o\", markersize = 2, color = \"red\")\n",
    "plt.plot(degrees, acc_validation, label='Validation', marker = \"o\", markersize = 2, color = \"green\")\n",
    "ax.annotate('Optimal degree = %d' %(best_degree), xy=(best_degree, max_accuracy), xytext=(best_degree-10, max_accuracy-5),\n",
    "            arrowprops=dict(facecolor='black',width=1,headwidth=8,headlength=8,shrink=0.1))\n",
    "plt.plot(best_degree, max_accuracy, marker = '*', markersize=6, color = \"black\")\n",
    "plt.xticks(degrees)\n",
    "plt.xlabel(\"Polynomial degrees\", fontsize = 12)\n",
    "plt.ylabel(\"Accuracy (%)\",  fontsize = 12)\n",
    "#plt.title(\"Cross validation for Group 0\")\n",
    "plt.legend(fontsize=11)\n",
    "plt.savefig(\"degree_group1.eps\")\n",
    "plt.show()"
   ]
  },
  {
   "cell_type": "markdown",
   "metadata": {},
   "source": [
    "### Best lambda"
   ]
  },
  {
   "cell_type": "code",
   "execution_count": 29,
   "metadata": {},
   "outputs": [
    {
     "name": "stderr",
     "output_type": "stream",
     "text": [
      "/Users/Sofia/anaconda3/lib/python3.6/site-packages/numpy/lib/nanfunctions.py:1434: RuntimeWarning: Degrees of freedom <= 0 for slice.\n",
      "  keepdims=keepdims)\n"
     ]
    },
    {
     "name": "stdout",
     "output_type": "stream",
     "text": [
      "1e-08 80.61401698820455 80.41499019911276\n",
      "1e-07 80.63594002544792 80.4059630661302\n",
      "1e-06 80.62347398466248 80.39435675229547\n",
      "1e-05 80.37372330547818 80.1519137521923\n",
      "0.0001 80.63551016197255 80.40080470442588\n",
      "0.001 80.63551016197255 80.46657381615599\n",
      "0.01 80.2546511228034 80.08227586918395\n"
     ]
    }
   ],
   "source": [
    "acc_training = []\n",
    "acc_validation = []\n",
    "\n",
    "for ind_lambda,lambda_ in enumerate(lambdas):\n",
    "        acc_tr_tmp = []\n",
    "        acc_val_tmp = []\n",
    "        \n",
    "        for k in range(k_fold):\n",
    "            x_train, y_train, x_val, y_val = cross_validation(y, x, k, k_fold, seed)\n",
    "            x_tr_clean,_ = clean_data(x_train)\n",
    "            x_val_clean,_ = clean_data(x_val)\n",
    "            x_train_aug, y_train = augment_data(x_tr_clean, y_train, best_degree)\n",
    "            x_val_aug, y_val = augment_data(x_val_clean, y_val, best_degree)\n",
    "            w,_ = ridge_regression (y_train, x_train_aug, lambda_)\n",
    "            \n",
    "            acc_tr = predict_accuracy(y_train, x_train_aug, w)\n",
    "            acc_val = predict_accuracy(y_val, x_val_aug, w)\n",
    "            \n",
    "            acc_tr_tmp.append(acc_tr)\n",
    "            acc_val_tmp.append(acc_val)\n",
    "            \n",
    "        print(lambda_, np.mean(acc_tr_tmp), np.mean(acc_val_tmp))\n",
    "\n",
    "        acc_training.append(np.mean(acc_tr_tmp))\n",
    "        acc_validation.append(np.mean(acc_val_tmp))"
   ]
  },
  {
   "cell_type": "code",
   "execution_count": 35,
   "metadata": {},
   "outputs": [
    {
     "data": {
      "image/png": "[encoded data removed]",
      "text/plain": [
       "<Figure size 432x288 with 1 Axes>"
      ]
     },
     "metadata": {},
     "output_type": "display_data"
    }
   ],
   "source": [
    "max_accuracy = np.amax(acc_validation)\n",
    "best_lambda = lambdas[np.argmax(acc_validation)]\n",
    "\n",
    "plt.semilogx(lambdas, acc_training, label='Training', marker = \"o\", markersize = 2, color = \"red\")\n",
    "plt.semilogx(lambdas, acc_validation, label='Validation', marker = \"o\", markersize = 2, color = \"green\")\n",
    "plt.semilogx(best_lambda, max_accuracy, marker = '*', markersize=6, color = \"black\")\n",
    "plt.annotate('Optimal $\\lambda$= %f' %(best_lambda), xy=(best_lambda, max_accuracy), xytext=(best_lambda *1e-2, max_accuracy-0.4),\n",
    "            arrowprops=dict(facecolor='black',width=1,headwidth=8,headlength=8,shrink=0.1))\n",
    "plt.xlabel(\"$\\lambda$\", fontsize = 12)\n",
    "plt.ylabel(\"Accuracy (%)\", fontsize = 12)\n",
    "#plt.title(\"Cross validation for Group 0\")\n",
    "plt.legend()\n",
    "plt.savefig(\"lambda_group1.eps\")\n",
    "plt.show()"
   ]
  },
  {
   "cell_type": "code",
   "execution_count": null,
   "metadata": {},
   "outputs": [],
   "source": []
  }
 ],
 "metadata": {
  "anaconda-cloud": {},
  "colab": {
   "collapsed_sections": [],
   "name": "project1.ipynb",
   "provenance": []
  },
  "kernelspec": {
   "display_name": "Python 3",
   "language": "python",
   "name": "python3"
  },
  "language_info": {
   "codemirror_mode": {
    "name": "ipython",
    "version": 3
   },
   "file_extension": ".py",
   "mimetype": "text/x-python",
   "name": "python",
   "nbconvert_exporter": "python",
   "pygments_lexer": "ipython3",
   "version": "3.6.5"
  }
 },
 "nbformat": 4,
 "nbformat_minor": 1
}
