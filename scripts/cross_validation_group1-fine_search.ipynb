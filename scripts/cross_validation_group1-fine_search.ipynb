{
 "cells": [
  {
   "cell_type": "code",
   "execution_count": 2,
   "metadata": {
    "colab": {},
    "colab_type": "code",
    "id": "S_s6B33VEndZ"
   },
   "outputs": [],
   "source": [
    "%matplotlib inline\n",
    "import numpy as np\n",
    "import matplotlib.pyplot as plt\n",
    "%load_ext autoreload\n",
    "%autoreload 2"
   ]
  },
  {
   "cell_type": "markdown",
   "metadata": {
    "colab_type": "text",
    "id": "YaBZH_VLEndi"
   },
   "source": [
    "## Load train and test data"
   ]
  },
  {
   "cell_type": "code",
   "execution_count": 3,
   "metadata": {
    "colab": {},
    "colab_type": "code",
    "id": "QUp3aGWvqm3j"
   },
   "outputs": [],
   "source": [
    "from proj1_helpers import *\n",
    "from data_helpers import *\n",
    "from implementations import ridge_regression\n",
    "from cost import compute_loss\n"
   ]
  },
  {
   "cell_type": "markdown",
   "metadata": {},
   "source": [
    "### Load train and test data"
   ]
  },
  {
   "cell_type": "code",
   "execution_count": 4,
   "metadata": {
    "colab": {},
    "colab_type": "code",
    "id": "pgWxh_GdEndl"
   },
   "outputs": [],
   "source": [
    "# Data paths\n",
    "DATA_TRAIN_PATH = \"../data/train.csv\"\n",
    "\n",
    "# Load data\n",
    "Y, X, id_train = load_csv_data(DATA_TRAIN_PATH)"
   ]
  },
  {
   "cell_type": "markdown",
   "metadata": {},
   "source": [
    "### Get index for the three different jet groups"
   ]
  },
  {
   "cell_type": "code",
   "execution_count": 5,
   "metadata": {},
   "outputs": [],
   "source": [
    "jet_train_samples = get_jet_samples(X)"
   ]
  },
  {
   "cell_type": "markdown",
   "metadata": {},
   "source": [
    "### Define parameters"
   ]
  },
  {
   "cell_type": "code",
   "execution_count": 13,
   "metadata": {},
   "outputs": [
    {
     "data": {
      "text/plain": [
       "(range(1, 20),\n",
       " array([0.001     , 0.0014678 , 0.00215443, 0.00316228, 0.00464159,\n",
       "        0.00681292, 0.01      ]))"
      ]
     },
     "execution_count": 13,
     "metadata": {},
     "output_type": "execute_result"
    }
   ],
   "source": [
    "degrees = range(1,20)\n",
    "lambda_test = 1e-3\n",
    "lambdas = np.logspace(-3,-2,7)\n",
    "k_fold = 4\n",
    "seed = 2\n",
    "degrees, lambdas"
   ]
  },
  {
   "cell_type": "markdown",
   "metadata": {
    "colab_type": "text",
    "id": "yUQybl2IEndu"
   },
   "source": [
    "## Group 1"
   ]
  },
  {
   "cell_type": "code",
   "execution_count": 14,
   "metadata": {
    "colab": {
     "base_uri": "https://localhost:8080/",
     "height": 198
    },
    "colab_type": "code",
    "id": "Ya9xiZufEnd2",
    "outputId": "a5f1377a-08a2-4255-b58d-9a733eff30fa"
   },
   "outputs": [],
   "source": [
    "# get train and test data\n",
    "train_index = jet_train_samples[1]\n",
    "x, y = X[train_index], Y[train_index]"
   ]
  },
  {
   "cell_type": "markdown",
   "metadata": {},
   "source": [
    "### Best degree"
   ]
  },
  {
   "cell_type": "code",
   "execution_count": 8,
   "metadata": {},
   "outputs": [
    {
     "name": "stderr",
     "output_type": "stream",
     "text": [
      "/Users/Sofia/anaconda3/lib/python3.6/site-packages/numpy/lib/nanfunctions.py:1434: RuntimeWarning: Degrees of freedom <= 0 for slice.\n",
      "  keepdims=keepdims)\n"
     ]
    },
    {
     "name": "stdout",
     "output_type": "stream",
     "text": [
      "1 71.0736270160597 71.02806148767151\n",
      "2 75.60825681763473 75.60481790983184\n",
      "3 76.59479349358644 76.5552460538533\n",
      "4 77.67933904192029 77.63076446920458\n",
      "5 78.1070531999037 77.99571855978542\n",
      "6 78.49736923553078 78.38517486846177\n",
      "7 79.28101035111249 79.18730011348396\n",
      "8 79.99243440283365 79.94300010316724\n",
      "9 80.31655146325527 80.15578252347055\n",
      "10 80.31311255545239 80.09646136387083\n",
      "11 80.46055572750095 80.31698132673063\n",
      "12 80.63551016197255 80.4601258640256\n",
      "13 74.60710478352075 74.56024966470648\n",
      "14 76.1606313834726 75.94526978231714\n",
      "15 80.36684548987242 80.09388218301868\n",
      "16 76.54621892087073 76.44949963891467\n",
      "17 78.47372674438598 78.20205302795831\n",
      "18 77.82119398878916 77.65784586815228\n",
      "19 79.6365074452354 79.56643969875168\n"
     ]
    }
   ],
   "source": [
    "acc_training = []\n",
    "acc_validation = []\n",
    "\n",
    "for degree in degrees:\n",
    "        acc_tr_tmp = []\n",
    "        acc_val_tmp = []\n",
    "        \n",
    "        for k in range(k_fold):\n",
    "            x_train, y_train, x_val, y_val = cross_validation(y, x, k, k_fold, seed)\n",
    "            x_tr_clean,x_val_clean = clean_data(x_train, x_val)\n",
    "            \n",
    "            x_train_aug, y_train = augment_data(x_tr_clean, y_train, degree)\n",
    "            x_val_aug, y_val = augment_data(x_val_clean, y_val, degree)\n",
    "            w,_ = ridge_regression (y_train, x_train_aug, lambda_test)\n",
    "            \n",
    "            acc_tr = predict_accuracy(y_train, x_train_aug, w)\n",
    "            acc_val = predict_accuracy(y_val, x_val_aug, w)\n",
    "            \n",
    "            acc_tr_tmp.append(acc_tr)\n",
    "            acc_val_tmp.append(acc_val)\n",
    "            \n",
    "        print(degree, np.mean(acc_tr_tmp), np.mean(acc_val_tmp))\n",
    "\n",
    "        acc_training.append(np.mean(acc_tr_tmp))\n",
    "        acc_validation.append(np.mean(acc_val_tmp))"
   ]
  },
  {
   "cell_type": "code",
   "execution_count": 10,
   "metadata": {},
   "outputs": [
    {
     "data": {
      "image/png": "[encoded data removed]",
      "text/plain": [
       "<Figure size 432x288 with 1 Axes>"
      ]
     },
     "metadata": {},
     "output_type": "display_data"
    }
   ],
   "source": [
    "max_accuracy = np.amax(acc_validation)\n",
    "best_degree = degrees[np.argmax(acc_validation)]\n",
    "\n",
    "fig,ax = plt.subplots(1,1)\n",
    "\n",
    "plt.plot(degrees, acc_training, label='Training', marker = \"o\", markersize = 2, color = \"red\")\n",
    "plt.plot(degrees, acc_validation, label='Validation', marker = \"o\", markersize = 2, color = \"green\")\n",
    "ax.annotate('Optimal degree = %d' %(best_degree), xy=(best_degree, max_accuracy), xytext=(best_degree-9, max_accuracy-5),\n",
    "            arrowprops=dict(facecolor='black',width=1,headwidth=8,headlength=8,shrink=0.1))\n",
    "plt.plot(best_degree, max_accuracy, marker = '*', markersize=6, color = \"black\")\n",
    "plt.xticks(degrees)\n",
    "plt.xlabel(\"Polynomial degrees\", fontsize = 12)\n",
    "plt.ylabel(\"Accuracy (%)\",  fontsize = 12)\n",
    "#plt.title(\"Cross validation for Group 0\")\n",
    "plt.legend(fontsize=11)\n",
    "plt.savefig(\"degree_group1.eps\")\n",
    "plt.show()"
   ]
  },
  {
   "cell_type": "markdown",
   "metadata": {},
   "source": [
    "### Best lambda"
   ]
  },
  {
   "cell_type": "code",
   "execution_count": null,
   "metadata": {},
   "outputs": [
    {
     "name": "stderr",
     "output_type": "stream",
     "text": [
      "/Users/Sofia/anaconda3/lib/python3.6/site-packages/numpy/lib/nanfunctions.py:1434: RuntimeWarning: Degrees of freedom <= 0 for slice.\n",
      "  keepdims=keepdims)\n"
     ]
    },
    {
     "name": "stdout",
     "output_type": "stream",
     "text": [
      "0.001 80.63551016197255 80.4601258640256\n",
      "0.0014677992676220691 80.4730217682864 80.33632518312184\n",
      "0.0021544346900318843 80.6221843942364 80.4330444650779\n"
     ]
    }
   ],
   "source": [
    "acc_training = []\n",
    "acc_validation = []\n",
    "best_degree = 12\n",
    "\n",
    "for ind_lambda,lambda_ in enumerate(lambdas):\n",
    "        acc_tr_tmp = []\n",
    "        acc_val_tmp = []\n",
    "        \n",
    "        for k in range(k_fold):\n",
    "            x_train, y_train, x_val, y_val = cross_validation(y, x, k, k_fold, seed)\n",
    "            x_tr_clean,x_val_clean = clean_data(x_train, x_val)\n",
    "            \n",
    "            x_train_aug, y_train = augment_data(x_tr_clean, y_train, best_degree)\n",
    "            x_val_aug, y_val = augment_data(x_val_clean, y_val, best_degree)\n",
    "            w,_ = ridge_regression (y_train, x_train_aug, lambda_)\n",
    "            \n",
    "            acc_tr = predict_accuracy(y_train, x_train_aug, w)\n",
    "            acc_val = predict_accuracy(y_val, x_val_aug, w)\n",
    "            \n",
    "            acc_tr_tmp.append(acc_tr)\n",
    "            acc_val_tmp.append(acc_val)\n",
    "            \n",
    "        print(lambda_, np.mean(acc_tr_tmp), np.mean(acc_val_tmp))\n",
    "\n",
    "        acc_training.append(np.mean(acc_tr_tmp))\n",
    "        acc_validation.append(np.mean(acc_val_tmp))"
   ]
  },
  {
   "cell_type": "code",
   "execution_count": null,
   "metadata": {},
   "outputs": [],
   "source": [
    "max_accuracy = np.amax(acc_validation)\n",
    "best_lambda = lambdas[np.argmax(acc_validation)]\n",
    "\n",
    "plt.semilogx(lambdas, acc_training, label='Training', marker = \"o\", markersize = 2, color = \"red\")\n",
    "plt.semilogx(lambdas, acc_validation, label='Validation', marker = \"o\", markersize = 2, color = \"green\")\n",
    "plt.semilogx(best_lambda, max_accuracy, marker = '*', markersize=6, color = \"black\")\n",
    "plt.annotate('Optimal $\\lambda$= %f' %(best_lambda), xy=(best_lambda, max_accuracy), xytext=(best_lambda *1e-2, max_accuracy-0.3),\n",
    "            arrowprops=dict(facecolor='black',width=1,headwidth=8,headlength=8,shrink=0.1))\n",
    "plt.xlabel(\"$\\lambda$\", fontsize = 12)\n",
    "plt.ylabel(\"Accuracy (%)\", fontsize = 12)\n",
    "#plt.title(\"Cross validation for Group 0\")\n",
    "plt.legend()\n",
    "plt.savefig(\"lambda_group1fine.eps\")\n",
    "plt.show()"
   ]
  },
  {
   "cell_type": "code",
   "execution_count": null,
   "metadata": {},
   "outputs": [],
   "source": []
  }
 ],
 "metadata": {
  "anaconda-cloud": {},
  "colab": {
   "collapsed_sections": [],
   "name": "project1.ipynb",
   "provenance": []
  },
  "kernelspec": {
   "display_name": "Python 3",
   "language": "python",
   "name": "python3"
  },
  "language_info": {
   "codemirror_mode": {
    "name": "ipython",
    "version": 3
   },
   "file_extension": ".py",
   "mimetype": "text/x-python",
   "name": "python",
   "nbconvert_exporter": "python",
   "pygments_lexer": "ipython3",
   "version": "3.6.5"
  }
 },
 "nbformat": 4,
 "nbformat_minor": 1
}
