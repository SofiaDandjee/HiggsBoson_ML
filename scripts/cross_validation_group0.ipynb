{
 "cells": [
  {
   "cell_type": "code",
   "execution_count": 1,
   "metadata": {
    "colab": {},
    "colab_type": "code",
    "id": "S_s6B33VEndZ"
   },
   "outputs": [],
   "source": [
    "%matplotlib inline\n",
    "import numpy as np\n",
    "import matplotlib.pyplot as plt\n",
    "%load_ext autoreload\n",
    "%autoreload 2"
   ]
  },
  {
   "cell_type": "markdown",
   "metadata": {
    "colab_type": "text",
    "id": "YaBZH_VLEndi"
   },
   "source": [
    "## Load train and test data"
   ]
  },
  {
   "cell_type": "code",
   "execution_count": 2,
   "metadata": {
    "colab": {},
    "colab_type": "code",
    "id": "QUp3aGWvqm3j"
   },
   "outputs": [],
   "source": [
    "from proj1_helpers import *\n",
    "from data_helpers import *\n",
    "from cross_validation import cross_validation\n",
    "from implementations import ridge_regression\n",
    "from cost import compute_loss\n",
    "from plots import plot_cross_validation"
   ]
  },
  {
   "cell_type": "markdown",
   "metadata": {},
   "source": [
    "### Load train and test data"
   ]
  },
  {
   "cell_type": "code",
   "execution_count": 3,
   "metadata": {
    "colab": {},
    "colab_type": "code",
    "id": "pgWxh_GdEndl"
   },
   "outputs": [],
   "source": [
    "# Data paths\n",
    "DATA_TRAIN_PATH = 'data/train.csv'\n",
    "\n",
    "# Load data\n",
    "Y, X, id_train = load_csv_data(DATA_TRAIN_PATH)"
   ]
  },
  {
   "cell_type": "markdown",
   "metadata": {},
   "source": [
    "### Get index for the three different jet groups"
   ]
  },
  {
   "cell_type": "code",
   "execution_count": 4,
   "metadata": {},
   "outputs": [],
   "source": [
    "jet_train_samples = get_jet_samples(X)"
   ]
  },
  {
   "cell_type": "markdown",
   "metadata": {},
   "source": [
    "### Define parameters"
   ]
  },
  {
   "cell_type": "code",
   "execution_count": 5,
   "metadata": {},
   "outputs": [
    {
     "data": {
      "text/plain": [
       "(range(1, 20), array([1.e-08, 1.e-07, 1.e-06, 1.e-05, 1.e-04, 1.e-03, 1.e-02]))"
      ]
     },
     "execution_count": 5,
     "metadata": {},
     "output_type": "execute_result"
    }
   ],
   "source": [
    "degrees = range(1,20)\n",
    "lambda_test = 1e-3\n",
    "lambdas = np.logspace(-8,-2,7)\n",
    "k_fold = 4\n",
    "seed = 1\n",
    "degrees, lambdas"
   ]
  },
  {
   "cell_type": "markdown",
   "metadata": {
    "colab_type": "text",
    "id": "ReKwkQ-cEnds"
   },
   "source": [
    "## Group 0"
   ]
  },
  {
   "cell_type": "code",
   "execution_count": 6,
   "metadata": {},
   "outputs": [],
   "source": [
    "# get train and test data\n",
    "train_index = jet_train_samples[0]\n",
    "x, y = X[train_index], Y[train_index]"
   ]
  },
  {
   "cell_type": "markdown",
   "metadata": {},
   "source": [
    "### Best degree"
   ]
  },
  {
   "cell_type": "code",
   "execution_count": 7,
   "metadata": {},
   "outputs": [
    {
     "name": "stderr",
     "output_type": "stream",
     "text": [
      "/Users/Sofia/anaconda3/lib/python3.6/site-packages/numpy/lib/nanfunctions.py:1434: RuntimeWarning: Degrees of freedom <= 0 for slice.\n",
      "  keepdims=keepdims)\n"
     ]
    },
    {
     "name": "stdout",
     "output_type": "stream",
     "text": [
      "1 81.68087917367282 81.6718712466971\n",
      "2 82.57900285584648 82.50960845544078\n",
      "3 82.9610056850028 82.86792377292016\n",
      "4 83.32032188325726 83.2122267595484\n",
      "5 83.68564336616222 83.63259668508287\n",
      "6 83.83844449782475 83.78272880134517\n",
      "7 84.08566204927003 84.01893666426456\n",
      "8 84.21410841540556 84.01593402193932\n",
      "9 84.17140416900205 83.92285210985668\n",
      "10 83.74969973576748 83.4744575226199\n",
      "11 84.40260762804601 84.34922732004163\n",
      "12 83.95154402540902 83.79674113219633\n",
      "13 84.01059599113887 83.89282568660421\n",
      "14 78.85539274561614 78.92545439987188\n",
      "15 70.4499959964769 69.6292737609096\n",
      "16 71.66673339205167 67.82969012731203\n",
      "17 65.09228120746258 64.20449995996478\n",
      "18 79.39286572183522 78.58015053246856\n",
      "19 68.03353617850375 71.3597966210265\n"
     ]
    }
   ],
   "source": [
    "acc_training = []\n",
    "acc_validation = []\n",
    "\n",
    "for degree in degrees:\n",
    "        acc_tr_tmp = []\n",
    "        acc_val_tmp = []\n",
    "        \n",
    "        for k in range(k_fold):\n",
    "            x_train, y_train, x_val, y_val = cross_validation(y, x, k, k_fold, seed)\n",
    "            x_tr_clean,_ = clean_data(x_train)\n",
    "            x_val_clean,_ = clean_data(x_val)\n",
    "            x_train_aug, y_train = augment_data(x_tr_clean, y_train, degree)\n",
    "            x_val_aug, y_val = augment_data(x_val_clean, y_val, degree)\n",
    "            w,_ = ridge_regression (y_train, x_train_aug, lambda_test)\n",
    "            \n",
    "            acc_tr = predict_accuracy(y_train, x_train_aug, w)\n",
    "            acc_val = predict_accuracy(y_val, x_val_aug, w)\n",
    "            \n",
    "            acc_tr_tmp.append(acc_tr)\n",
    "            acc_val_tmp.append(acc_val)\n",
    "            \n",
    "        print(degree, np.mean(acc_tr_tmp), np.mean(acc_val_tmp))\n",
    "\n",
    "        acc_training.append(np.mean(acc_tr_tmp))\n",
    "        acc_validation.append(np.mean(acc_val_tmp))\n",
    "        "
   ]
  },
  {
   "cell_type": "code",
   "execution_count": 106,
   "metadata": {
    "scrolled": true
   },
   "outputs": [
    {
     "data": {
      "image/png": "[encoded data removed]",
      "text/plain": [
       "<Figure size 432x288 with 1 Axes>"
      ]
     },
     "metadata": {},
     "output_type": "display_data"
    }
   ],
   "source": [
    "max_accuracy = np.amax(acc_validation)\n",
    "best_degree = degrees[np.argmax(acc_validation)]\n",
    "\n",
    "fig,ax = plt.subplots(1,1)\n",
    "\n",
    "plt.plot(degrees, acc_training, label='Training', marker = \"o\", markersize = 2, color = \"red\")\n",
    "plt.plot(degrees, acc_validation, label='Validation', marker = \"o\", markersize = 2, color = \"green\")\n",
    "ax.annotate('Optimal degree = %d' %(best_degree), xy=(best_degree, max_accuracy), xytext=(best_degree-4, max_accuracy-5),\n",
    "            arrowprops=dict(facecolor='black',width=1,headwidth=8,headlength=8,shrink=0.1))\n",
    "plt.plot(best_degree, max_accuracy, marker = '*', markersize=6, color = \"black\")\n",
    "plt.xticks(degrees)\n",
    "plt.xlabel(\"Polynomial degrees\", fontsize = 12)\n",
    "plt.ylabel(\"Accuracy (%)\",  fontsize = 12)\n",
    "#plt.title(\"Cross validation for Group 0\")\n",
    "plt.legend(fontsize=11)\n",
    "plt.savefig(\"degree_group0.eps\")\n",
    "plt.show()"
   ]
  },
  {
   "cell_type": "markdown",
   "metadata": {},
   "source": [
    "### Best lambda"
   ]
  },
  {
   "cell_type": "code",
   "execution_count": 109,
   "metadata": {},
   "outputs": [
    {
     "name": "stderr",
     "output_type": "stream",
     "text": [
      "/Users/Sofia/anaconda3/lib/python3.6/site-packages/numpy/lib/nanfunctions.py:1434: RuntimeWarning: Degrees of freedom <= 0 for slice.\n",
      "  keepdims=keepdims)\n"
     ]
    },
    {
     "name": "stdout",
     "output_type": "stream",
     "text": [
      "1e-08 75.95851015560359 76.55937224757787\n",
      "1e-07 84.31553100061387 84.19108815757868\n",
      "1e-06 84.402274001121 84.33121146609017\n",
      "1e-05 84.42729602049803 84.35423172391705\n",
      "0.0001 84.43463581284864 84.36624229321802\n",
      "0.001 84.40260762804601 84.34922732004163\n",
      "0.01 84.18608375370326 84.10200976859636\n"
     ]
    }
   ],
   "source": [
    "acc_training = []\n",
    "acc_validation = []\n",
    "\n",
    "for ind_lambda,lambda_ in enumerate(lambdas):\n",
    "        acc_tr_tmp = []\n",
    "        acc_val_tmp = []\n",
    "        \n",
    "        for k in range(k_fold):\n",
    "            x_train, y_train, x_val, y_val = cross_validation(y, x, k, k_fold, seed)\n",
    "            x_tr_clean,_ = clean_data(x_train)\n",
    "            x_val_clean,_ = clean_data(x_val)\n",
    "            x_train_aug, y_train = augment_data(x_tr_clean, y_train, best_degree)\n",
    "            x_val_aug, y_val = augment_data(x_val_clean, y_val, best_degree)\n",
    "            w,_ = ridge_regression (y_train, x_train_aug, lambda_)\n",
    "            \n",
    "            acc_tr = predict_accuracy (y_train, x_train_aug, w)\n",
    "            acc_val = predict_accuracy (y_val, x_val_aug, w)\n",
    "            \n",
    "            acc_tr_tmp.append(acc_tr)\n",
    "            acc_val_tmp.append(acc_val)\n",
    "            \n",
    "        print(lambda_, np.mean(acc_tr_tmp), np.mean(acc_val_tmp))\n",
    "\n",
    "        acc_training.append(np.mean(acc_tr_tmp))\n",
    "        acc_validation.append(np.mean(acc_val_tmp))"
   ]
  },
  {
   "cell_type": "code",
   "execution_count": 144,
   "metadata": {},
   "outputs": [
    {
     "data": {
      "image/png": "[encoded data removed]",
      "text/plain": [
       "<Figure size 432x288 with 1 Axes>"
      ]
     },
     "metadata": {},
     "output_type": "display_data"
    }
   ],
   "source": [
    "max_accuracy = np.amax(acc_validation)\n",
    "best_lambda = lambdas[np.argmax(acc_validation)]\n",
    "\n",
    "plt.semilogx(lambdas, acc_training, label='Training', marker = \"o\", markersize = 2, color = \"red\")\n",
    "plt.semilogx(lambdas, acc_validation, label='Validation', marker = \"o\", markersize = 2, color = \"green\")\n",
    "plt.semilogx(best_lambda, max_accuracy, marker = '*', markersize=6, color = \"black\")\n",
    "plt.annotate('Optimal $\\lambda$= %f' %(best_lambda), xy=(best_lambda, max_accuracy), xytext=(best_lambda *1e-2, max_accuracy-2),\n",
    "            arrowprops=dict(facecolor='black',width=1,headwidth=8,headlength=8,shrink=0.1))\n",
    "plt.xlabel(\"$\\lambda$\", fontsize = 12)\n",
    "plt.ylabel(\"Accuracy (%)\", fontsize = 12)\n",
    "#plt.title(\"Cross validation for Group 0\")\n",
    "plt.legend()\n",
    "plt.savefig(\"lambda_group0.eps\")\n",
    "plt.show()"
   ]
  },
  {
   "cell_type": "code",
   "execution_count": null,
   "metadata": {},
   "outputs": [],
   "source": []
  }
 ],
 "metadata": {
  "anaconda-cloud": {},
  "colab": {
   "collapsed_sections": [],
   "name": "project1.ipynb",
   "provenance": []
  },
  "kernelspec": {
   "display_name": "Python 3",
   "language": "python",
   "name": "python3"
  },
  "language_info": {
   "codemirror_mode": {
    "name": "ipython",
    "version": 3
   },
   "file_extension": ".py",
   "mimetype": "text/x-python",
   "name": "python",
   "nbconvert_exporter": "python",
   "pygments_lexer": "ipython3",
   "version": "3.6.5"
  }
 },
 "nbformat": 4,
 "nbformat_minor": 1
}
