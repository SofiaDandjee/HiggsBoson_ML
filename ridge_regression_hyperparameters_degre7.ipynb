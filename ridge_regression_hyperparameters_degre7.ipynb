{
 "cells": [
  {
   "cell_type": "code",
   "execution_count": 12,
   "metadata": {},
   "outputs": [
    {
     "name": "stdout",
     "output_type": "stream",
     "text": [
      "The autoreload extension is already loaded. To reload it, use:\n",
      "  %reload_ext autoreload\n"
     ]
    }
   ],
   "source": [
    "%matplotlib inline\n",
    "import numpy as np\n",
    "import matplotlib.pyplot as plt\n",
    "%load_ext autoreload\n",
    "%autoreload 2"
   ]
  },
  {
   "cell_type": "code",
   "execution_count": 13,
   "metadata": {},
   "outputs": [],
   "source": [
    "from proj1_helpers import *\n",
    "from data_helpers import *\n",
    "from cross_validation import *\n",
    "from plots import *"
   ]
  },
  {
   "cell_type": "code",
   "execution_count": 14,
   "metadata": {},
   "outputs": [],
   "source": [
    "#LOAD TRAINING DATA\n",
    "DATA_TRAIN_PATH = 'data/train.csv'\n",
    "y, tX, ids = load_csv_data(DATA_TRAIN_PATH)"
   ]
  },
  {
   "cell_type": "code",
   "execution_count": 15,
   "metadata": {},
   "outputs": [
    {
     "data": {
      "text/plain": [
       "[4, 5, 6, 12, 26, 27, 28]"
      ]
     },
     "execution_count": 15,
     "metadata": {},
     "output_type": "execute_result"
    }
   ],
   "source": [
    "#CLEAN TRAINING DATA\n",
    "bounds = [0.0, 0.5]\n",
    "tx_clean, ind_remov = treat_undefined_values(bounds, tX)\n",
    "ind_remov"
   ]
  },
  {
   "cell_type": "code",
   "execution_count": 16,
   "metadata": {},
   "outputs": [],
   "source": [
    "#MODEL BUILDING\n",
    "tx, mean, std = standardize(tx_clean,0)\n",
    "tx_augmented = build_poly_all_features(tx,7)\n",
    "y,tx = build_model_data(tx_augmented,y)\n",
    "y = classify(y)\n",
    "num_samples = len(y)\n",
    "num_features = tx.shape[1]\n",
    "y = y.reshape(num_samples,1)\n"
   ]
  },
  {
   "cell_type": "code",
   "execution_count": 17,
   "metadata": {},
   "outputs": [
    {
     "data": {
      "text/plain": [
       "(250000, 162)"
      ]
     },
     "execution_count": 17,
     "metadata": {},
     "output_type": "execute_result"
    }
   ],
   "source": [
    "num_samples, num_features\n",
    "tx.shape"
   ]
  },
  {
   "cell_type": "code",
   "execution_count": 18,
   "metadata": {},
   "outputs": [],
   "source": [
    "from compute_gradient import *\n",
    "from cost import *\n",
    "from implementations import *"
   ]
  },
  {
   "cell_type": "code",
   "execution_count": 19,
   "metadata": {},
   "outputs": [
    {
     "data": {
      "text/plain": [
       "((250000, 162), (250000, 1), array([[1.],\n",
       "        [0.],\n",
       "        [0.],\n",
       "        ...,\n",
       "        [1.],\n",
       "        [0.],\n",
       "        [0.]]))"
      ]
     },
     "execution_count": 19,
     "metadata": {},
     "output_type": "execute_result"
    }
   ],
   "source": [
    "#Step-size\n",
    "\n",
    "lambdas = np.logspace (-30,1,21)\n",
    "\n",
    "\n",
    "#Regularization factor\n",
    "# lambda_ = 0.01 142000 loss 10 000 iters\n",
    "#lambda_ = 0.001 141000 loss 10 000 iters\n",
    "#lambda_ = 0.02\n",
    "#loss_min = np.inf\n",
    "tx.shape,y.shape,y"
   ]
  },
  {
   "cell_type": "code",
   "execution_count": 20,
   "metadata": {},
   "outputs": [
    {
     "name": "stdout",
     "output_type": "stream",
     "text": [
      "1e-30\n",
      "0.07651639040275071\n",
      "116454800571.57112\n",
      "79.05120000000001\n",
      "78.99680000000001\n",
      "3.54813389233576e-29\n",
      "0.0765163904027549\n",
      "116454800571.57112\n",
      "79.05120000000001\n",
      "78.99680000000001\n",
      "1.2589254117941712e-27\n",
      "0.07651639040290353\n",
      "116454800571.57112\n",
      "79.05120000000001\n",
      "78.99680000000001\n",
      "4.4668359215096167e-26\n",
      "0.0765163904081771\n",
      "116454800571.57112\n",
      "79.05120000000001\n",
      "78.99680000000001\n",
      "1.5848931924611108e-24\n",
      "0.07651639059529027\n",
      "116454800571.57112\n",
      "79.05120000000001\n",
      "78.99680000000001\n",
      "5.623413251903491e-23\n",
      "0.07651639723431639\n",
      "116454800571.57112\n",
      "79.05120000000001\n",
      "78.99680000000001\n",
      "1.9952623149688827e-21\n",
      "0.07617018919724437\n",
      "116454800571.57019\n",
      "79.1356\n",
      "79.08000000000001\n",
      "7.079457843841402e-20\n",
      "0.07652499435888066\n",
      "116454800571.57114\n",
      "79.05115555555555\n",
      "78.99680000000001\n",
      "2.5118864315095718e-18\n",
      "0.07682154523747059\n",
      "116454800571.57144\n",
      "79.05120000000001\n",
      "78.99680000000001\n",
      "8.912509381337514e-17\n",
      "0.09585205912527028\n",
      "129542276205.92265\n",
      "78.84004444444444\n",
      "78.7852\n",
      "3.1622776601683794e-15\n",
      "0.41867117567565426\n",
      "132768436370.86629\n",
      "79.5776\n",
      "79.5124\n",
      "1.1220184543019653e-13\n",
      "0.13458584705240667\n",
      "132549592437.60747\n",
      "79.84706666666668\n",
      "79.7952\n",
      "3.981071705534986e-12\n",
      "0.07377104821985767\n",
      "132697103486.74393\n",
      "79.86795555555557\n",
      "79.8192\n",
      "1.4125375446227613e-10\n",
      "0.07364162224303\n",
      "132764168174.5241\n",
      "79.86746666666667\n",
      "79.8184\n",
      "5.011872336272715e-09\n",
      "0.07375867014672738\n",
      "130197232792.45866\n",
      "79.85586666666667\n",
      "79.82119999999999\n",
      "1.7782794100389227e-07\n",
      "0.07471400842820858\n",
      "112079225420.23799\n",
      "79.5556888888889\n",
      "79.50719999999998\n",
      "6.309573444801943e-06\n",
      "0.07506221550036196\n",
      "107878966366.02238\n",
      "79.30044444444444\n",
      "79.2804\n",
      "0.0002238721138568347\n",
      "0.0751884751891243\n",
      "116061912079.2896\n",
      "79.28191111111111\n",
      "79.24119999999999\n",
      "0.007943282347242854\n",
      "0.07740443069860413\n",
      "33700569642.417877\n",
      "78.80635555555554\n",
      "78.7668\n",
      "0.2818382931264449\n",
      "0.0889054636010547\n",
      "67759407494.49857\n",
      "74.73471111111111\n",
      "74.7304\n",
      "10.0\n",
      "0.12137203266570055\n",
      "31494283550.692802\n",
      "66.54213333333333\n",
      "66.5236\n"
     ]
    }
   ],
   "source": [
    "losses_tr = np.zeros(len(lambdas))\n",
    "losses_val = np.zeros(len(lambdas))\n",
    "\n",
    "k_fold = 10\n",
    "seed = 1\n",
    "loss_min = np.inf\n",
    "max_accuracy = 0\n",
    "\n",
    "#CHOOSE LAMBDA AND GAMMA\n",
    "for ind_lambda, lambda_ in enumerate(lambdas):\n",
    "    \n",
    "    loss_training = 0\n",
    "    loss_validation = 0\n",
    "    training_accuracy = 0\n",
    "    validation_accuracy = 0\n",
    "    for i,k in enumerate(range(k_fold)):\n",
    "        tx_train, y_train, tx_val, y_val = cross_validation(y, tx, k, k_fold, seed)\n",
    "        w, loss_train_k = ridge_regression(y_train, tx_train, lambda_)\n",
    "        loss_val_k = ridge_loss (y_val,tx_val,w,lambda_)\n",
    "        loss_training += loss_train_k\n",
    "        loss_validation += loss_val_k\n",
    "        training_accuracy += predict_accuracy(y_train,tx_train,w)\n",
    "        validation_accuracy += predict_accuracy(y_val,tx_val,w)\n",
    "        \n",
    "    training_accuracy /= k_fold\n",
    "    validation_accuracy /= k_fold\n",
    "    loss_training /= k_fold\n",
    "    loss_validation /= k_fold\n",
    "    print(lambda_)\n",
    "    print(loss_training)\n",
    "    print(loss_validation)\n",
    "    print(training_accuracy)\n",
    "    print(validation_accuracy)\n",
    "    if (validation_accuracy > max_accuracy):\n",
    "        weights_star = w\n",
    "        lambda_star = lambda_\n",
    "        loss_min = loss_validation\n",
    "        max_accuracy = validation_accuracy \n",
    "    losses_tr[ind_lambda] = loss_training\n",
    "    losses_val[ind_lambda] = loss_validation\n",
    "\n"
   ]
  },
  {
   "cell_type": "code",
   "execution_count": 24,
   "metadata": {},
   "outputs": [
    {
     "data": {
      "text/plain": [
       "array([1.00000000e-06, 6.81292069e-06, 4.64158883e-05, 3.16227766e-04,\n",
       "       2.15443469e-03, 1.46779927e-02, 1.00000000e-01])"
      ]
     },
     "execution_count": 24,
     "metadata": {},
     "output_type": "execute_result"
    }
   ],
   "source": [
    "lambdas"
   ]
  },
  {
   "cell_type": "code",
   "execution_count": 21,
   "metadata": {},
   "outputs": [
    {
     "data": {
      "text/plain": [
       "(130197232792.45866, 5.011872336272715e-09, 79.82119999999999)"
      ]
     },
     "execution_count": 21,
     "metadata": {},
     "output_type": "execute_result"
    }
   ],
   "source": [
    "loss_min, lambda_star, max_accuracy"
   ]
  },
  {
   "cell_type": "code",
   "execution_count": 22,
   "metadata": {},
   "outputs": [
    {
     "data": {
      "text/plain": [
       "79.8496"
      ]
     },
     "execution_count": 22,
     "metadata": {},
     "output_type": "execute_result"
    }
   ],
   "source": [
    "#PREDICT TRAINING ACCURACY\n",
    "training_accuracy = predict_accuracy(y,tx,weights_star)\n",
    "training_accuracy"
   ]
  },
  {
   "cell_type": "code",
   "execution_count": null,
   "metadata": {},
   "outputs": [],
   "source": []
  },
  {
   "cell_type": "code",
   "execution_count": 198,
   "metadata": {},
   "outputs": [],
   "source": [
    "#LOAD TEST SET\n",
    "DATA_TEST_PATH = 'data/test.csv'\n",
    "ytest, tX_test, ids_test = load_csv_data(DATA_TEST_PATH)"
   ]
  },
  {
   "cell_type": "code",
   "execution_count": 203,
   "metadata": {},
   "outputs": [
    {
     "data": {
      "text/plain": [
       "(568238, 23)"
      ]
     },
     "execution_count": 203,
     "metadata": {},
     "output_type": "execute_result"
    }
   ],
   "source": [
    "#CLEAN AND STANDARDIZE TEST SET\n",
    "tX_test_clean = np.delete(tX_test, ind_remov, axis=1)\n",
    "tX_test_clean.shape\n"
   ]
  },
  {
   "cell_type": "code",
   "execution_count": 206,
   "metadata": {},
   "outputs": [
    {
     "data": {
      "text/plain": [
       "(568238, 23)"
      ]
     },
     "execution_count": 206,
     "metadata": {},
     "output_type": "execute_result"
    }
   ],
   "source": [
    "tx_test_clean = remove_undefined_values (tX_test_clean)\n",
    "tx_test_clean.shape"
   ]
  },
  {
   "cell_type": "code",
   "execution_count": 207,
   "metadata": {},
   "outputs": [],
   "source": [
    "tx_test_clean, _, _ = standardize(tx_test_clean,0)\n"
   ]
  },
  {
   "cell_type": "code",
   "execution_count": 210,
   "metadata": {},
   "outputs": [
    {
     "data": {
      "text/plain": [
       "(568238, 23)"
      ]
     },
     "execution_count": 210,
     "metadata": {},
     "output_type": "execute_result"
    }
   ],
   "source": [
    "tx_test_augmented = build_poly_all_features(tx_test_clean,4)"
   ]
  },
  {
   "cell_type": "code",
   "execution_count": 213,
   "metadata": {},
   "outputs": [
    {
     "data": {
      "text/plain": [
       "(568238, 46)"
      ]
     },
     "execution_count": 213,
     "metadata": {},
     "output_type": "execute_result"
    }
   ],
   "source": [
    "tx_test_augmented.shape"
   ]
  },
  {
   "cell_type": "code",
   "execution_count": 214,
   "metadata": {},
   "outputs": [],
   "source": [
    "#BUILD TEST MODEL\n",
    "ytest, tx_test = build_model_data(tx_test_augmented,ytest)"
   ]
  },
  {
   "cell_type": "code",
   "execution_count": 215,
   "metadata": {},
   "outputs": [],
   "source": [
    "#PREDICT LABELS\n",
    "OUTPUT_PATH = 'data/submission_reg_logistic-degre5.csv'\n",
    "y_pred = predict_labels(weights_star, tx_test,'logistic')\n",
    "create_csv_submission(ids_test, y_pred, OUTPUT_PATH)"
   ]
  }
 ],
 "metadata": {
  "kernelspec": {
   "display_name": "Python 3",
   "language": "python",
   "name": "python3"
  },
  "language_info": {
   "codemirror_mode": {
    "name": "ipython",
    "version": 3
   },
   "file_extension": ".py",
   "mimetype": "text/x-python",
   "name": "python",
   "nbconvert_exporter": "python",
   "pygments_lexer": "ipython3",
   "version": "3.6.5"
  }
 },
 "nbformat": 4,
 "nbformat_minor": 2
}
