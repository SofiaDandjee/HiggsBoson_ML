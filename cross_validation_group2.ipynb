{
 "cells": [
  {
   "cell_type": "code",
   "execution_count": 1,
   "metadata": {
    "colab": {},
    "colab_type": "code",
    "id": "S_s6B33VEndZ"
   },
   "outputs": [],
   "source": [
    "%matplotlib inline\n",
    "import numpy as np\n",
    "import matplotlib.pyplot as plt\n",
    "%load_ext autoreload\n",
    "%autoreload 2"
   ]
  },
  {
   "cell_type": "markdown",
   "metadata": {
    "colab_type": "text",
    "id": "YaBZH_VLEndi"
   },
   "source": [
    "## Load train and test data"
   ]
  },
  {
   "cell_type": "code",
   "execution_count": 2,
   "metadata": {
    "colab": {},
    "colab_type": "code",
    "id": "QUp3aGWvqm3j"
   },
   "outputs": [],
   "source": [
    "from proj1_helpers import *\n",
    "from data_helpers import *\n",
    "from cross_validation import cross_validation\n",
    "from implementations import ridge_regression\n",
    "from cost import compute_loss\n",
    "from plots import plot_cross_validation"
   ]
  },
  {
   "cell_type": "markdown",
   "metadata": {},
   "source": [
    "### Load train and test data"
   ]
  },
  {
   "cell_type": "code",
   "execution_count": 3,
   "metadata": {
    "colab": {},
    "colab_type": "code",
    "id": "pgWxh_GdEndl"
   },
   "outputs": [],
   "source": [
    "# Data paths\n",
    "DATA_TRAIN_PATH = 'data/train.csv'\n",
    "\n",
    "# Load data\n",
    "Y, X, id_train = load_csv_data(DATA_TRAIN_PATH)"
   ]
  },
  {
   "cell_type": "markdown",
   "metadata": {},
   "source": [
    "### Get index for the three different jet groups"
   ]
  },
  {
   "cell_type": "code",
   "execution_count": 4,
   "metadata": {},
   "outputs": [],
   "source": [
    "jet_train_samples = get_jet_samples(X)"
   ]
  },
  {
   "cell_type": "markdown",
   "metadata": {},
   "source": [
    "### Define parameters"
   ]
  },
  {
   "cell_type": "code",
   "execution_count": 5,
   "metadata": {},
   "outputs": [
    {
     "data": {
      "text/plain": [
       "(range(1, 20), array([1.e-08, 1.e-07, 1.e-06, 1.e-05, 1.e-04, 1.e-03, 1.e-02]))"
      ]
     },
     "execution_count": 5,
     "metadata": {},
     "output_type": "execute_result"
    }
   ],
   "source": [
    "degrees = range(1,20)\n",
    "lambda_test = 1e-3\n",
    "lambdas = np.logspace(-8,-2,7)\n",
    "k_fold = 4\n",
    "seed = 1\n",
    "degrees, lambdas"
   ]
  },
  {
   "cell_type": "markdown",
   "metadata": {},
   "source": [
    "## Group 2"
   ]
  },
  {
   "cell_type": "code",
   "execution_count": 6,
   "metadata": {},
   "outputs": [],
   "source": [
    "# get train and test data\n",
    "train_index = jet_train_samples[2]\n",
    "x, y = X[train_index], Y[train_index]"
   ]
  },
  {
   "cell_type": "markdown",
   "metadata": {},
   "source": [
    "### Best degree"
   ]
  },
  {
   "cell_type": "code",
   "execution_count": 7,
   "metadata": {},
   "outputs": [
    {
     "name": "stdout",
     "output_type": "stream",
     "text": [
      "1 73.34390221486996 73.31541218637993\n",
      "2 76.93594338755628 76.8775847808106\n",
      "3 79.21468615017002 79.07223600771988\n",
      "4 80.27065527065527 80.11993382961126\n",
      "5 80.44067640841835 80.27708850289496\n",
      "6 80.62218546089514 80.38323683484973\n",
      "7 81.54857090340961 81.26826578439481\n",
      "8 82.5323959194927 82.26220016542598\n",
      "9 82.88576417608675 82.64267990074441\n",
      "10 82.92620163587905 82.64681555004135\n",
      "11 83.01672640382318 82.74331403363661\n",
      "12 83.11598198694972 82.87151916184175\n",
      "13 83.26027019575407 82.9652605459057\n",
      "14 82.35134638360445 82.03060380479735\n",
      "15 81.8307140887786 80.46043562172595\n",
      "16 81.38911864718317 64.73393989523021\n",
      "17 80.03124712802132 68.10862972153294\n",
      "18 73.83190883190883 66.78108629721532\n",
      "19 64.68431210366694 56.905155776123514\n"
     ]
    }
   ],
   "source": [
    "acc_training = []\n",
    "acc_validation = []\n",
    "\n",
    "for degree in degrees:\n",
    "        acc_tr_tmp = []\n",
    "        acc_val_tmp = []\n",
    "        \n",
    "        for k in range(k_fold):\n",
    "            x_train, y_train, x_val, y_val = cross_validation(y, x, k, k_fold, seed)\n",
    "            x_tr_clean,_ = clean_data(x_train)\n",
    "            x_val_clean,_ = clean_data(x_val)\n",
    "            x_train_aug, y_train = augment_data(x_tr_clean, y_train, degree)\n",
    "            x_val_aug, y_val = augment_data(x_val_clean, y_val, degree)\n",
    "            w,_ = ridge_regression (y_train, x_train_aug, lambda_test)\n",
    "            \n",
    "            acc_tr = predict_accuracy(y_train, x_train_aug, w)\n",
    "            acc_val = predict_accuracy(y_val, x_val_aug, w)\n",
    "            \n",
    "            acc_tr_tmp.append(acc_tr)\n",
    "            acc_val_tmp.append(acc_val)\n",
    "            \n",
    "        print(degree, np.mean(acc_tr_tmp), np.mean(acc_val_tmp))\n",
    "\n",
    "        acc_training.append(np.mean(acc_tr_tmp))\n",
    "        acc_validation.append(np.mean(acc_val_tmp))"
   ]
  },
  {
   "cell_type": "code",
   "execution_count": 8,
   "metadata": {},
   "outputs": [
    {
     "data": {
      "image/png": "[encoded data removed]",
      "text/plain": [
       "<Figure size 432x288 with 1 Axes>"
      ]
     },
     "metadata": {
      "needs_background": "light"
     },
     "output_type": "display_data"
    }
   ],
   "source": [
    "max_accuracy = np.amax(acc_validation)\n",
    "best_degree = degrees[np.argmax(acc_validation)]\n",
    "\n",
    "plt.plot(degrees, acc_training, label='Training', marker = \"o\", markersize = 2, color = \"red\")\n",
    "plt.plot(degrees, acc_validation, label='Validation', marker = \"o\", markersize = 2, color = \"green\")\n",
    "plt.plot(best_degree, max_accuracy, label=\"Maximum accuracy\", marker = '*', markersize=14, color = \"blue\")\n",
    "plt.xticks(degrees)\n",
    "plt.xlabel(\"Polynomial degrees\")\n",
    "plt.ylabel(\"Accuracy\")\n",
    "plt.title(\"Cross validation for Group 2\")\n",
    "plt.legend()\n",
    "plt.savefig(\"degree_group2\")\n",
    "plt.show()"
   ]
  },
  {
   "cell_type": "markdown",
   "metadata": {},
   "source": [
    "### Best lambda"
   ]
  },
  {
   "cell_type": "code",
   "execution_count": 9,
   "metadata": {},
   "outputs": [
    {
     "name": "stdout",
     "output_type": "stream",
     "text": [
      "1e-08 81.53019023986766 52.87151916184174\n",
      "1e-07 82.01773734031799 48.85718224427902\n",
      "1e-06 82.04117268633398 63.53598014888337\n",
      "1e-05 81.97316423122875 77.29252826027019\n",
      "0.0001 77.58753791011856 76.0752688172043\n",
      "0.001 83.26027019575407 82.9652605459057\n",
      "0.01 82.57329289587354 82.32423490488006\n"
     ]
    }
   ],
   "source": [
    "acc_training = []\n",
    "acc_validation = []\n",
    "\n",
    "for ind_lambda,lambda_ in enumerate(lambdas):\n",
    "        acc_tr_tmp = []\n",
    "        acc_val_tmp = []\n",
    "        \n",
    "        for k in range(k_fold):\n",
    "            x_train, y_train, x_val, y_val = cross_validation(y, x, k, k_fold, seed)\n",
    "            x_tr_clean,_ = clean_data(x_train)\n",
    "            x_val_clean,_ = clean_data(x_val)\n",
    "            x_train_aug, y_train = augment_data(x_tr_clean, y_train, best_degree)\n",
    "            x_val_aug, y_val = augment_data(x_val_clean, y_val, best_degree)\n",
    "            w,_ = ridge_regression (y_train, x_train_aug, lambda_)\n",
    "            \n",
    "            acc_tr = predict_accuracy(y_train, x_train_aug, w)\n",
    "            acc_val = predict_accuracy(y_val, x_val_aug, w)\n",
    "            \n",
    "            acc_tr_tmp.append(acc_tr)\n",
    "            acc_val_tmp.append(acc_val)\n",
    "            \n",
    "        print(lambda_, np.mean(acc_tr_tmp), np.mean(acc_val_tmp))\n",
    "\n",
    "        acc_training.append(np.mean(acc_tr_tmp))\n",
    "        acc_validation.append(np.mean(acc_val_tmp))"
   ]
  },
  {
   "cell_type": "code",
   "execution_count": 10,
   "metadata": {},
   "outputs": [
    {
     "data": {
      "image/png": "[encoded data removed]",
      "text/plain": [
       "<Figure size 432x288 with 1 Axes>"
      ]
     },
     "metadata": {
      "needs_background": "light"
     },
     "output_type": "display_data"
    }
   ],
   "source": [
    "max_accuracy = np.amax(acc_validation)\n",
    "best_lambda = lambdas[np.argmax(acc_validation)]\n",
    "\n",
    "plt.semilogx(lambdas, acc_training, label='Training', marker = \"o\", markersize = 2, color = \"red\")\n",
    "plt.semilogx(lambdas, acc_validation, label='Validation', marker = \"o\", markersize = 2, color = \"green\")\n",
    "plt.semilogx(best_lambda, max_accuracy, label=\"Maximum accuracy\", marker = '*', markersize=14, color = \"blue\")\n",
    "plt.xlabel(\"Lambdas\")\n",
    "plt.ylabel(\"Accuracy\")\n",
    "plt.title(\"Cross validation for Group 2\")\n",
    "plt.legend()\n",
    "plt.savefig(\"lambda_group2\")\n",
    "plt.show()"
   ]
  },
  {
   "cell_type": "code",
   "execution_count": null,
   "metadata": {},
   "outputs": [],
   "source": []
  }
 ],
 "metadata": {
  "anaconda-cloud": {},
  "colab": {
   "collapsed_sections": [],
   "name": "project1.ipynb",
   "provenance": []
  },
  "kernelspec": {
   "display_name": "Python 3",
   "language": "python",
   "name": "python3"
  },
  "language_info": {
   "codemirror_mode": {
    "name": "ipython",
    "version": 3
   },
   "file_extension": ".py",
   "mimetype": "text/x-python",
   "name": "python",
   "nbconvert_exporter": "python",
   "pygments_lexer": "ipython3",
   "version": "3.7.4"
  }
 },
 "nbformat": 4,
 "nbformat_minor": 1
}
