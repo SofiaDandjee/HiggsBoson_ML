{
 "cells": [
  {
   "cell_type": "code",
   "execution_count": 20,
   "metadata": {
    "colab": {},
    "colab_type": "code",
    "id": "S_s6B33VEndZ"
   },
   "outputs": [
    {
     "name": "stdout",
     "output_type": "stream",
     "text": [
      "The autoreload extension is already loaded. To reload it, use:\n",
      "  %reload_ext autoreload\n"
     ]
    }
   ],
   "source": [
    "%matplotlib inline\n",
    "import numpy as np\n",
    "import matplotlib.pyplot as plt\n",
    "%load_ext autoreload\n",
    "%autoreload 2"
   ]
  },
  {
   "cell_type": "markdown",
   "metadata": {
    "colab_type": "text",
    "id": "YaBZH_VLEndi"
   },
   "source": [
    "## Load the training data into feature matrix, class labels, and event ids:"
   ]
  },
  {
   "cell_type": "code",
   "execution_count": 21,
   "metadata": {
    "colab": {},
    "colab_type": "code",
    "id": "QUp3aGWvqm3j"
   },
   "outputs": [],
   "source": [
    "from proj1_helpers import *\n",
    "from data_helpers import *\n",
    "from implementations import *"
   ]
  },
  {
   "cell_type": "code",
   "execution_count": 22,
   "metadata": {
    "colab": {},
    "colab_type": "code",
    "id": "pgWxh_GdEndl"
   },
   "outputs": [],
   "source": [
    "#lOAD TRAIN DATA\n",
    "DATA_TRAIN_PATH = 'data/train.csv'\n",
    "y, tX, ids = load_csv_data(DATA_TRAIN_PATH)"
   ]
  },
  {
   "cell_type": "code",
   "execution_count": 23,
   "metadata": {},
   "outputs": [
    {
     "data": {
      "text/plain": [
       "[4, 5, 6, 12, 26, 27, 28]"
      ]
     },
     "execution_count": 23,
     "metadata": {},
     "output_type": "execute_result"
    }
   ],
   "source": [
    "#CLEAN TRAIN DATA: delete columns with numerous undefined values\n",
    "bounds = [0.0, 0.5]\n",
    "tX_clean, ind_remov = treat_undefined_values(bounds, tX)\n",
    "ind_remov"
   ]
  },
  {
   "cell_type": "code",
   "execution_count": 24,
   "metadata": {},
   "outputs": [],
   "source": [
    "#MODEL BUILDING\n",
    "tx, mean, std = standardize(tX_clean,0)\n",
    "y, tx = build_model_data(tx,y)"
   ]
  },
  {
   "cell_type": "code",
   "execution_count": 25,
   "metadata": {
    "colab": {},
    "colab_type": "code",
    "id": "-jv3lZU9hlEw",
    "outputId": "fd436073-e0fd-40c4-efb2-bdae44420cbf"
   },
   "outputs": [
    {
     "data": {
      "text/plain": [
       "(250000, 24)"
      ]
     },
     "execution_count": 25,
     "metadata": {},
     "output_type": "execute_result"
    }
   ],
   "source": [
    "num_samples = len(y)\n",
    "num_features = tx.shape[1]\n",
    "\n",
    "num_samples, num_features"
   ]
  },
  {
   "cell_type": "markdown",
   "metadata": {
    "colab_type": "text",
    "id": "ReKwkQ-cEnds"
   },
   "source": [
    "## Ridge regression using normal equations:"
   ]
  },
  {
   "cell_type": "markdown",
   "metadata": {},
   "source": [
    "### Linear regression"
   ]
  },
  {
   "cell_type": "code",
   "execution_count": 27,
   "metadata": {},
   "outputs": [
    {
     "data": {
      "image/png": "[encoded data removed]",
      "text/plain": [
       "<Figure size 432x288 with 1 Axes>"
      ]
     },
     "metadata": {
      "needs_background": "light"
     },
     "output_type": "display_data"
    },
    {
     "name": "stdout",
     "output_type": "stream",
     "text": [
      " Best value of lambda = 0.0004124626382901365 \n",
      " Loss = 0.8393400807674494 \n",
      " Weights = [-0.31440256  0.0309335  -0.25833265 -0.27093214 -0.02281768  0.27124568\n",
      " -0.03555087  0.02314085 -0.18873896  0.12465084  0.19043216 -0.00080423\n",
      " -0.00089797  0.28596836 -0.0009073   0.00228802  0.11737855  0.00081974\n",
      " -0.07359579  0.06264649  0.06562791 -0.01422376 -0.01348664 -0.08059052]\n"
     ]
    }
   ],
   "source": [
    "from cross_validation import cross_validation\n",
    "from cost import compute_loss_rmse\n",
    "from plots import *\n",
    "\n",
    "lambdas = np.logspace(-20, -2, 40)\n",
    "k_fold = 4\n",
    "seed = 6\n",
    "\n",
    "# prepare storage of the mean of the weights and rmse for train and test data\n",
    "ws = np.zeros((num_features, len(lambdas)))\n",
    "rmse_train = []\n",
    "rmse_test = []\n",
    "\n",
    "for ind, lambda_ in enumerate(lambdas):\n",
    "    # prepare storage of weights and rmse for train and test data for each fold\n",
    "    ws_tmp = np.zeros((num_features, k_fold))\n",
    "    rmse_tr = []\n",
    "    rmse_te = []\n",
    "    # cross-validation\n",
    "    for i,k in enumerate(range(k_fold)):\n",
    "        tx_train, y_train, tx_test, y_test = cross_validation(y, tx, k, k_fold, seed)\n",
    "        w,_ = ridge_regression(y_train, tx_train, lambda_)\n",
    "        # store weights and rmse for train and test data for each fold\n",
    "        ws_tmp[:, i] = w\n",
    "        rmse_tr.append(compute_loss_rmse(y_train, tx_train, w))\n",
    "        rmse_te.append(compute_loss_rmse(y_test, tx_test, w))\n",
    "    # store the mean of the weights and rmse for train and test data\n",
    "    ws[:, ind] = np.mean(ws_tmp, 1)\n",
    "    rmse_train.append(np.mean(rmse_tr))\n",
    "    rmse_test.append(np.mean(rmse_te))\n",
    "    \n",
    "loss = np.amin(rmse_test)\n",
    "weights = ws[:, np.argmin(rmse_test)]\n",
    "lambda_star = lambdas[np.argmin(rmse_test)]\n",
    "\n",
    "\n",
    "plot_cross_validation(lambdas, \"Lambda\", lambda_star, rmse_train, rmse_test, loss)\n",
    "print(\" Best value of lambda = {g} \\n Loss = {l} \\n Weights = {we}\".format(\n",
    "    g=lambda_star, l=loss, we = weights))"
   ]
  },
  {
   "cell_type": "markdown",
   "metadata": {},
   "source": [
    "### Polynomial regression"
   ]
  },
  {
   "cell_type": "code",
   "execution_count": 32,
   "metadata": {
    "scrolled": false
   },
   "outputs": [
    {
     "ename": "KeyboardInterrupt",
     "evalue": "",
     "output_type": "error",
     "traceback": [
      "\u001b[1;31m---------------------------------------------------------------------------\u001b[0m",
      "\u001b[1;31mKeyboardInterrupt\u001b[0m                         Traceback (most recent call last)",
      "\u001b[1;32m<ipython-input-32-8bc1ff331a34>\u001b[0m in \u001b[0;36m<module>\u001b[1;34m\u001b[0m\n\u001b[0;32m     37\u001b[0m             \u001b[0mrmse_tr\u001b[0m\u001b[1;33m.\u001b[0m\u001b[0mappend\u001b[0m\u001b[1;33m(\u001b[0m\u001b[0mridge_loss\u001b[0m\u001b[1;33m(\u001b[0m\u001b[0my_train\u001b[0m\u001b[1;33m,\u001b[0m \u001b[0mtx_train\u001b[0m\u001b[1;33m,\u001b[0m \u001b[0mw\u001b[0m\u001b[1;33m,\u001b[0m \u001b[0mlambda_\u001b[0m\u001b[1;33m)\u001b[0m\u001b[1;33m)\u001b[0m\u001b[1;33m\u001b[0m\u001b[1;33m\u001b[0m\u001b[0m\n\u001b[0;32m     38\u001b[0m             \u001b[0mrmse_te\u001b[0m\u001b[1;33m.\u001b[0m\u001b[0mappend\u001b[0m\u001b[1;33m(\u001b[0m\u001b[0mridge_loss\u001b[0m\u001b[1;33m(\u001b[0m\u001b[0my_test\u001b[0m\u001b[1;33m,\u001b[0m \u001b[0mtx_test\u001b[0m\u001b[1;33m,\u001b[0m \u001b[0mw\u001b[0m\u001b[1;33m,\u001b[0m \u001b[0mlambda_\u001b[0m\u001b[1;33m)\u001b[0m\u001b[1;33m)\u001b[0m\u001b[1;33m\u001b[0m\u001b[1;33m\u001b[0m\u001b[0m\n\u001b[1;32m---> 39\u001b[1;33m             \u001b[0maccuracy_tr\u001b[0m\u001b[1;33m.\u001b[0m\u001b[0mappend\u001b[0m\u001b[1;33m(\u001b[0m\u001b[0mpredict_accuracy\u001b[0m\u001b[1;33m(\u001b[0m\u001b[0my_train\u001b[0m\u001b[1;33m,\u001b[0m\u001b[0mtx_train\u001b[0m\u001b[1;33m,\u001b[0m\u001b[0mw\u001b[0m\u001b[1;33m)\u001b[0m\u001b[1;33m)\u001b[0m\u001b[1;33m\u001b[0m\u001b[1;33m\u001b[0m\u001b[0m\n\u001b[0m\u001b[0;32m     40\u001b[0m             \u001b[0maccuracy_te\u001b[0m\u001b[1;33m.\u001b[0m\u001b[0mappend\u001b[0m\u001b[1;33m(\u001b[0m\u001b[0mpredict_accuracy\u001b[0m\u001b[1;33m(\u001b[0m\u001b[0my_test\u001b[0m\u001b[1;33m,\u001b[0m\u001b[0mtx_test\u001b[0m\u001b[1;33m,\u001b[0m\u001b[0mw\u001b[0m\u001b[1;33m)\u001b[0m\u001b[1;33m)\u001b[0m\u001b[1;33m\u001b[0m\u001b[1;33m\u001b[0m\u001b[0m\n\u001b[0;32m     41\u001b[0m         \u001b[1;31m# store the mean of the weights and rmse for train and test data\u001b[0m\u001b[1;33m\u001b[0m\u001b[1;33m\u001b[0m\u001b[1;33m\u001b[0m\u001b[0m\n",
      "\u001b[1;32m~\\Documents\\EPFL\\Master I-II\\Master I\\Machine learning\\ML_Project1\\proj1_helpers.py\u001b[0m in \u001b[0;36mpredict_accuracy\u001b[1;34m(y, tx, weights_star)\u001b[0m\n\u001b[0;32m     31\u001b[0m         \u001b[1;32mif\u001b[0m \u001b[1;33m(\u001b[0m\u001b[0my_pred_training\u001b[0m\u001b[1;33m[\u001b[0m\u001b[0mi\u001b[0m\u001b[1;33m]\u001b[0m \u001b[1;33m==\u001b[0m \u001b[1;33m-\u001b[0m\u001b[1;36m1\u001b[0m \u001b[1;32mand\u001b[0m \u001b[0my\u001b[0m\u001b[1;33m[\u001b[0m\u001b[0mi\u001b[0m\u001b[1;33m]\u001b[0m \u001b[1;33m==\u001b[0m \u001b[1;36m0\u001b[0m\u001b[1;33m)\u001b[0m\u001b[1;33m:\u001b[0m\u001b[1;33m\u001b[0m\u001b[1;33m\u001b[0m\u001b[0m\n\u001b[0;32m     32\u001b[0m             \u001b[0mcount\u001b[0m \u001b[1;33m+=\u001b[0m \u001b[1;36m1\u001b[0m\u001b[1;33m\u001b[0m\u001b[1;33m\u001b[0m\u001b[0m\n\u001b[1;32m---> 33\u001b[1;33m         \u001b[1;32melif\u001b[0m \u001b[1;33m(\u001b[0m\u001b[0my_pred_training\u001b[0m\u001b[1;33m[\u001b[0m\u001b[0mi\u001b[0m\u001b[1;33m]\u001b[0m \u001b[1;33m==\u001b[0m \u001b[0my\u001b[0m\u001b[1;33m[\u001b[0m\u001b[0mi\u001b[0m\u001b[1;33m]\u001b[0m\u001b[1;33m)\u001b[0m\u001b[1;33m:\u001b[0m\u001b[1;33m\u001b[0m\u001b[1;33m\u001b[0m\u001b[0m\n\u001b[0m\u001b[0;32m     34\u001b[0m             \u001b[0mcount\u001b[0m \u001b[1;33m+=\u001b[0m \u001b[1;36m1\u001b[0m\u001b[1;33m\u001b[0m\u001b[1;33m\u001b[0m\u001b[0m\n\u001b[0;32m     35\u001b[0m     \u001b[0maccuracy\u001b[0m \u001b[1;33m=\u001b[0m \u001b[1;33m(\u001b[0m\u001b[0mcount\u001b[0m \u001b[1;33m*\u001b[0m\u001b[1;36m100\u001b[0m\u001b[1;33m)\u001b[0m \u001b[1;33m/\u001b[0m \u001b[0mnum_samples\u001b[0m\u001b[1;33m\u001b[0m\u001b[1;33m\u001b[0m\u001b[0m\n",
      "\u001b[1;31mKeyboardInterrupt\u001b[0m: "
     ]
    }
   ],
   "source": [
    "from cross_validation import cross_validation\n",
    "from cost import ridge_loss\n",
    "from plots import plot_cross_validation\n",
    "\n",
    "degrees = 4\n",
    "lambdas = np.logspace(-15, -1, 50)\n",
    "k_fold = 2\n",
    "seed = 6\n",
    "\n",
    "Lambdas_star = []\n",
    "Loss = []\n",
    "\n",
    "for indices, degree in enumerate(range(1, degrees+1)):\n",
    "    tx_augmented = build_poly_all_features(tx, degree)\n",
    "                                                      \n",
    "    # prepare storage of the mean of the weights and rmse for train and test data\n",
    "    ws = np.zeros((tx_augmented.shape[1], len(lambdas)))\n",
    "    rmse_train = []\n",
    "    rmse_test = []\n",
    "    accuracy_train = []\n",
    "    accuracy_test = []\n",
    "    \n",
    "    for ind, lambda_ in enumerate(lambdas):\n",
    "        # prepare storage of weights and rmse for train and test data for each fold\n",
    "        ws_tmp = np.zeros((tx_augmented.shape[1], k_fold))\n",
    "        rmse_tr = []\n",
    "        rmse_te = []\n",
    "        accuracy_tr = []\n",
    "        accuracy_te = []\n",
    "        # cross-validation\n",
    "        for i,k in enumerate(range(k_fold)):\n",
    "            tx_train, y_train, tx_test, y_test = cross_validation(y, tx_augmented, k, k_fold, seed)\n",
    "            #ridge regression\n",
    "            w,_ = ridge_regression(y_train, tx_train, lambda_)\n",
    "            # store weights and rmse for train and test data for each fold\n",
    "            ws_tmp[:, i] = w\n",
    "            rmse_tr.append(ridge_loss(y_train, tx_train, w, lambda_))\n",
    "            rmse_te.append(ridge_loss(y_test, tx_test, w, lambda_))\n",
    "            accuracy_tr.append(predict_accuracy(y_train,tx_train,w))\n",
    "            accuracy_te.append(predict_accuracy(y_test,tx_test,w))\n",
    "        # store the mean of the weights and rmse for train and test data\n",
    "        ws[:, ind] = np.mean(ws_tmp, 1)\n",
    "        rmse_train.append(np.mean(rmse_tr))\n",
    "        rmse_test.append(np.mean(rmse_te))\n",
    "        accuracy_train.append(np.mean(accuracy_tr))\n",
    "        accuracy_test.append(np.mean(accuracy_te))\n",
    "            \n",
    "    loss_train = np.amin(rmse_train)    \n",
    "    loss_test = np.amin(rmse_test)\n",
    "    training_accuracy = np.amin(accuracy_train)\n",
    "    test_accuracy = np.amin(accuracy_test)\n",
    "    weights = ws[:, np.argmin(accuracy_test)]\n",
    "    lambda_star = lambdas[np.argmin(accuracy_test)]\n",
    "\n",
    "    plot_cross_validation(lambdas, \"Lambda\", lambda_star, rmse_train, rmse_test, loss_test)\n",
    "    print(\"Degree={d} Best value of lambda = {g} \\n Train loss = {l_tr} Test loss = {l_te} Train accuracy = {tr_ac} Test accuracy = {te_ac} \\n Weights = {we}\".format(\n",
    "        d=degree, g=lambda_star, l_tr=loss_train, l_te=loss_test, tr_ac=training_accuracy, te_ac=test_accuracy, we = weights))\n",
    "    \n",
    "    Lambdas_star.append(lambda_star)\n",
    "    Accuracy.append(test_accuracy)\n",
    "    "
   ]
  },
  {
   "cell_type": "code",
   "execution_count": 28,
   "metadata": {},
   "outputs": [
    {
     "data": {
      "image/png": "[encoded data removed]",
      "text/plain": [
       "<Figure size 432x288 with 1 Axes>"
      ]
     },
     "metadata": {
      "needs_background": "light"
     },
     "output_type": "display_data"
    },
    {
     "name": "stdout",
     "output_type": "stream",
     "text": [
      "Best degree=1 Best value of lambda = 1e-15 \n",
      " Loss = 0.35227338818058185 \n",
      " Weights = [-3.14664000e-01  3.08157890e-02 -2.58822960e-01 -2.72765785e-01\n",
      " -2.51514284e-02  2.72765701e-01 -3.50975460e-02 -3.75305608e+02\n",
      " -1.90159809e-01  1.24802998e-01  7.28912327e+01 -7.95581431e-04\n",
      " -8.86537961e-04  7.18628594e+01 -8.92979471e-04  2.28779092e-03\n",
      "  1.18215204e-01  8.10150028e-04 -7.38787984e-02  6.59532961e-02\n",
      "  8.65313913e-02 -2.87904016e-02 -1.74587359e-02  3.17857902e+02]\n"
     ]
    }
   ],
   "source": [
    "plt.plot(range(1, degrees+1), Loss, color='g')\n",
    "plt.xlabel(\"Degree\")\n",
    "plt.ylabel(\"RMSE\")\n",
    "plt.title(\"Test error in function of the degree\")\n",
    "plt.grid(True)\n",
    "plt.show()\n",
    "\n",
    "degree_star =  np.argmin(Accuracy) + 1\n",
    "Accuracy_star = np.amin(Accuracy)\n",
    "Lambda_star = Lambdas_star[np.argmin(Accuracy)]\n",
    "\n",
    "TX_train = build_poly_all_features(tx, degree_star)\n",
    "Weights_star,_ = ridge_regression(y, tx, Lambda_star)\n",
    "print(\"Best degree={d} Best value of lambda = {g} \\n Accuracy = {ac} \\n Weights = {we}\".format(\n",
    "        d=degree_star, g=Lambda_star, ac=Accuracy_star, we = Weights_star))"
   ]
  },
  {
   "cell_type": "code",
   "execution_count": 29,
   "metadata": {},
   "outputs": [
    {
     "data": {
      "text/plain": [
       "66.2124"
      ]
     },
     "execution_count": 29,
     "metadata": {},
     "output_type": "execute_result"
    }
   ],
   "source": [
    "#PREDICT TRAINING ACCURACY\n",
    "training_accuracy = predict_accuracy(y,tx,Weights_star)\n",
    "training_accuracy"
   ]
  },
  {
   "cell_type": "markdown",
   "metadata": {
    "colab_type": "text",
    "id": "yUQybl2IEndu"
   },
   "source": [
    "## Generate predictions and save ouput in csv format for submission:"
   ]
  },
  {
   "cell_type": "code",
   "execution_count": 27,
   "metadata": {
    "colab": {},
    "colab_type": "code",
    "id": "Ewy_ZY2kEndx"
   },
   "outputs": [],
   "source": [
    "DATA_TEST_PATH = 'data/test.csv'\n",
    "ytest, tX_test, ids_test = load_csv_data(DATA_TEST_PATH)\n",
    "tX_test_clean = np.delete(tX_test, ind_remove, axis=1)\n",
    "_, tx_test = build_model_data(tX_test_clean,ytest)"
   ]
  },
  {
   "cell_type": "code",
   "execution_count": 28,
   "metadata": {
    "colab": {
     "base_uri": "https://localhost:8080/",
     "height": 198
    },
    "colab_type": "code",
    "id": "Ya9xiZufEnd2",
    "outputId": "a5f1377a-08a2-4255-b58d-9a733eff30fa"
   },
   "outputs": [],
   "source": [
    "OUTPUT_PATH = 'data/submission_ridge.csv'\n",
    "y_pred = predict_labels(Weights_star, tx_test)\n",
    "create_csv_submission(ids_test, y_pred, OUTPUT_PATH)"
   ]
  },
  {
   "cell_type": "code",
   "execution_count": null,
   "metadata": {},
   "outputs": [],
   "source": []
  }
 ],
 "metadata": {
  "anaconda-cloud": {},
  "colab": {
   "collapsed_sections": [],
   "name": "project1.ipynb",
   "provenance": []
  },
  "kernelspec": {
   "display_name": "Python 3",
   "language": "python",
   "name": "python3"
  }
 },
 "nbformat": 4,
 "nbformat_minor": 1
}
