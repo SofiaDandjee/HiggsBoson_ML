{
 "cells": [
  {
   "cell_type": "code",
   "execution_count": 1,
   "metadata": {},
   "outputs": [],
   "source": [
    "%matplotlib inline\n",
    "import numpy as np\n",
    "import matplotlib.pyplot as plt\n",
    "%load_ext autoreload\n",
    "%autoreload 2"
   ]
  },
  {
   "cell_type": "code",
   "execution_count": 2,
   "metadata": {},
   "outputs": [],
   "source": [
    "from proj1_helpers import *\n",
    "from data_helpers import *\n",
    "from cross_validation import *\n",
    "from plots import *"
   ]
  },
  {
   "cell_type": "code",
   "execution_count": 3,
   "metadata": {},
   "outputs": [],
   "source": [
    "#LOAD TRAINING DATA\n",
    "DATA_TRAIN_PATH = 'data/train.csv'\n",
    "y, tX, ids = load_csv_data(DATA_TRAIN_PATH)"
   ]
  },
  {
   "cell_type": "code",
   "execution_count": 4,
   "metadata": {},
   "outputs": [
    {
     "data": {
      "text/plain": [
       "[4, 5, 6, 12, 26, 27, 28]"
      ]
     },
     "execution_count": 4,
     "metadata": {},
     "output_type": "execute_result"
    }
   ],
   "source": [
    "#CLEAN TRAINING DATA\n",
    "bounds = [0.0, 0.5]\n",
    "tx_clean, ind_remov = treat_undefined_values(bounds, tX)\n",
    "ind_remov"
   ]
  },
  {
   "cell_type": "code",
   "execution_count": 5,
   "metadata": {},
   "outputs": [],
   "source": [
    "#MODEL BUILDING\n",
    "tx, mean, std = standardize(tx_clean,0)\n",
    "tx_augmented = build_poly_all_features(tx,2)\n",
    "y,tx = build_model_data(tx_augmented,y)\n",
    "y = classify(y)\n",
    "num_samples = len(y)\n",
    "num_features = tx.shape[1]\n",
    "y = y.reshape(num_samples,1)\n"
   ]
  },
  {
   "cell_type": "code",
   "execution_count": 6,
   "metadata": {},
   "outputs": [
    {
     "data": {
      "text/plain": [
       "(250000, 47)"
      ]
     },
     "execution_count": 6,
     "metadata": {},
     "output_type": "execute_result"
    }
   ],
   "source": [
    "num_samples, num_features\n",
    "tx.shape"
   ]
  },
  {
   "cell_type": "code",
   "execution_count": 7,
   "metadata": {},
   "outputs": [],
   "source": [
    "from compute_gradient import *\n",
    "from cost import *\n",
    "from implementations import *"
   ]
  },
  {
   "cell_type": "code",
   "execution_count": 10,
   "metadata": {},
   "outputs": [
    {
     "data": {
      "text/plain": [
       "((250000, 47), (250000, 1), array([[1.],\n",
       "        [0.],\n",
       "        [0.],\n",
       "        ...,\n",
       "        [1.],\n",
       "        [0.],\n",
       "        [0.]]))"
      ]
     },
     "execution_count": 10,
     "metadata": {},
     "output_type": "execute_result"
    }
   ],
   "source": [
    "#Initial weight\n",
    "\n",
    "\n",
    "#Maximum iterations through the whole set\n",
    "max_iter = 100\n",
    "\n",
    "#0.001 nan\n",
    "#0.0005 nan\n",
    "\n",
    "#Step-size\n",
    "gammas = np.logspace(-6,-3, 7)\n",
    "lambdas = np.logspace (-5,0,7)\n",
    "\n",
    "\n",
    "#Regularization factor\n",
    "# lambda_ = 0.01 142000 loss 10 000 iters\n",
    "#lambda_ = 0.001 141000 loss 10 000 iters\n",
    "#lambda_ = 0.02\n",
    "#loss_min = np.inf\n",
    "tx.shape,y.shape,y"
   ]
  },
  {
   "cell_type": "code",
   "execution_count": null,
   "metadata": {},
   "outputs": [
    {
     "name": "stdout",
     "output_type": "stream",
     "text": [
      "0.693038900853815\n",
      "0.693038626049674\n",
      "0.6926698493894505\n",
      "0.6926687692757123\n",
      "0.691516208195458\n",
      "0.6915115249552872\n",
      "0.6879823551204608\n",
      "0.6879650486461031\n",
      "0.6778106799235489\n",
      "0.677749738877403\n",
      "0.6531265553918006\n",
      "0.6529375662217655\n",
      "0.613318196161167\n",
      "0.6126913813140342\n",
      "0.6082108341655306\n",
      "0.6082106929122877\n",
      "0.6081276245536795\n",
      "0.6081271735898788\n",
      "0.6078662653520552\n",
      "0.6078647975095669\n",
      "0.6070571411113745\n",
      "0.6070520866097321\n",
      "0.6046614904898112\n",
      "0.6046415394000191\n",
      "0.5984393561679111\n",
      "0.5983416034460913\n",
      "inf\n",
      "0.5866080968985525\n",
      "inf\n",
      "inf\n",
      "inf\n",
      "inf\n",
      "inf\n",
      "inf\n",
      "inf\n",
      "inf\n",
      "inf\n",
      "inf\n"
     ]
    }
   ],
   "source": [
    "losses_tr = np.zeros((len(gammas),len(lambdas)))\n",
    "losses_val = np.zeros((len(gammas),len(lambdas)))\n",
    "\n",
    "k_fold = 2\n",
    "seed = 1\n",
    "loss_min = np.inf\n",
    "initial_w = np.zeros((tx.shape[1],1))\n",
    "\n",
    "#CHOOSE LAMBDA AND GAMMA\n",
    "for ind_lambda, lambda_ in enumerate(lambdas):\n",
    "    for ind_gamma ,gamma_ in enumerate (gammas):\n",
    "        loss_training = 0\n",
    "        loss_validation = 0\n",
    "        for i,k in enumerate(range(k_fold)):\n",
    "            \n",
    "            tx_train, y_train, tx_val, y_val = cross_validation(y, tx, k, k_fold, seed)\n",
    "            w, loss_train_k = reg_logistic_regression(y_train, tx_train, lambda_, initial_w, max_iter, gamma_)\n",
    "            loss_val_k = reg_logistic_loss (y_val,tx_val,w,lambda_)/len(y_val)\n",
    "            loss_train_k /= len(y_train)\n",
    "            loss_training += loss_train_k\n",
    "            loss_validation += loss_val_k\n",
    "        \n",
    "        \n",
    "        loss_training /= k_fold\n",
    "        loss_validation /= k_fold\n",
    "        print(loss_training)\n",
    "        print(loss_validation)\n",
    "        if (loss_validation < loss_min):\n",
    "            weights_star = w\n",
    "            lambda_star = lambda_\n",
    "            gamma_star = gamma_\n",
    "            loss_min = loss_validation\n",
    "        \n",
    "        losses_tr[ind_lambda][ind_gamma] = loss_training\n",
    "        losses_val[ind_lambda][ind_gamma] = loss_validation\n",
    "\n"
   ]
  },
  {
   "cell_type": "code",
   "execution_count": null,
   "metadata": {},
   "outputs": [],
   "source": [
    "losses_tr, losses_val"
   ]
  },
  {
   "cell_type": "code",
   "execution_count": 179,
   "metadata": {},
   "outputs": [
    {
     "data": {
      "text/plain": [
       "65.7348"
      ]
     },
     "execution_count": 179,
     "metadata": {},
     "output_type": "execute_result"
    }
   ],
   "source": [
    "#PREDICT TRAINING ACCURACY\n",
    "y_pred_training = predict_labels(weights_star, tx,'logistic')\n",
    "count = 0\n",
    "for i in range(num_samples):\n",
    "    if (y_pred_training[i] == -1 and y[i] == 0):\n",
    "        count += 1\n",
    "    elif (y_pred_training[i] == y[i]):\n",
    "        count += 1\n",
    "accuracy = (count *100) / num_samples\n",
    "\n",
    "accuracy"
   ]
  },
  {
   "cell_type": "code",
   "execution_count": 10,
   "metadata": {},
   "outputs": [
    {
     "name": "stdout",
     "output_type": "stream",
     "text": [
      "109756.20152532344\n",
      "106358.24427164088\n",
      "103998.8971821258\n",
      "101962.78875222043\n",
      "100254.79069723404\n",
      "99122.38969705586\n",
      "98024.67377478634\n",
      "96873.45443026749\n",
      "96200.26310447392\n",
      "95512.88918771365\n",
      "94633.74422621673\n",
      "94174.9225446923\n",
      "93700.44105454849\n",
      "92984.60449754844\n",
      "92635.08271871509\n",
      "92283.37906065678\n",
      "91681.76554292584\n",
      "91390.07583801802\n",
      "91114.97847155234\n",
      "90602.76483372312\n",
      "90341.48166176202\n",
      "90117.24236954766\n",
      "89680.53116548403\n",
      "89434.13306026228\n",
      "89245.18785906598\n",
      "88875.1919369561\n",
      "88634.3119818995\n",
      "88470.7695883172\n",
      "88161.42409864564\n",
      "87920.26124928558\n",
      "87775.4829514335\n",
      "87522.16153524394\n",
      "87285.51012460973\n",
      "87146.38468264748\n",
      "86945.38989317586\n"
     ]
    },
    {
     "name": "stderr",
     "output_type": "stream",
     "text": [
      "/Users/Sofia/Desktop/ML_Project1/cost.py:20: RuntimeWarning: divide by zero encountered in log\n",
      "  loss = y.T.dot(np.log(pred)) + (1 - y).T.dot(np.log(1 - pred))\n"
     ]
    },
    {
     "name": "stdout",
     "output_type": "stream",
     "text": [
      "inf\n",
      "86587.41363136146\n",
      "86422.20268752072\n",
      "nan\n",
      "nan\n",
      "85945.01798911016\n",
      "nan\n",
      "nan\n",
      "inf\n",
      "nan\n",
      "nan\n",
      "inf\n",
      "nan\n",
      "nan\n",
      "inf\n",
      "nan\n",
      "nan\n",
      "inf\n",
      "nan\n",
      "nan\n",
      "inf\n",
      "nan\n",
      "nan\n",
      "inf\n",
      "nan\n",
      "nan\n",
      "inf\n",
      "nan\n",
      "nan\n",
      "inf\n",
      "nan\n",
      "nan\n",
      "inf\n",
      "nan\n",
      "nan\n",
      "inf\n",
      "nan\n",
      "nan\n",
      "inf\n",
      "nan\n",
      "nan\n",
      "inf\n",
      "nan\n",
      "nan\n",
      "inf\n",
      "nan\n",
      "nan\n",
      "inf\n",
      "nan\n",
      "nan\n",
      "inf\n",
      "nan\n",
      "nan\n",
      "inf\n",
      "nan\n",
      "nan\n",
      "inf\n",
      "nan\n",
      "nan\n",
      "inf\n",
      "nan\n",
      "nan\n",
      "inf\n",
      "nan\n",
      "nan\n",
      "inf\n",
      "nan\n",
      "nan\n",
      "inf\n",
      "nan\n",
      "nan\n",
      "inf\n",
      "nan\n",
      "nan\n",
      "inf\n",
      "nan\n",
      "nan\n",
      "inf\n",
      "nan\n",
      "nan\n",
      "inf\n",
      "nan\n",
      "nan\n",
      "inf\n",
      "nan\n",
      "nan\n",
      "inf\n",
      "nan\n",
      "nan\n",
      "inf\n",
      "nan\n",
      "nan\n",
      "84740.28664937796\n",
      "nan\n",
      "nan\n",
      "87838.05540500928\n",
      "nan\n",
      "nan\n",
      "90451.7818387172\n",
      "nan\n",
      "91773.01016959178\n",
      "92466.24412926171\n",
      "93031.61730846028\n",
      "93469.53342641865\n",
      "93943.10752045868\n",
      "94390.89359130901\n",
      "94689.38939216967\n",
      "94996.1247354117\n",
      "95353.57864514536\n",
      "95550.10579544837\n",
      "95735.97691935896\n",
      "96027.5590714678\n"
     ]
    }
   ],
   "source": [
    "#HYPER TUNING OF PARAMETERS\n",
    "\n",
    "losses_tr = np.zeros((len(gammas),len(lambdas)))\n",
    "losses_val = np.zeros((len(gammas),len(lambdas)))\n",
    "\n",
    "k_fold = 2\n",
    "seed = 1\n",
    "\n",
    "for ind_lambda, lambda_ in enumerate(lambdas):\n",
    "    for ind_gamma ,gamma_ in enumerate (gammas):\n",
    "        for ind_degree, degree in enumerate (degrees):\n",
    "            tx = build_poly_all_features(tx,degree)\n",
    "            for i,k in enumerate(range(k_fold)):\n",
    "                \n",
    "                tx_train, y_train, tx_val, y_val = cross_validation(y, tx, k, k_fold, seed)\n",
    "                w, loss_training = reg_logistic_regression(y_train, tx_train, lambda_, initial_w, max_iter, gamma)\n",
    "                loss_val = reg_logistic_loss (y_val,tx_val,w,lambda_)/len(y_val)\n",
    "                loss_training /= len(y_train)\n",
    "                losses_tr[ind_lambda][ind_gamma]= loss_training\n",
    "                losses_val [ind_lambda][ind_gamma] = loss_val\n",
    "            \n",
    "            \n",
    "                if loss_training < loss_min:\n",
    "                    weights_star = w\n",
    "                    gamma_star = gamma\n",
    "                    lambda_star = lambda_\n",
    "                    loss_min = loss_training"
   ]
  },
  {
   "cell_type": "code",
   "execution_count": 11,
   "metadata": {},
   "outputs": [
    {
     "data": {
      "text/plain": [
       "array([[0.62399588, 0.59473672, 0.57720389, 0.5650518 , 0.55581272,\n",
       "        0.54834265, 0.54205106],\n",
       "       [0.53660694, 0.531808  , 0.52752368, 0.52371516,        inf,\n",
       "               nan,        nan],\n",
       "       [       nan,        nan,        nan,        nan,        nan,\n",
       "               nan,        nan],\n",
       "       [       nan,        nan,        nan,        nan,        nan,\n",
       "               nan,        nan],\n",
       "       [       nan,        nan,        nan,        nan,        nan,\n",
       "               nan,        nan],\n",
       "       [       nan,        nan,        nan,        nan,        nan,\n",
       "               nan,        nan],\n",
       "       [       nan,        nan,        nan, 0.55819194, 0.56634763,\n",
       "        0.57212376, 0.57616766]])"
      ]
     },
     "execution_count": 11,
     "metadata": {},
     "output_type": "execute_result"
    }
   ],
   "source": [
    "losses_tr"
   ]
  },
  {
   "cell_type": "code",
   "execution_count": 12,
   "metadata": {},
   "outputs": [
    {
     "data": {
      "text/plain": [
       "array([[0.62358287, 0.59419693, 0.57664055, 0.56451943, 0.55534669,\n",
       "        0.54796646, 0.54177972],\n",
       "       [0.53644946, 0.53176947, 0.52760732, 0.52387337, 0.52050458,\n",
       "        0.5174515 , 0.51467054],\n",
       "       [0.51213306, 0.50980579, 0.50766861, 0.50570216, 0.50388547,\n",
       "        0.50219951, 0.50062936],\n",
       "       [0.49920404, 0.49786857, 0.49661534, 0.4954376 , 0.49432922,\n",
       "        0.49328466, 0.49229889],\n",
       "       [0.49162306, 0.49097199, 0.49034576, 0.48974414, 0.48916671,\n",
       "        0.48861291, 0.48808202],\n",
       "       [0.48935751, 0.49060756, 0.49181166, 0.49296242, 0.49405869,\n",
       "        0.49510162, 0.49609291],\n",
       "       [0.5151914 , 0.53307717, 0.54757207, 0.55853499, 0.56649348,\n",
       "        0.57213713, 0.57609077]])"
      ]
     },
     "execution_count": 12,
     "metadata": {},
     "output_type": "execute_result"
    }
   ],
   "source": [
    "losses_val"
   ]
  },
  {
   "cell_type": "code",
   "execution_count": 198,
   "metadata": {},
   "outputs": [],
   "source": [
    "#LOAD TEST SET\n",
    "DATA_TEST_PATH = 'data/test.csv'\n",
    "ytest, tX_test, ids_test = load_csv_data(DATA_TEST_PATH)"
   ]
  },
  {
   "cell_type": "code",
   "execution_count": 203,
   "metadata": {},
   "outputs": [
    {
     "data": {
      "text/plain": [
       "(568238, 23)"
      ]
     },
     "execution_count": 203,
     "metadata": {},
     "output_type": "execute_result"
    }
   ],
   "source": [
    "#CLEAN AND STANDARDIZE TEST SET\n",
    "tX_test_clean = np.delete(tX_test, ind_remov, axis=1)\n",
    "tX_test_clean.shape\n"
   ]
  },
  {
   "cell_type": "code",
   "execution_count": 206,
   "metadata": {},
   "outputs": [
    {
     "data": {
      "text/plain": [
       "(568238, 23)"
      ]
     },
     "execution_count": 206,
     "metadata": {},
     "output_type": "execute_result"
    }
   ],
   "source": [
    "tx_test_clean = remove_undefined_values (tX_test_clean)\n",
    "tx_test_clean.shape"
   ]
  },
  {
   "cell_type": "code",
   "execution_count": 207,
   "metadata": {},
   "outputs": [],
   "source": [
    "tx_test_clean, _, _ = standardize(tx_test_clean,0)\n"
   ]
  },
  {
   "cell_type": "code",
   "execution_count": 210,
   "metadata": {},
   "outputs": [
    {
     "data": {
      "text/plain": [
       "(568238, 23)"
      ]
     },
     "execution_count": 210,
     "metadata": {},
     "output_type": "execute_result"
    }
   ],
   "source": [
    "tx_test_augmented = build_poly_all_features(tx_test_clean,2)"
   ]
  },
  {
   "cell_type": "code",
   "execution_count": 213,
   "metadata": {},
   "outputs": [
    {
     "data": {
      "text/plain": [
       "(568238, 46)"
      ]
     },
     "execution_count": 213,
     "metadata": {},
     "output_type": "execute_result"
    }
   ],
   "source": [
    "tx_test_augmented.shape"
   ]
  },
  {
   "cell_type": "code",
   "execution_count": 214,
   "metadata": {},
   "outputs": [],
   "source": [
    "#BUILD TEST MODEL\n",
    "ytest, tx_test = build_model_data(tx_test_augmented,ytest)"
   ]
  },
  {
   "cell_type": "code",
   "execution_count": 215,
   "metadata": {},
   "outputs": [],
   "source": [
    "#PREDICT LABELS\n",
    "OUTPUT_PATH = 'data/submission_reg_logistic-degre2.csv'\n",
    "y_pred = predict_labels(weights_star, tx_test,'logistic')\n",
    "create_csv_submission(ids_test, y_pred, OUTPUT_PATH)"
   ]
  },
  {
   "cell_type": "code",
   "execution_count": 31,
   "metadata": {
    "scrolled": true
   },
   "outputs": [
    {
     "data": {
      "text/plain": [
       "(1.0, 5e-05, inf)"
      ]
     },
     "execution_count": 31,
     "metadata": {},
     "output_type": "execute_result"
    }
   ],
   "source": [
    "lambda_star, gamma_star,loss_min"
   ]
  },
  {
   "cell_type": "code",
   "execution_count": 23,
   "metadata": {},
   "outputs": [
    {
     "data": {
      "text/plain": [
       "array([1.00000000e-06, 3.16227766e-06, 1.00000000e-05, 3.16227766e-05,\n",
       "       1.00000000e-04, 3.16227766e-04, 1.00000000e-03])"
      ]
     },
     "execution_count": 23,
     "metadata": {},
     "output_type": "execute_result"
    }
   ],
   "source": [
    "gammas"
   ]
  },
  {
   "cell_type": "code",
   "execution_count": 24,
   "metadata": {},
   "outputs": [
    {
     "data": {
      "text/plain": [
       "array([1.00000000e-05, 6.81292069e-05, 4.64158883e-04, 3.16227766e-03,\n",
       "       2.15443469e-02, 1.46779927e-01, 1.00000000e+00])"
      ]
     },
     "execution_count": 24,
     "metadata": {},
     "output_type": "execute_result"
    }
   ],
   "source": [
    "lambdas"
   ]
  }
 ],
 "metadata": {
  "kernelspec": {
   "display_name": "Python 3",
   "language": "python",
   "name": "python3"
  },
  "language_info": {
   "codemirror_mode": {
    "name": "ipython",
    "version": 3
   },
   "file_extension": ".py",
   "mimetype": "text/x-python",
   "name": "python",
   "nbconvert_exporter": "python",
   "pygments_lexer": "ipython3",
   "version": "3.6.5"
  }
 },
 "nbformat": 4,
 "nbformat_minor": 2
}
