{
 "cells": [
  {
   "cell_type": "code",
   "execution_count": 1,
   "metadata": {},
   "outputs": [],
   "source": [
    "%matplotlib inline\n",
    "import numpy as np\n",
    "import matplotlib.pyplot as plt\n",
    "%load_ext autoreload\n",
    "%autoreload 2"
   ]
  },
  {
   "cell_type": "code",
   "execution_count": 2,
   "metadata": {},
   "outputs": [],
   "source": [
    "from proj1_helpers import *\n",
    "from data_helpers import *\n",
    "from cross_validation import *\n",
    "from plots import *"
   ]
  },
  {
   "cell_type": "code",
   "execution_count": 3,
   "metadata": {},
   "outputs": [],
   "source": [
    "#LOAD TRAINING DATA\n",
    "DATA_TRAIN_PATH = 'data/train.csv'\n",
    "y, tX, ids = load_csv_data(DATA_TRAIN_PATH)"
   ]
  },
  {
   "cell_type": "code",
   "execution_count": 4,
   "metadata": {},
   "outputs": [
    {
     "data": {
      "text/plain": [
       "[4, 5, 6, 12, 26, 27, 28]"
      ]
     },
     "execution_count": 4,
     "metadata": {},
     "output_type": "execute_result"
    }
   ],
   "source": [
    "#CLEAN TRAINING DATA\n",
    "bounds = [0.0, 0.5]\n",
    "tx_clean, ind_remov = treat_undefined_values(bounds, tX)\n",
    "ind_remov"
   ]
  },
  {
   "cell_type": "code",
   "execution_count": 5,
   "metadata": {},
   "outputs": [],
   "source": [
    "#MODEL BUILDING\n",
    "tx, mean, std = standardize(tx_clean,0)\n",
    "tx_augmented = build_poly_all_features(tx,6)\n",
    "y,tx = build_model_data(tx_augmented,y)\n",
    "y = classify(y)\n",
    "num_samples = len(y)\n",
    "num_features = tx.shape[1]\n",
    "y = y.reshape(num_samples,1)\n"
   ]
  },
  {
   "cell_type": "code",
   "execution_count": 6,
   "metadata": {},
   "outputs": [
    {
     "data": {
      "text/plain": [
       "(250000, 139)"
      ]
     },
     "execution_count": 6,
     "metadata": {},
     "output_type": "execute_result"
    }
   ],
   "source": [
    "num_samples, num_features\n",
    "tx.shape"
   ]
  },
  {
   "cell_type": "code",
   "execution_count": 7,
   "metadata": {},
   "outputs": [],
   "source": [
    "from compute_gradient import *\n",
    "from cost import *\n",
    "from implementations import *"
   ]
  },
  {
   "cell_type": "code",
   "execution_count": 8,
   "metadata": {},
   "outputs": [
    {
     "data": {
      "text/plain": [
       "((250000, 139), (250000, 1), array([[1.],\n",
       "        [0.],\n",
       "        [0.],\n",
       "        ...,\n",
       "        [1.],\n",
       "        [0.],\n",
       "        [0.]]))"
      ]
     },
     "execution_count": 8,
     "metadata": {},
     "output_type": "execute_result"
    }
   ],
   "source": [
    "#Step-size\n",
    "\n",
    "lambdas = np.logspace (-20,1,21)\n",
    "\n",
    "\n",
    "#Regularization factor\n",
    "# lambda_ = 0.01 142000 loss 10 000 iters\n",
    "#lambda_ = 0.001 141000 loss 10 000 iters\n",
    "#lambda_ = 0.02\n",
    "#loss_min = np.inf\n",
    "tx.shape,y.shape,y"
   ]
  },
  {
   "cell_type": "code",
   "execution_count": 9,
   "metadata": {},
   "outputs": [
    {
     "name": "stdout",
     "output_type": "stream",
     "text": [
      "1e-20\n",
      "0.07503577843296456\n",
      "19690176.224880252\n",
      "79.2504\n",
      "79.21880000000002\n",
      "1.1220184543019653e-19\n",
      "0.07503578122012743\n",
      "19690176.224880252\n",
      "79.2504\n",
      "79.21880000000002\n",
      "1.2589254117941713e-18\n",
      "0.07503581249260913\n",
      "19690176.224880286\n",
      "79.2504\n",
      "79.21880000000002\n",
      "1.4125375446227496e-17\n",
      "0.0750361633756249\n",
      "19690176.224880632\n",
      "79.2504\n",
      "79.21880000000002\n",
      "1.5848931924611109e-16\n",
      "0.07504110385775407\n",
      "19691511.872259356\n",
      "79.25142222222223\n",
      "79.22119999999998\n",
      "1.7782794100389227e-15\n",
      "0.07511002890265642\n",
      "19700754.10209071\n",
      "79.24924444444444\n",
      "79.22279999999999\n",
      "1.9952623149688828e-14\n",
      "0.07516019338334859\n",
      "19708142.66170353\n",
      "79.2504\n",
      "79.2188\n",
      "2.238721138568347e-13\n",
      "0.07507178741458907\n",
      "19702016.182954393\n",
      "79.2504888888889\n",
      "79.22240000000002\n",
      "2.5118864315095823e-12\n",
      "0.07503649753071537\n",
      "19732619.694198325\n",
      "79.25195555555555\n",
      "79.22\n",
      "2.8183829312644606e-11\n",
      "0.0750377898750241\n",
      "19814600.253776114\n",
      "79.25275555555555\n",
      "79.2148\n",
      "3.1622776601683795e-10\n",
      "0.07505032824371828\n",
      "19728747.64031073\n",
      "79.25200000000001\n",
      "79.21200000000002\n",
      "3.5481338923357603e-09\n",
      "0.07517562613129451\n",
      "18590611.072369818\n",
      "79.2484\n",
      "79.198\n",
      "3.9810717055349855e-08\n",
      "0.07582541759245916\n",
      "12574513.376978612\n",
      "79.0672888888889\n",
      "79.03119999999998\n",
      "4.466835921509635e-07\n",
      "0.07644321802060304\n",
      "6908723.805551382\n",
      "78.72635555555556\n",
      "78.68440000000001\n",
      "5.011872336272735e-06\n",
      "0.07655570380968461\n",
      "5900867.56416391\n",
      "78.64586666666668\n",
      "78.6028\n",
      "5.623413251903491e-05\n",
      "0.07658732635223119\n",
      "5687783.925591621\n",
      "78.6331111111111\n",
      "78.58200000000001\n",
      "0.0006309573444801943\n",
      "0.07677276484696752\n",
      "6091633.263769003\n",
      "78.60111111111111\n",
      "78.5564\n",
      "0.007079457843841402\n",
      "0.07805800450647257\n",
      "4968200.929349004\n",
      "78.3816\n",
      "78.35199999999999\n",
      "0.07943282347242854\n",
      "0.08343298815473452\n",
      "34518259.18141275\n",
      "76.75191111111111\n",
      "76.7244\n",
      "0.8912509381337441\n",
      "0.0983006354826084\n",
      "105269319.56098285\n",
      "71.05435555555555\n",
      "71.0544\n",
      "10.0\n",
      "0.12374429341710454\n",
      "76073429.40711729\n",
      "66.38351111111112\n",
      "66.3844\n"
     ]
    }
   ],
   "source": [
    "losses_tr = np.zeros(len(lambdas))\n",
    "losses_val = np.zeros(len(lambdas))\n",
    "\n",
    "k_fold = 10\n",
    "seed = 1\n",
    "loss_min = np.inf\n",
    "max_accuracy = 0\n",
    "\n",
    "#CHOOSE LAMBDA AND GAMMA\n",
    "for ind_lambda, lambda_ in enumerate(lambdas):\n",
    "    \n",
    "    loss_training = 0\n",
    "    loss_validation = 0\n",
    "    training_accuracy = 0\n",
    "    validation_accuracy = 0\n",
    "    for i,k in enumerate(range(k_fold)):\n",
    "        tx_train, y_train, tx_val, y_val = cross_validation(y, tx, k, k_fold, seed)\n",
    "        w, loss_train_k = ridge_regression(y_train, tx_train, lambda_)\n",
    "        loss_val_k = ridge_loss (y_val,tx_val,w,lambda_)\n",
    "        loss_training += loss_train_k\n",
    "        loss_validation += loss_val_k\n",
    "        training_accuracy += predict_accuracy(y_train,tx_train,w)\n",
    "        validation_accuracy += predict_accuracy(y_val,tx_val,w)\n",
    "        \n",
    "    training_accuracy /= k_fold\n",
    "    validation_accuracy /= k_fold\n",
    "    loss_training /= k_fold\n",
    "    loss_validation /= k_fold\n",
    "    print(lambda_)\n",
    "    print(loss_training)\n",
    "    print(loss_validation)\n",
    "    print(training_accuracy)\n",
    "    print(validation_accuracy)\n",
    "    if (validation_accuracy > max_accuracy):\n",
    "        weights_star = w\n",
    "        lambda_star = lambda_\n",
    "        loss_min = loss_validation\n",
    "        max_accuracy = validation_accuracy \n",
    "    losses_tr[ind_lambda] = loss_training\n",
    "    losses_val[ind_lambda] = loss_validation\n",
    "\n"
   ]
  },
  {
   "cell_type": "code",
   "execution_count": 24,
   "metadata": {},
   "outputs": [
    {
     "data": {
      "text/plain": [
       "array([1.00000000e-06, 6.81292069e-06, 4.64158883e-05, 3.16227766e-04,\n",
       "       2.15443469e-03, 1.46779927e-02, 1.00000000e-01])"
      ]
     },
     "execution_count": 24,
     "metadata": {},
     "output_type": "execute_result"
    }
   ],
   "source": [
    "lambdas"
   ]
  },
  {
   "cell_type": "code",
   "execution_count": 11,
   "metadata": {},
   "outputs": [
    {
     "data": {
      "text/plain": [
       "(19700754.10209071, 1.7782794100389227e-15, 79.22279999999999)"
      ]
     },
     "execution_count": 11,
     "metadata": {},
     "output_type": "execute_result"
    }
   ],
   "source": [
    "loss_min, lambda_star, max_accuracy"
   ]
  },
  {
   "cell_type": "code",
   "execution_count": 10,
   "metadata": {},
   "outputs": [
    {
     "data": {
      "text/plain": [
       "79.2252"
      ]
     },
     "execution_count": 10,
     "metadata": {},
     "output_type": "execute_result"
    }
   ],
   "source": [
    "#PREDICT TRAINING ACCURACY\n",
    "training_accuracy = predict_accuracy(y,tx,weights_star)\n",
    "training_accuracy"
   ]
  },
  {
   "cell_type": "code",
   "execution_count": null,
   "metadata": {},
   "outputs": [],
   "source": []
  },
  {
   "cell_type": "code",
   "execution_count": 198,
   "metadata": {},
   "outputs": [],
   "source": [
    "#LOAD TEST SET\n",
    "DATA_TEST_PATH = 'data/test.csv'\n",
    "ytest, tX_test, ids_test = load_csv_data(DATA_TEST_PATH)"
   ]
  },
  {
   "cell_type": "code",
   "execution_count": 203,
   "metadata": {},
   "outputs": [
    {
     "data": {
      "text/plain": [
       "(568238, 23)"
      ]
     },
     "execution_count": 203,
     "metadata": {},
     "output_type": "execute_result"
    }
   ],
   "source": [
    "#CLEAN AND STANDARDIZE TEST SET\n",
    "tX_test_clean = np.delete(tX_test, ind_remov, axis=1)\n",
    "tX_test_clean.shape\n"
   ]
  },
  {
   "cell_type": "code",
   "execution_count": 206,
   "metadata": {},
   "outputs": [
    {
     "data": {
      "text/plain": [
       "(568238, 23)"
      ]
     },
     "execution_count": 206,
     "metadata": {},
     "output_type": "execute_result"
    }
   ],
   "source": [
    "tx_test_clean = remove_undefined_values (tX_test_clean)\n",
    "tx_test_clean.shape"
   ]
  },
  {
   "cell_type": "code",
   "execution_count": 207,
   "metadata": {},
   "outputs": [],
   "source": [
    "tx_test_clean, _, _ = standardize(tx_test_clean,0)\n"
   ]
  },
  {
   "cell_type": "code",
   "execution_count": 210,
   "metadata": {},
   "outputs": [
    {
     "data": {
      "text/plain": [
       "(568238, 23)"
      ]
     },
     "execution_count": 210,
     "metadata": {},
     "output_type": "execute_result"
    }
   ],
   "source": [
    "tx_test_augmented = build_poly_all_features(tx_test_clean,4)"
   ]
  },
  {
   "cell_type": "code",
   "execution_count": 213,
   "metadata": {},
   "outputs": [
    {
     "data": {
      "text/plain": [
       "(568238, 46)"
      ]
     },
     "execution_count": 213,
     "metadata": {},
     "output_type": "execute_result"
    }
   ],
   "source": [
    "tx_test_augmented.shape"
   ]
  },
  {
   "cell_type": "code",
   "execution_count": 214,
   "metadata": {},
   "outputs": [],
   "source": [
    "#BUILD TEST MODEL\n",
    "ytest, tx_test = build_model_data(tx_test_augmented,ytest)"
   ]
  },
  {
   "cell_type": "code",
   "execution_count": 215,
   "metadata": {},
   "outputs": [],
   "source": [
    "#PREDICT LABELS\n",
    "OUTPUT_PATH = 'data/submission_reg_logistic-degre5.csv'\n",
    "y_pred = predict_labels(weights_star, tx_test,'logistic')\n",
    "create_csv_submission(ids_test, y_pred, OUTPUT_PATH)"
   ]
  }
 ],
 "metadata": {
  "kernelspec": {
   "display_name": "Python 3",
   "language": "python",
   "name": "python3"
  },
  "language_info": {
   "codemirror_mode": {
    "name": "ipython",
    "version": 3
   },
   "file_extension": ".py",
   "mimetype": "text/x-python",
   "name": "python",
   "nbconvert_exporter": "python",
   "pygments_lexer": "ipython3",
   "version": "3.6.5"
  }
 },
 "nbformat": 4,
 "nbformat_minor": 2
}
