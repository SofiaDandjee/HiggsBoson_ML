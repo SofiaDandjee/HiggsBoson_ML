{
 "cells": [
  {
   "cell_type": "code",
   "execution_count": 24,
   "metadata": {},
   "outputs": [
    {
     "name": "stdout",
     "output_type": "stream",
     "text": [
      "The autoreload extension is already loaded. To reload it, use:\n",
      "  %reload_ext autoreload\n"
     ]
    }
   ],
   "source": [
    "%matplotlib inline\n",
    "import numpy as np\n",
    "import matplotlib.pyplot as plt\n",
    "%load_ext autoreload\n",
    "%autoreload 2"
   ]
  },
  {
   "cell_type": "code",
   "execution_count": 25,
   "metadata": {},
   "outputs": [],
   "source": [
    "from proj1_helpers import *\n",
    "from data_helpers import *\n",
    "from cross_validation import *\n",
    "from plots import *"
   ]
  },
  {
   "cell_type": "code",
   "execution_count": 26,
   "metadata": {},
   "outputs": [],
   "source": [
    "#LOAD TRAINING DATA\n",
    "DATA_TRAIN_PATH = 'data/train.csv'\n",
    "y, tX, ids = load_csv_data(DATA_TRAIN_PATH)"
   ]
  },
  {
   "cell_type": "code",
   "execution_count": 27,
   "metadata": {},
   "outputs": [
    {
     "data": {
      "text/plain": [
       "[4, 5, 6, 12, 26, 27, 28]"
      ]
     },
     "execution_count": 27,
     "metadata": {},
     "output_type": "execute_result"
    }
   ],
   "source": [
    "#CLEAN TRAINING DATA\n",
    "bounds = [0.0, 0.5]\n",
    "tx_clean, ind_remov = treat_undefined_values(bounds, tX)\n",
    "ind_remov"
   ]
  },
  {
   "cell_type": "code",
   "execution_count": 28,
   "metadata": {},
   "outputs": [],
   "source": [
    "#MODEL BUILDING\n",
    "tx, mean, std = standardize(tx_clean,0)\n",
    "tx_augmented = build_poly_all_features(tx,5)\n",
    "y,tx = build_model_data(tx_augmented,y)\n",
    "y = classify(y)\n",
    "num_samples = len(y)\n",
    "num_features = tx.shape[1]\n",
    "y = y.reshape(num_samples,1)\n"
   ]
  },
  {
   "cell_type": "code",
   "execution_count": 29,
   "metadata": {},
   "outputs": [
    {
     "data": {
      "text/plain": [
       "(250000, 116)"
      ]
     },
     "execution_count": 29,
     "metadata": {},
     "output_type": "execute_result"
    }
   ],
   "source": [
    "num_samples, num_features\n",
    "tx.shape"
   ]
  },
  {
   "cell_type": "code",
   "execution_count": 30,
   "metadata": {},
   "outputs": [],
   "source": [
    "from compute_gradient import *\n",
    "from cost import *\n",
    "from implementations import *"
   ]
  },
  {
   "cell_type": "code",
   "execution_count": 31,
   "metadata": {},
   "outputs": [
    {
     "data": {
      "text/plain": [
       "((250000, 116), (250000, 1), array([[1.],\n",
       "        [0.],\n",
       "        [0.],\n",
       "        ...,\n",
       "        [1.],\n",
       "        [0.],\n",
       "        [0.]]))"
      ]
     },
     "execution_count": 31,
     "metadata": {},
     "output_type": "execute_result"
    }
   ],
   "source": [
    "#Step-size\n",
    "\n",
    "lambdas = np.logspace (-20,1,21)\n",
    "\n",
    "\n",
    "#Regularization factor\n",
    "# lambda_ = 0.01 142000 loss 10 000 iters\n",
    "#lambda_ = 0.001 141000 loss 10 000 iters\n",
    "#lambda_ = 0.02\n",
    "#loss_min = np.inf\n",
    "tx.shape,y.shape,y"
   ]
  },
  {
   "cell_type": "code",
   "execution_count": 32,
   "metadata": {},
   "outputs": [
    {
     "name": "stdout",
     "output_type": "stream",
     "text": [
      "1e-20\n",
      "0.07696803232428363\n",
      "93965.9604444564\n",
      "78.42431111111111\n",
      "78.396\n",
      "1.1220184543019653e-19\n",
      "0.07696805550679874\n",
      "93965.96044447958\n",
      "78.42431111111111\n",
      "78.396\n",
      "1.2589254117941713e-18\n",
      "0.07696831561889632\n",
      "93965.9604447397\n",
      "78.42431111111111\n",
      "78.396\n",
      "1.4125375446227496e-17\n",
      "0.07697123412463322\n",
      "93965.9604476582\n",
      "78.42431111111111\n",
      "78.396\n",
      "1.5848931924611109e-16\n",
      "0.07699059568598468\n",
      "95273.64716105275\n",
      "78.43333333333332\n",
      "78.4076\n",
      "1.7782794100389227e-15\n",
      "0.07696729960138818\n",
      "95102.46286339528\n",
      "78.42822222222223\n",
      "78.40360000000001\n",
      "1.9952623149688828e-14\n",
      "0.07695361213291636\n",
      "95108.45802602197\n",
      "78.42857777777779\n",
      "78.4048\n",
      "2.238721138568347e-13\n",
      "0.07695378517215083\n",
      "95077.00567638937\n",
      "78.42804444444445\n",
      "78.41040000000001\n",
      "2.5118864315095823e-12\n",
      "0.07695422759118282\n",
      "94858.29958940009\n",
      "78.42835555555556\n",
      "78.41440000000001\n",
      "2.8183829312644606e-11\n",
      "0.07695662137444441\n",
      "94741.00733795963\n",
      "78.42777777777778\n",
      "78.4104\n",
      "3.1622776601683795e-10\n",
      "0.07698054617119364\n",
      "94248.0654335045\n",
      "78.42391111111111\n",
      "78.4068\n",
      "3.5481338923357603e-09\n",
      "0.07720224282194357\n",
      "90196.04437938318\n",
      "78.42306666666668\n",
      "78.3836\n",
      "3.9810717055349855e-08\n",
      "0.0780126497772056\n",
      "78986.92988107403\n",
      "78.12435555555555\n",
      "78.09120000000001\n",
      "4.466835921509635e-07\n",
      "0.0784833934620197\n",
      "72440.34074193922\n",
      "77.80924444444445\n",
      "77.7828\n",
      "5.011872336272735e-06\n",
      "0.0785694953422289\n",
      "69282.39384677228\n",
      "77.75257777777777\n",
      "77.728\n",
      "5.623413251903491e-05\n",
      "0.07859632773275134\n",
      "66632.62401317163\n",
      "77.74262222222222\n",
      "77.71199999999999\n",
      "0.0006309573444801943\n",
      "0.07872497586648922\n",
      "59574.69341916624\n",
      "77.718\n",
      "77.67960000000001\n",
      "0.007079457843841402\n",
      "0.07959390910217941\n",
      "34108.74986079369\n",
      "77.61800000000001\n",
      "77.59\n",
      "0.07943282347242854\n",
      "0.08416908749968866\n",
      "13212.373138838971\n",
      "76.43195555555556\n",
      "76.4092\n",
      "0.8912509381337441\n",
      "0.10035612124823186\n",
      "107394.24622949449\n",
      "70.5115111111111\n",
      "70.5016\n",
      "10.0\n",
      "0.1310475037313194\n",
      "47127.54587933515\n",
      "66.0804888888889\n",
      "66.0752\n"
     ]
    }
   ],
   "source": [
    "losses_tr = np.zeros(len(lambdas))\n",
    "losses_val = np.zeros(len(lambdas))\n",
    "\n",
    "k_fold = 10\n",
    "seed = 1\n",
    "loss_min = np.inf\n",
    "max_accuracy = 0\n",
    "\n",
    "#CHOOSE LAMBDA AND GAMMA\n",
    "for ind_lambda, lambda_ in enumerate(lambdas):\n",
    "    \n",
    "    loss_training = 0\n",
    "    loss_validation = 0\n",
    "    training_accuracy = 0\n",
    "    validation_accuracy = 0\n",
    "    for i,k in enumerate(range(k_fold)):\n",
    "        tx_train, y_train, tx_val, y_val = cross_validation(y, tx, k, k_fold, seed)\n",
    "        w, loss_train_k = ridge_regression(y_train, tx_train, lambda_)\n",
    "        loss_val_k = ridge_loss (y_val,tx_val,w,lambda_)\n",
    "        loss_training += loss_train_k\n",
    "        loss_validation += loss_val_k\n",
    "        training_accuracy += predict_accuracy(y_train,tx_train,w)\n",
    "        validation_accuracy += predict_accuracy(y_val,tx_val,w)\n",
    "        \n",
    "    training_accuracy /= k_fold\n",
    "    validation_accuracy /= k_fold\n",
    "    loss_training /= k_fold\n",
    "    loss_validation /= k_fold\n",
    "    print(lambda_)\n",
    "    print(loss_training)\n",
    "    print(loss_validation)\n",
    "    print(training_accuracy)\n",
    "    print(validation_accuracy)\n",
    "    if (validation_accuracy > max_accuracy):\n",
    "        weights_star = w\n",
    "        lambda_star = lambda_\n",
    "        loss_min = loss_validation\n",
    "        max_accuracy = validation_accuracy \n",
    "    losses_tr[ind_lambda] = loss_training\n",
    "    losses_val[ind_lambda] = loss_validation\n",
    "\n"
   ]
  },
  {
   "cell_type": "code",
   "execution_count": 24,
   "metadata": {},
   "outputs": [
    {
     "data": {
      "text/plain": [
       "array([1.00000000e-06, 6.81292069e-06, 4.64158883e-05, 3.16227766e-04,\n",
       "       2.15443469e-03, 1.46779927e-02, 1.00000000e-01])"
      ]
     },
     "execution_count": 24,
     "metadata": {},
     "output_type": "execute_result"
    }
   ],
   "source": [
    "lambdas"
   ]
  },
  {
   "cell_type": "code",
   "execution_count": 34,
   "metadata": {},
   "outputs": [
    {
     "data": {
      "text/plain": [
       "(94858.29958940009, 2.5118864315095823e-12, 78.41440000000001)"
      ]
     },
     "execution_count": 34,
     "metadata": {},
     "output_type": "execute_result"
    }
   ],
   "source": [
    "loss_min, lambda_star, max_accuracy"
   ]
  },
  {
   "cell_type": "code",
   "execution_count": 35,
   "metadata": {},
   "outputs": [
    {
     "data": {
      "text/plain": [
       "78.4028"
      ]
     },
     "execution_count": 35,
     "metadata": {},
     "output_type": "execute_result"
    }
   ],
   "source": [
    "#PREDICT TRAINING ACCURACY\n",
    "training_accuracy = predict_accuracy(y,tx,weights_star)\n",
    "training_accuracy"
   ]
  },
  {
   "cell_type": "code",
   "execution_count": null,
   "metadata": {},
   "outputs": [],
   "source": []
  },
  {
   "cell_type": "code",
   "execution_count": 198,
   "metadata": {},
   "outputs": [],
   "source": [
    "#LOAD TEST SET\n",
    "DATA_TEST_PATH = 'data/test.csv'\n",
    "ytest, tX_test, ids_test = load_csv_data(DATA_TEST_PATH)"
   ]
  },
  {
   "cell_type": "code",
   "execution_count": 203,
   "metadata": {},
   "outputs": [
    {
     "data": {
      "text/plain": [
       "(568238, 23)"
      ]
     },
     "execution_count": 203,
     "metadata": {},
     "output_type": "execute_result"
    }
   ],
   "source": [
    "#CLEAN AND STANDARDIZE TEST SET\n",
    "tX_test_clean = np.delete(tX_test, ind_remov, axis=1)\n",
    "tX_test_clean.shape\n"
   ]
  },
  {
   "cell_type": "code",
   "execution_count": 206,
   "metadata": {},
   "outputs": [
    {
     "data": {
      "text/plain": [
       "(568238, 23)"
      ]
     },
     "execution_count": 206,
     "metadata": {},
     "output_type": "execute_result"
    }
   ],
   "source": [
    "tx_test_clean = remove_undefined_values (tX_test_clean)\n",
    "tx_test_clean.shape"
   ]
  },
  {
   "cell_type": "code",
   "execution_count": 207,
   "metadata": {},
   "outputs": [],
   "source": [
    "tx_test_clean, _, _ = standardize(tx_test_clean,0)\n"
   ]
  },
  {
   "cell_type": "code",
   "execution_count": 210,
   "metadata": {},
   "outputs": [
    {
     "data": {
      "text/plain": [
       "(568238, 23)"
      ]
     },
     "execution_count": 210,
     "metadata": {},
     "output_type": "execute_result"
    }
   ],
   "source": [
    "tx_test_augmented = build_poly_all_features(tx_test_clean,4)"
   ]
  },
  {
   "cell_type": "code",
   "execution_count": 213,
   "metadata": {},
   "outputs": [
    {
     "data": {
      "text/plain": [
       "(568238, 46)"
      ]
     },
     "execution_count": 213,
     "metadata": {},
     "output_type": "execute_result"
    }
   ],
   "source": [
    "tx_test_augmented.shape"
   ]
  },
  {
   "cell_type": "code",
   "execution_count": 214,
   "metadata": {},
   "outputs": [],
   "source": [
    "#BUILD TEST MODEL\n",
    "ytest, tx_test = build_model_data(tx_test_augmented,ytest)"
   ]
  },
  {
   "cell_type": "code",
   "execution_count": 215,
   "metadata": {},
   "outputs": [],
   "source": [
    "#PREDICT LABELS\n",
    "OUTPUT_PATH = 'data/submission_reg_logistic-degre5.csv'\n",
    "y_pred = predict_labels(weights_star, tx_test,'logistic')\n",
    "create_csv_submission(ids_test, y_pred, OUTPUT_PATH)"
   ]
  }
 ],
 "metadata": {
  "kernelspec": {
   "display_name": "Python 3",
   "language": "python",
   "name": "python3"
  },
  "language_info": {
   "codemirror_mode": {
    "name": "ipython",
    "version": 3
   },
   "file_extension": ".py",
   "mimetype": "text/x-python",
   "name": "python",
   "nbconvert_exporter": "python",
   "pygments_lexer": "ipython3",
   "version": "3.6.5"
  }
 },
 "nbformat": 4,
 "nbformat_minor": 2
}
