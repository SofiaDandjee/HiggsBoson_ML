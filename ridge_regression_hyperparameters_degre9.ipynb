{
 "cells": [
  {
   "cell_type": "code",
   "execution_count": 1,
   "metadata": {},
   "outputs": [],
   "source": [
    "%matplotlib inline\n",
    "import numpy as np\n",
    "import matplotlib.pyplot as plt\n",
    "%load_ext autoreload\n",
    "%autoreload 2"
   ]
  },
  {
   "cell_type": "code",
   "execution_count": 2,
   "metadata": {},
   "outputs": [],
   "source": [
    "from proj1_helpers import *\n",
    "from data_helpers import *\n",
    "from cross_validation import *\n",
    "from plots import *"
   ]
  },
  {
   "cell_type": "code",
   "execution_count": 3,
   "metadata": {},
   "outputs": [],
   "source": [
    "#LOAD TRAINING DATA\n",
    "DATA_TRAIN_PATH = 'data/train.csv'\n",
    "y, tX, ids = load_csv_data(DATA_TRAIN_PATH)"
   ]
  },
  {
   "cell_type": "code",
   "execution_count": 4,
   "metadata": {},
   "outputs": [
    {
     "data": {
      "text/plain": [
       "[4, 5, 6, 12, 26, 27, 28]"
      ]
     },
     "execution_count": 4,
     "metadata": {},
     "output_type": "execute_result"
    }
   ],
   "source": [
    "#CLEAN TRAINING DATA\n",
    "bounds = [0.0, 0.5]\n",
    "tx_clean, ind_remov = treat_undefined_values(bounds, tX)\n",
    "ind_remov"
   ]
  },
  {
   "cell_type": "code",
   "execution_count": 5,
   "metadata": {},
   "outputs": [],
   "source": [
    "#MODEL BUILDING\n",
    "tx, mean, std = standardize(tx_clean,0)\n",
    "tx_augmented = build_poly_all_features(tx,9)\n",
    "y,tx = build_model_data(tx_augmented,y)\n",
    "y = classify(y)\n",
    "num_samples = len(y)\n",
    "num_features = tx.shape[1]\n",
    "y = y.reshape(num_samples,1)\n"
   ]
  },
  {
   "cell_type": "code",
   "execution_count": 6,
   "metadata": {},
   "outputs": [
    {
     "data": {
      "text/plain": [
       "(250000, 208)"
      ]
     },
     "execution_count": 6,
     "metadata": {},
     "output_type": "execute_result"
    }
   ],
   "source": [
    "num_samples, num_features\n",
    "tx.shape"
   ]
  },
  {
   "cell_type": "code",
   "execution_count": 7,
   "metadata": {},
   "outputs": [],
   "source": [
    "from compute_gradient import *\n",
    "from cost import *\n",
    "from implementations import *"
   ]
  },
  {
   "cell_type": "code",
   "execution_count": 8,
   "metadata": {},
   "outputs": [
    {
     "data": {
      "text/plain": [
       "((250000, 208), (250000, 1), array([[1.],\n",
       "        [0.],\n",
       "        [0.],\n",
       "        ...,\n",
       "        [1.],\n",
       "        [0.],\n",
       "        [0.]]))"
      ]
     },
     "execution_count": 8,
     "metadata": {},
     "output_type": "execute_result"
    }
   ],
   "source": [
    "#Step-size\n",
    "\n",
    "lambdas = np.logspace (-30,1,21)\n",
    "\n",
    "\n",
    "#Regularization factor\n",
    "# lambda_ = 0.01 142000 loss 10 000 iters\n",
    "#lambda_ = 0.001 141000 loss 10 000 iters\n",
    "#lambda_ = 0.02\n",
    "#loss_min = np.inf\n",
    "tx.shape,y.shape,y"
   ]
  },
  {
   "cell_type": "code",
   "execution_count": 9,
   "metadata": {},
   "outputs": [
    {
     "name": "stdout",
     "output_type": "stream",
     "text": [
      "1e-30\n",
      "0.09520708136496682\n",
      "7.329447095733115e+16\n",
      "77.31142222222223\n",
      "77.28840000000001\n",
      "3.54813389233576e-29\n",
      "0.09520708136498043\n",
      "7.329447095733115e+16\n",
      "77.31142222222223\n",
      "77.28840000000001\n",
      "1.2589254117941712e-27\n",
      "0.09520708136546283\n",
      "7.329447095733115e+16\n",
      "77.31142222222223\n",
      "77.28840000000001\n",
      "4.4668359215096167e-26\n",
      "0.09520708138257983\n",
      "7.329447095733115e+16\n",
      "77.31142222222223\n",
      "77.28840000000001\n",
      "1.5848931924611108e-24\n",
      "0.09520708198991332\n",
      "7.329447095733115e+16\n",
      "77.31142222222223\n",
      "77.28840000000001\n",
      "5.623413251903491e-23\n",
      "0.09520710353891976\n",
      "7.329447095733115e+16\n",
      "77.31142222222223\n",
      "77.28840000000001\n",
      "1.9952623149688827e-21\n",
      "0.09520786812651934\n",
      "7.329447095733115e+16\n",
      "77.31142222222223\n",
      "77.28840000000001\n",
      "7.079457843841402e-20\n",
      "0.0952349967182772\n",
      "7.329447095733115e+16\n",
      "77.31142222222223\n",
      "77.28840000000001\n",
      "2.5118864315095718e-18\n",
      "0.0961975554769518\n",
      "7.329447095733115e+16\n",
      "77.31142222222223\n",
      "77.28840000000001\n",
      "8.912509381337514e-17\n",
      "0.5709536652303846\n",
      "7.378144695550518e+16\n",
      "75.77346666666668\n",
      "75.8596\n",
      "3.1622776601683794e-15\n",
      "5.3226690984163625\n",
      "7.39824405573441e+16\n",
      "73.67128888888888\n",
      "73.6284\n",
      "1.1220184543019653e-13\n",
      "0.36058750739028833\n",
      "7.338113702500632e+16\n",
      "79.99502222222222\n",
      "79.956\n",
      "3.981071705534986e-12\n",
      "0.13886091097927594\n",
      "7.353160433666315e+16\n",
      "80.19235555555555\n",
      "80.1656\n",
      "1.4125375446227613e-10\n",
      "0.0758930939075478\n",
      "7.572879488641294e+16\n",
      "80.25657777777778\n",
      "80.238\n",
      "5.011872336272715e-09\n",
      "0.07291971207797623\n",
      "7.650358277814269e+16\n",
      "80.2584\n",
      "80.2388\n",
      "1.7782794100389227e-07\n",
      "0.07356507825364132\n",
      "6.88897792757803e+16\n",
      "80.09795555555556\n",
      "80.068\n",
      "6.309573444801943e-06\n",
      "0.07414350842838972\n",
      "6.328799451280235e+16\n",
      "79.73960000000001\n",
      "79.70039999999999\n",
      "0.0002238721138568347\n",
      "0.08399898316996582\n",
      "5.706480518801576e+16\n",
      "78.76986666666667\n",
      "78.78\n",
      "0.007943282347242854\n",
      "0.0765025238346811\n",
      "9222164091968866.0\n",
      "79.26964444444445\n",
      "79.216\n",
      "0.2818382931264449\n",
      "0.08760532803154933\n",
      "5754456137210635.0\n",
      "75.04568888888889\n",
      "75.01399999999998\n",
      "10.0\n",
      "0.11652340446360218\n",
      "1186369895234785.0\n",
      "66.93688888888889\n",
      "66.93480000000001\n"
     ]
    }
   ],
   "source": [
    "losses_tr = np.zeros(len(lambdas))\n",
    "losses_val = np.zeros(len(lambdas))\n",
    "\n",
    "k_fold = 10\n",
    "seed = 1\n",
    "loss_min = np.inf\n",
    "max_accuracy = 0\n",
    "\n",
    "#CHOOSE LAMBDA AND GAMMA\n",
    "for ind_lambda, lambda_ in enumerate(lambdas):\n",
    "    \n",
    "    loss_training = 0\n",
    "    loss_validation = 0\n",
    "    training_accuracy = 0\n",
    "    validation_accuracy = 0\n",
    "    for i,k in enumerate(range(k_fold)):\n",
    "        tx_train, y_train, tx_val, y_val = cross_validation(y, tx, k, k_fold, seed)\n",
    "        w, loss_train_k = ridge_regression(y_train, tx_train, lambda_)\n",
    "        loss_val_k = ridge_loss (y_val,tx_val,w,lambda_)\n",
    "        loss_training += loss_train_k\n",
    "        loss_validation += loss_val_k\n",
    "        training_accuracy += predict_accuracy(y_train,tx_train,w)\n",
    "        validation_accuracy += predict_accuracy(y_val,tx_val,w)\n",
    "        \n",
    "    training_accuracy /= k_fold\n",
    "    validation_accuracy /= k_fold\n",
    "    loss_training /= k_fold\n",
    "    loss_validation /= k_fold\n",
    "    print(lambda_)\n",
    "    print(loss_training)\n",
    "    print(loss_validation)\n",
    "    print(training_accuracy)\n",
    "    print(validation_accuracy)\n",
    "    if (validation_accuracy > max_accuracy):\n",
    "        weights_star = w\n",
    "        lambda_star = lambda_\n",
    "        loss_min = loss_validation\n",
    "        max_accuracy = validation_accuracy \n",
    "    losses_tr[ind_lambda] = loss_training\n",
    "    losses_val[ind_lambda] = loss_validation\n",
    "\n"
   ]
  },
  {
   "cell_type": "code",
   "execution_count": 24,
   "metadata": {},
   "outputs": [
    {
     "data": {
      "text/plain": [
       "array([1.00000000e-06, 6.81292069e-06, 4.64158883e-05, 3.16227766e-04,\n",
       "       2.15443469e-03, 1.46779927e-02, 1.00000000e-01])"
      ]
     },
     "execution_count": 24,
     "metadata": {},
     "output_type": "execute_result"
    }
   ],
   "source": [
    "lambdas"
   ]
  },
  {
   "cell_type": "code",
   "execution_count": 10,
   "metadata": {},
   "outputs": [
    {
     "data": {
      "text/plain": [
       "(19704880.660206415, 1.1220184543019653e-13, 79.2204)"
      ]
     },
     "execution_count": 10,
     "metadata": {},
     "output_type": "execute_result"
    }
   ],
   "source": [
    "loss_min, lambda_star, max_accuracy"
   ]
  },
  {
   "cell_type": "code",
   "execution_count": 10,
   "metadata": {},
   "outputs": [
    {
     "data": {
      "text/plain": [
       "80.2568"
      ]
     },
     "execution_count": 10,
     "metadata": {},
     "output_type": "execute_result"
    }
   ],
   "source": [
    "#PREDICT TRAINING ACCURACY\n",
    "training_accuracy = predict_accuracy(y,tx,weights_star)\n",
    "training_accuracy"
   ]
  },
  {
   "cell_type": "code",
   "execution_count": null,
   "metadata": {},
   "outputs": [],
   "source": []
  },
  {
   "cell_type": "code",
   "execution_count": 12,
   "metadata": {},
   "outputs": [],
   "source": [
    "#LOAD TEST SET\n",
    "DATA_TEST_PATH = 'data/test.csv'\n",
    "ytest, tX_test, ids_test = load_csv_data(DATA_TEST_PATH)"
   ]
  },
  {
   "cell_type": "code",
   "execution_count": 13,
   "metadata": {},
   "outputs": [
    {
     "data": {
      "text/plain": [
       "(568238, 23)"
      ]
     },
     "execution_count": 13,
     "metadata": {},
     "output_type": "execute_result"
    }
   ],
   "source": [
    "#CLEAN AND STANDARDIZE TEST SET\n",
    "tX_test_clean = np.delete(tX_test, ind_remov, axis=1)\n",
    "tX_test_clean.shape\n"
   ]
  },
  {
   "cell_type": "code",
   "execution_count": 14,
   "metadata": {},
   "outputs": [
    {
     "data": {
      "text/plain": [
       "(568238, 23)"
      ]
     },
     "execution_count": 14,
     "metadata": {},
     "output_type": "execute_result"
    }
   ],
   "source": [
    "tx_test_clean = remove_undefined_values (tX_test_clean)\n",
    "tx_test_clean.shape"
   ]
  },
  {
   "cell_type": "code",
   "execution_count": 15,
   "metadata": {},
   "outputs": [],
   "source": [
    "tx_test_clean, _, _ = standardize(tx_test_clean,0)\n"
   ]
  },
  {
   "cell_type": "code",
   "execution_count": 16,
   "metadata": {},
   "outputs": [],
   "source": [
    "tx_test_augmented = build_poly_all_features(tx_test_clean,9)"
   ]
  },
  {
   "cell_type": "code",
   "execution_count": 17,
   "metadata": {},
   "outputs": [
    {
     "data": {
      "text/plain": [
       "(568238, 207)"
      ]
     },
     "execution_count": 17,
     "metadata": {},
     "output_type": "execute_result"
    }
   ],
   "source": [
    "tx_test_augmented.shape"
   ]
  },
  {
   "cell_type": "code",
   "execution_count": 18,
   "metadata": {},
   "outputs": [],
   "source": [
    "#BUILD TEST MODEL\n",
    "ytest, tx_test = build_model_data(tx_test_augmented,ytest)"
   ]
  },
  {
   "cell_type": "code",
   "execution_count": 19,
   "metadata": {},
   "outputs": [],
   "source": [
    "#PREDICT LABELS\n",
    "OUTPUT_PATH = 'data/submission_reg_logistic-degre9.csv'\n",
    "y_pred = predict_labels(weights_star, tx_test,'logistic')\n",
    "create_csv_submission(ids_test, y_pred, OUTPUT_PATH)"
   ]
  },
  {
   "cell_type": "code",
   "execution_count": null,
   "metadata": {},
   "outputs": [],
   "source": []
  }
 ],
 "metadata": {
  "kernelspec": {
   "display_name": "Python 3",
   "language": "python",
   "name": "python3"
  },
  "language_info": {
   "codemirror_mode": {
    "name": "ipython",
    "version": 3
   },
   "file_extension": ".py",
   "mimetype": "text/x-python",
   "name": "python",
   "nbconvert_exporter": "python",
   "pygments_lexer": "ipython3",
   "version": "3.6.5"
  }
 },
 "nbformat": 4,
 "nbformat_minor": 2
}
