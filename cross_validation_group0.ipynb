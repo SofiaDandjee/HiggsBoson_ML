{
 "cells": [
  {
   "cell_type": "code",
   "execution_count": 14,
   "metadata": {
    "colab": {},
    "colab_type": "code",
    "id": "S_s6B33VEndZ"
   },
   "outputs": [],
   "source": [
    "%matplotlib inline\n",
    "import numpy as np\n",
    "import matplotlib.pyplot as plt\n",
    "%load_ext autoreload\n",
    "%autoreload 2"
   ]
  },
  {
   "cell_type": "markdown",
   "metadata": {
    "colab_type": "text",
    "id": "YaBZH_VLEndi"
   },
   "source": [
    "## Load train and test data"
   ]
  },
  {
   "cell_type": "code",
   "execution_count": 15,
   "metadata": {
    "colab": {},
    "colab_type": "code",
    "id": "QUp3aGWvqm3j"
   },
   "outputs": [],
   "source": [
    "from proj1_helpers import *\n",
    "from data_helpers import *\n",
    "from cross_validation import cross_validation\n",
    "from implementations import ridge_regression\n",
    "from cost import compute_loss\n",
    "from plots import plot_cross_validation"
   ]
  },
  {
   "cell_type": "markdown",
   "metadata": {},
   "source": [
    "### Load train and test data"
   ]
  },
  {
   "cell_type": "code",
   "execution_count": 16,
   "metadata": {
    "colab": {},
    "colab_type": "code",
    "id": "pgWxh_GdEndl"
   },
   "outputs": [],
   "source": [
    "# Data paths\n",
    "DATA_TRAIN_PATH = 'data/train.csv'\n",
    "\n",
    "# Load data\n",
    "Y, X, id_train = load_csv_data(DATA_TRAIN_PATH)"
   ]
  },
  {
   "cell_type": "markdown",
   "metadata": {},
   "source": [
    "### Get index for the three different jet groups"
   ]
  },
  {
   "cell_type": "code",
   "execution_count": 17,
   "metadata": {},
   "outputs": [],
   "source": [
    "jet_train_samples = get_jet_samples(X)"
   ]
  },
  {
   "cell_type": "markdown",
   "metadata": {},
   "source": [
    "### Define parameters"
   ]
  },
  {
   "cell_type": "code",
   "execution_count": 35,
   "metadata": {},
   "outputs": [
    {
     "data": {
      "text/plain": [
       "(range(1, 20), array([1.e-08, 1.e-07, 1.e-06, 1.e-05, 1.e-04, 1.e-03, 1.e-02]))"
      ]
     },
     "execution_count": 35,
     "metadata": {},
     "output_type": "execute_result"
    }
   ],
   "source": [
    "degrees = range(1,20)\n",
    "lambda_test = 1e-3\n",
    "lambdas = np.logspace(-8,-2,7)\n",
    "k_fold = 4\n",
    "seed = 1\n",
    "degrees, lambdas"
   ]
  },
  {
   "cell_type": "markdown",
   "metadata": {
    "colab_type": "text",
    "id": "ReKwkQ-cEnds"
   },
   "source": [
    "## Group 0"
   ]
  },
  {
   "cell_type": "code",
   "execution_count": 19,
   "metadata": {},
   "outputs": [],
   "source": [
    "# get train and test data\n",
    "train_index = jet_train_samples[0]\n",
    "x, y = X[train_index], Y[train_index]"
   ]
  },
  {
   "cell_type": "markdown",
   "metadata": {},
   "source": [
    "### Best degree"
   ]
  },
  {
   "cell_type": "code",
   "execution_count": 20,
   "metadata": {},
   "outputs": [
    {
     "name": "stdout",
     "output_type": "stream",
     "text": [
      "1 81.68087917367282 81.6718712466971\n",
      "2 82.57900285584648 82.50960845544078\n",
      "3 82.9610056850028 82.86792377292016\n",
      "4 83.32032188325726 83.2122267595484\n",
      "5 83.69865481623829 83.62859316198255\n",
      "6 83.83977900552486 83.73869004724158\n",
      "7 84.08466116849493 84.04796220674193\n",
      "8 84.2634852003096 84.18208023060293\n",
      "9 84.1720714228521 83.92485387140684\n",
      "10 83.0023754237062 82.63071502922571\n",
      "11 84.40327488189607 84.35122908159181\n",
      "12 84.4316331705234 84.31419649291377\n",
      "13 83.9415352176582 83.84778605172552\n",
      "14 84.32387167373956 84.16306349587636\n",
      "15 74.40514319267623 74.78981503723277\n",
      "16 79.27776443270078 78.37697173512692\n",
      "17 75.27891210932286 73.73688846184643\n",
      "18 77.83449435503243 76.23308511490112\n",
      "19 67.3439293244722 68.74549603651212\n"
     ]
    }
   ],
   "source": [
    "acc_training = []\n",
    "acc_validation = []\n",
    "\n",
    "for degree in degrees:\n",
    "        acc_tr_tmp = []\n",
    "        acc_val_tmp = []\n",
    "        \n",
    "        for k in range(k_fold):\n",
    "            x_train, y_train, x_val, y_val = cross_validation(y, x, k, k_fold, seed)\n",
    "            x_tr_clean,_ = clean_data(x_train)\n",
    "            x_val_clean,_ = clean_data(x_val)\n",
    "            x_train_aug, y_train = augment_data(x_tr_clean, y_train, degree)\n",
    "            x_val_aug, y_val = augment_data(x_val_clean, y_val, degree)\n",
    "            w,_ = ridge_regression (y_train, x_train_aug, lambda_test)\n",
    "            \n",
    "            acc_tr = predict_accuracy(y_train, x_train_aug, w)\n",
    "            acc_val = predict_accuracy(y_val, x_val_aug, w)\n",
    "            \n",
    "            acc_tr_tmp.append(acc_tr)\n",
    "            acc_val_tmp.append(acc_val)\n",
    "            \n",
    "        print(degree, np.mean(acc_tr_tmp), np.mean(acc_val_tmp))\n",
    "\n",
    "        acc_training.append(np.mean(acc_tr_tmp))\n",
    "        acc_validation.append(np.mean(acc_val_tmp))\n",
    "        "
   ]
  },
  {
   "cell_type": "code",
   "execution_count": 28,
   "metadata": {
    "scrolled": true
   },
   "outputs": [
    {
     "data": {
      "image/png": "[encoded data removed]",
      "text/plain": [
       "<Figure size 432x288 with 1 Axes>"
      ]
     },
     "metadata": {
      "needs_background": "light"
     },
     "output_type": "display_data"
    }
   ],
   "source": [
    "max_accuracy = np.amax(acc_validation)\n",
    "best_degree = degrees[np.argmax(acc_validation)]\n",
    "\n",
    "plt.plot(degrees, acc_training, label='Training', marker = \"o\", markersize = 2, color = \"red\")\n",
    "plt.plot(degrees, acc_validation, label='Validation', marker = \"o\", markersize = 2, color = \"green\")\n",
    "plt.plot(best_degree, max_accuracy, label=\"Maximum accuracy\", marker = '*', markersize=14, color = \"blue\")\n",
    "plt.xticks(degrees)\n",
    "plt.xlabel(\"Polynomial degrees\")\n",
    "plt.ylabel(\"Accuracy\")\n",
    "plt.title(\"Cross validation for Group 0\")\n",
    "plt.legend()\n",
    "plt.savefig(\"degree_group0\")\n",
    "plt.show()"
   ]
  },
  {
   "cell_type": "markdown",
   "metadata": {},
   "source": [
    "### Best lambda"
   ]
  },
  {
   "cell_type": "code",
   "execution_count": 36,
   "metadata": {},
   "outputs": [
    {
     "name": "stdout",
     "output_type": "stream",
     "text": [
      "1e-08 76.11765019884164 76.74753783329331\n",
      "1e-07 84.30685670056316 84.17207142285211\n",
      "1e-06 84.40627752422132 84.34422291616622\n",
      "1e-05 84.43096591667333 84.35423172391705\n",
      "0.0001 84.4329676782235 84.3672431739931\n",
      "0.001 84.40327488189607 84.35122908159181\n",
      "0.01 84.18641738062828 84.10100888782128\n"
     ]
    }
   ],
   "source": [
    "acc_training = []\n",
    "acc_validation = []\n",
    "\n",
    "for ind_lambda,lambda_ in enumerate(lambdas):\n",
    "        acc_tr_tmp = []\n",
    "        acc_val_tmp = []\n",
    "        \n",
    "        for k in range(k_fold):\n",
    "            x_train, y_train, x_val, y_val = cross_validation(y, x, k, k_fold, seed)\n",
    "            x_tr_clean,_ = clean_data(x_train)\n",
    "            x_val_clean,_ = clean_data(x_val)\n",
    "            x_train_aug, y_train = augment_data(x_tr_clean, y_train, best_degree)\n",
    "            x_val_aug, y_val = augment_data(x_val_clean, y_val, best_degree)\n",
    "            w,_ = ridge_regression (y_train, x_train_aug, lambda_)\n",
    "            \n",
    "            acc_tr = predict_accuracy (y_train, x_train_aug, w)\n",
    "            acc_val = predict_accuracy (y_val, x_val_aug, w)\n",
    "            \n",
    "            acc_tr_tmp.append(acc_tr)\n",
    "            acc_val_tmp.append(acc_val)\n",
    "            \n",
    "        print(lambda_, np.mean(acc_tr_tmp), np.mean(acc_val_tmp))\n",
    "\n",
    "        acc_training.append(np.mean(acc_tr_tmp))\n",
    "        acc_validation.append(np.mean(acc_val_tmp))"
   ]
  },
  {
   "cell_type": "code",
   "execution_count": 37,
   "metadata": {},
   "outputs": [
    {
     "data": {
      "image/png": "[encoded data removed]",
      "text/plain": [
       "<Figure size 432x288 with 1 Axes>"
      ]
     },
     "metadata": {
      "needs_background": "light"
     },
     "output_type": "display_data"
    }
   ],
   "source": [
    "max_accuracy = np.amax(acc_validation)\n",
    "best_lambda = lambdas[np.argmax(acc_validation)]\n",
    "\n",
    "plt.semilogx(lambdas, acc_training, label='Training', marker = \"o\", markersize = 2, color = \"red\")\n",
    "plt.semilogx(lambdas, acc_validation, label='Validation', marker = \"o\", markersize = 2, color = \"green\")\n",
    "plt.semilogx(best_lambda, max_accuracy, label=\"Maximum accuracy\", marker = '*', markersize=14, color = \"blue\")\n",
    "plt.xlabel(\"Lambdas\")\n",
    "plt.ylabel(\"Accuracy\")\n",
    "plt.title(\"Cross validation for Group 0\")\n",
    "plt.legend()\n",
    "plt.savefig(\"lambda_group0\")\n",
    "plt.show()"
   ]
  },
  {
   "cell_type": "code",
   "execution_count": null,
   "metadata": {},
   "outputs": [],
   "source": []
  }
 ],
 "metadata": {
  "anaconda-cloud": {},
  "colab": {
   "collapsed_sections": [],
   "name": "project1.ipynb",
   "provenance": []
  },
  "kernelspec": {
   "display_name": "Python 3",
   "language": "python",
   "name": "python3"
  },
  "language_info": {
   "codemirror_mode": {
    "name": "ipython",
    "version": 3
   },
   "file_extension": ".py",
   "mimetype": "text/x-python",
   "name": "python",
   "nbconvert_exporter": "python",
   "pygments_lexer": "ipython3",
   "version": "3.7.4"
  }
 },
 "nbformat": 4,
 "nbformat_minor": 1
}
