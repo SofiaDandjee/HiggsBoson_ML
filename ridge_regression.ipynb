{
 "cells": [
  {
   "cell_type": "code",
   "execution_count": null,
   "metadata": {
    "colab": {},
    "colab_type": "code",
    "id": "S_s6B33VEndZ"
   },
   "outputs": [],
   "source": [
    "# Useful starting lines\n",
    "%matplotlib inline\n",
    "import numpy as np\n",
    "import matplotlib.pyplot as plt\n",
    "%load_ext autoreload\n",
    "%autoreload 2"
   ]
  },
  {
   "cell_type": "markdown",
   "metadata": {
    "colab_type": "text",
    "id": "YaBZH_VLEndi"
   },
   "source": [
    "## Load the training data into feature matrix, class labels, and event ids:"
   ]
  },
  {
   "cell_type": "code",
   "execution_count": 104,
   "metadata": {
    "colab": {},
    "colab_type": "code",
    "id": "QUp3aGWvqm3j"
   },
   "outputs": [],
   "source": [
    "from proj1_helpers import *\n",
    "from implementations import *\n",
    "from data_helpers import *"
   ]
  },
  {
   "cell_type": "code",
   "execution_count": 105,
   "metadata": {
    "colab": {},
    "colab_type": "code",
    "id": "pgWxh_GdEndl"
   },
   "outputs": [],
   "source": [
    "#DATA_TRAIN_PATH = '/content/drive/My Drive/ML_Project1/data/train.csv'\n",
    "DATA_TRAIN_PATH = 'data/train.csv' # TODO: download train data and supply path here \n",
    "y, tX, ids = load_csv_data(DATA_TRAIN_PATH)\n",
    "tx, mean, std = standardize(tX,0)\n",
    "y, tx = build_model_data(tx,y)"
   ]
  },
  {
   "cell_type": "code",
   "execution_count": 106,
   "metadata": {},
   "outputs": [],
   "source": [
    "ratio = 0.9\n",
    "\n",
    "train_x, train_y, test_x, test_y = split_data(tx, y, ratio)"
   ]
  },
  {
   "cell_type": "code",
   "execution_count": 107,
   "metadata": {
    "colab": {},
    "colab_type": "code",
    "id": "-jv3lZU9hlEw",
    "outputId": "fd436073-e0fd-40c4-efb2-bdae44420cbf"
   },
   "outputs": [
    {
     "data": {
      "text/plain": [
       "((225000, 31), (225000,), (25000, 31), (25000,))"
      ]
     },
     "execution_count": 107,
     "metadata": {},
     "output_type": "execute_result"
    }
   ],
   "source": [
    "train_x.shape, train_y.shape, test_x.shape, test_y.shape"
   ]
  },
  {
   "cell_type": "markdown",
   "metadata": {
    "colab_type": "text",
    "id": "ReKwkQ-cEnds"
   },
   "source": [
    "## Do your thing crazy machine learning thing here :) ..."
   ]
  },
  {
   "cell_type": "code",
   "execution_count": 108,
   "metadata": {
    "colab": {
     "base_uri": "https://localhost:8080/",
     "height": 232
    },
    "colab_type": "code",
    "executionInfo": {
     "elapsed": 544,
     "status": "error",
     "timestamp": 1571295874514,
     "user": {
      "displayName": "Sofia Dandjee",
      "photoUrl": "",
      "userId": "04011238111956572445"
     },
     "user_tz": -120
    },
    "id": "b2HFZUfIxCgX",
    "outputId": "eea2b54a-30c0-4fc8-ef35-8cf93c297fb4"
   },
   "outputs": [
    {
     "name": "stdout",
     "output_type": "stream",
     "text": [
      "Lambda=1e-05, Training Loss =0.3396167585167065, Validation Loss =0.34173700972634036\n",
      "Lambda=1.8329807108324375e-05, Training Loss =0.3396840033693898, Validation Loss =0.3418162262842967\n",
      "Lambda=3.359818286283781e-05, Training Loss =0.33973150072617786, Validation Loss =0.3418707869521441\n",
      "Lambda=6.158482110660267e-05, Training Loss =0.3397623943876683, Validation Loss =0.3419046892922824\n",
      "Lambda=0.00011288378916846884, Training Loss =0.33978189746153864, Validation Loss =0.3419244274296717\n",
      "Lambda=0.00020691380811147902, Training Loss =0.33979441760124673, Validation Loss =0.34193547459004403\n",
      "Lambda=0.000379269019073225, Training Loss =0.3398032489901154, Validation Loss =0.3419416108620644\n",
      "Lambda=0.0006951927961775605, Training Loss =0.3398117519090294, Validation Loss =0.341945979247488\n",
      "Lambda=0.0012742749857031334, Training Loss =0.33982634432465086, Validation Loss =0.34195409747723265\n",
      "Lambda=0.002335721469090121, Training Loss =0.3398647115150276, Validation Loss =0.34198218294901817\n",
      "Lambda=0.004281332398719391, Training Loss =0.33997805875464254, Validation Loss =0.3420799571370728\n",
      "Lambda=0.007847599703514606, Training Loss =0.3403039521891024, Validation Loss =0.34238538376448485\n",
      "Lambda=0.01438449888287663, Training Loss =0.3411591742871005, Validation Loss =0.3432213796595778\n",
      "Lambda=0.026366508987303583, Training Loss =0.34310980136588554, Validation Loss =0.34516746968482287\n",
      "Lambda=0.04832930238571752, Training Loss =0.34683934421902496, Validation Loss =0.34891380873027783\n",
      "Lambda=0.08858667904100823, Training Loss =0.35281869490792317, Validation Loss =0.3548994792230487\n",
      "Lambda=0.1623776739188721, Training Loss =0.3613342114498023, Validation Loss =0.36333416451649586\n",
      "Lambda=0.2976351441631319, Training Loss =0.373046293479231, Validation Loss =0.3748100078260632\n",
      "Lambda=0.5455594781168515, Training Loss =0.3888659458529102, Validation Loss =0.39024108113280154\n",
      "Lambda=1.0, Training Loss =0.40852034064025033, Validation Loss =0.4094353061069879\n",
      "1e-05\n"
     ]
    }
   ],
   "source": [
    "lambdas = np.logspace(-5,0,20)\n",
    "\n",
    "loss_min = np.inf\n",
    "\n",
    "for _,lambda_ in enumerate(lambdas):\n",
    "\n",
    "    weights,loss_training = ridge_regression(train_y, train_x, lambda_)\n",
    "    loss_validation = compute_loss(test_y, test_x, weights)\n",
    "    print(\"Lambda={l}, Training Loss ={tl}, Validation Loss ={vl}\".format(\n",
    "               l=lambda_, tl=loss_training, vl=loss_validation))\n",
    "    \n",
    "    if (loss_validation < loss_min):\n",
    "        \n",
    "        loss_min = loss_validation\n",
    "        lambda_min = lambda_\n",
    "        weights_star = weights\n",
    "print(lambda_min)"
   ]
  },
  {
   "cell_type": "markdown",
   "metadata": {
    "colab_type": "text",
    "id": "yUQybl2IEndu"
   },
   "source": [
    "## Generate predictions and save ouput in csv format for submission:"
   ]
  },
  {
   "cell_type": "code",
   "execution_count": 91,
   "metadata": {
    "colab": {},
    "colab_type": "code",
    "id": "Ewy_ZY2kEndx"
   },
   "outputs": [],
   "source": [
    "DATA_TEST_PATH = 'data/test.csv' # TODO: download train data and supply path here \n",
    "ytest, tX_test, ids_test = load_csv_data(DATA_TEST_PATH)"
   ]
  },
  {
   "cell_type": "code",
   "execution_count": 92,
   "metadata": {
    "scrolled": true
   },
   "outputs": [],
   "source": [
    "_, tx_test = build_model_data(tX_test,ytest)"
   ]
  },
  {
   "cell_type": "code",
   "execution_count": 93,
   "metadata": {
    "colab": {
     "base_uri": "https://localhost:8080/",
     "height": 198
    },
    "colab_type": "code",
    "id": "Ya9xiZufEnd2",
    "outputId": "a5f1377a-08a2-4255-b58d-9a733eff30fa"
   },
   "outputs": [],
   "source": [
    "OUTPUT_PATH = 'data/submission.csv' # TODO: fill in desired name of output file for submission\n",
    "y_pred = predict_labels(weights_star, tx_test)\n",
    "create_csv_submission(ids_test, y_pred, OUTPUT_PATH)"
   ]
  },
  {
   "cell_type": "code",
   "execution_count": 0,
   "metadata": {
    "colab": {},
    "colab_type": "code",
    "id": "ArUSTzDsEnd8"
   },
   "outputs": [],
   "source": []
  }
 ],
 "metadata": {
  "anaconda-cloud": {},
  "colab": {
   "collapsed_sections": [],
   "name": "project1.ipynb",
   "provenance": []
  },
  "kernelspec": {
   "display_name": "Python 3",
   "language": "python",
   "name": "python3"
  },
  "language_info": {
   "codemirror_mode": {
    "name": "ipython",
    "version": 3
   },
   "file_extension": ".py",
   "mimetype": "text/x-python",
   "name": "python",
   "nbconvert_exporter": "python",
   "pygments_lexer": "ipython3",
   "version": "3.6.5"
  }
 },
 "nbformat": 4,
 "nbformat_minor": 1
}
