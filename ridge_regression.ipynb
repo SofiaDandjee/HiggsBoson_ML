{
 "cells": [
  {
   "cell_type": "code",
   "execution_count": 1,
   "metadata": {
    "colab": {},
    "colab_type": "code",
    "id": "S_s6B33VEndZ"
   },
   "outputs": [],
   "source": [
    "%matplotlib inline\n",
    "import numpy as np\n",
    "import matplotlib.pyplot as plt\n",
    "%load_ext autoreload\n",
    "%autoreload 2"
   ]
  },
  {
   "cell_type": "markdown",
   "metadata": {
    "colab_type": "text",
    "id": "YaBZH_VLEndi"
   },
   "source": [
    "## Load the training data into feature matrix, class labels, and event ids:"
   ]
  },
  {
   "cell_type": "code",
   "execution_count": 2,
   "metadata": {
    "colab": {},
    "colab_type": "code",
    "id": "QUp3aGWvqm3j"
   },
   "outputs": [],
   "source": [
    "from proj1_helpers import *\n",
    "from data_helpers import *\n",
    "from implementations import ridge_regression"
   ]
  },
  {
   "cell_type": "code",
   "execution_count": 3,
   "metadata": {
    "colab": {},
    "colab_type": "code",
    "id": "pgWxh_GdEndl"
   },
   "outputs": [],
   "source": [
    "#lOAD TRAIN DATA\n",
    "DATA_TRAIN_PATH = 'data/train.csv'\n",
    "y, tX, ids = load_csv_data(DATA_TRAIN_PATH)"
   ]
  },
  {
   "cell_type": "code",
   "execution_count": 4,
   "metadata": {},
   "outputs": [
    {
     "name": "stderr",
     "output_type": "stream",
     "text": [
      "C:\\Anaconda\\lib\\site-packages\\ipykernel_launcher.py:5: DeprecationWarning: in the future out of bounds indices will raise an error instead of being ignored by `numpy.delete`.\n",
      "  \"\"\"\n"
     ]
    }
   ],
   "source": [
    "#CLEAN TRAIN DATA: delete columns with numerous undefined values\n",
    "bounds = [0.2, 0.5]\n",
    "tX_clean, ind_remov = treat_undefined_values(bounds, columns_correl)"
   ]
  },
  {
   "cell_type": "code",
   "execution_count": 5,
   "metadata": {},
   "outputs": [],
   "source": [
    "#MODEL BUILDING\n",
    "tx, mean, std = standardize(tX_clean,0)\n",
    "y, tx = build_model_data(tx,y)"
   ]
  },
  {
   "cell_type": "code",
   "execution_count": 6,
   "metadata": {
    "colab": {},
    "colab_type": "code",
    "id": "-jv3lZU9hlEw",
    "outputId": "fd436073-e0fd-40c4-efb2-bdae44420cbf"
   },
   "outputs": [
    {
     "data": {
      "text/plain": [
       "(250000, 20)"
      ]
     },
     "execution_count": 6,
     "metadata": {},
     "output_type": "execute_result"
    }
   ],
   "source": [
    "num_samples = len(y)\n",
    "num_features = tx.shape[1]\n",
    "\n",
    "num_samples, num_features"
   ]
  },
  {
   "cell_type": "markdown",
   "metadata": {
    "colab_type": "text",
    "id": "ReKwkQ-cEnds"
   },
   "source": [
    "## Ridge regression using normal equations:"
   ]
  },
  {
   "cell_type": "markdown",
   "metadata": {},
   "source": [
    "### Linear regression"
   ]
  },
  {
   "cell_type": "code",
   "execution_count": 7,
   "metadata": {},
   "outputs": [
    {
     "ename": "KeyboardInterrupt",
     "evalue": "",
     "output_type": "error",
     "traceback": [
      "\u001b[1;31m---------------------------------------------------------------------------\u001b[0m",
      "\u001b[1;31mKeyboardInterrupt\u001b[0m                         Traceback (most recent call last)",
      "\u001b[1;32m<ipython-input-7-22cc03271a74>\u001b[0m in \u001b[0;36m<module>\u001b[1;34m\u001b[0m\n\u001b[0;32m     20\u001b[0m     \u001b[1;31m# cross-validation\u001b[0m\u001b[1;33m\u001b[0m\u001b[1;33m\u001b[0m\u001b[1;33m\u001b[0m\u001b[0m\n\u001b[0;32m     21\u001b[0m     \u001b[1;32mfor\u001b[0m \u001b[0mi\u001b[0m\u001b[1;33m,\u001b[0m\u001b[0mk\u001b[0m \u001b[1;32min\u001b[0m \u001b[0menumerate\u001b[0m\u001b[1;33m(\u001b[0m\u001b[0mrange\u001b[0m\u001b[1;33m(\u001b[0m\u001b[0mk_fold\u001b[0m\u001b[1;33m)\u001b[0m\u001b[1;33m)\u001b[0m\u001b[1;33m:\u001b[0m\u001b[1;33m\u001b[0m\u001b[1;33m\u001b[0m\u001b[0m\n\u001b[1;32m---> 22\u001b[1;33m         \u001b[0mtx_train\u001b[0m\u001b[1;33m,\u001b[0m \u001b[0my_train\u001b[0m\u001b[1;33m,\u001b[0m \u001b[0mtx_test\u001b[0m\u001b[1;33m,\u001b[0m \u001b[0my_test\u001b[0m \u001b[1;33m=\u001b[0m \u001b[0mcross_validation\u001b[0m\u001b[1;33m(\u001b[0m\u001b[0my\u001b[0m\u001b[1;33m,\u001b[0m \u001b[0mtx\u001b[0m\u001b[1;33m,\u001b[0m \u001b[0mk\u001b[0m\u001b[1;33m,\u001b[0m \u001b[0mk_fold\u001b[0m\u001b[1;33m,\u001b[0m \u001b[0mseed\u001b[0m\u001b[1;33m)\u001b[0m\u001b[1;33m\u001b[0m\u001b[1;33m\u001b[0m\u001b[0m\n\u001b[0m\u001b[0;32m     23\u001b[0m         \u001b[0mw\u001b[0m\u001b[1;33m,\u001b[0m\u001b[0m_\u001b[0m \u001b[1;33m=\u001b[0m \u001b[0mridge_regression\u001b[0m\u001b[1;33m(\u001b[0m\u001b[0my_train\u001b[0m\u001b[1;33m,\u001b[0m \u001b[0mtx_train\u001b[0m\u001b[1;33m,\u001b[0m \u001b[0mlambda_\u001b[0m\u001b[1;33m)\u001b[0m\u001b[1;33m\u001b[0m\u001b[1;33m\u001b[0m\u001b[0m\n\u001b[0;32m     24\u001b[0m         \u001b[1;31m# store weights and rmse for train and test data for each fold\u001b[0m\u001b[1;33m\u001b[0m\u001b[1;33m\u001b[0m\u001b[1;33m\u001b[0m\u001b[0m\n",
      "\u001b[1;32m~\\Documents\\EPFL\\Master I-II\\Master I\\Machine learning\\ML_Project1\\cross_validation.py\u001b[0m in \u001b[0;36mcross_validation\u001b[1;34m(y, x, k, k_fold, seed)\u001b[0m\n\u001b[0;32m     20\u001b[0m     \u001b[0mk_indices_del\u001b[0m \u001b[1;33m=\u001b[0m \u001b[0mnp\u001b[0m\u001b[1;33m.\u001b[0m\u001b[0mdelete\u001b[0m\u001b[1;33m(\u001b[0m\u001b[0mk_indices\u001b[0m\u001b[1;33m,\u001b[0m\u001b[0mk\u001b[0m\u001b[1;33m,\u001b[0m\u001b[1;36m0\u001b[0m\u001b[1;33m)\u001b[0m\u001b[1;33m\u001b[0m\u001b[1;33m\u001b[0m\u001b[0m\n\u001b[0;32m     21\u001b[0m     \u001b[0my_train\u001b[0m \u001b[1;33m=\u001b[0m \u001b[0my\u001b[0m\u001b[1;33m[\u001b[0m\u001b[0mnp\u001b[0m\u001b[1;33m.\u001b[0m\u001b[0mravel\u001b[0m\u001b[1;33m(\u001b[0m\u001b[0mk_indices_del\u001b[0m\u001b[1;33m)\u001b[0m\u001b[1;33m]\u001b[0m\u001b[1;33m\u001b[0m\u001b[1;33m\u001b[0m\u001b[0m\n\u001b[1;32m---> 22\u001b[1;33m     \u001b[0mx_train\u001b[0m \u001b[1;33m=\u001b[0m \u001b[0mx\u001b[0m\u001b[1;33m[\u001b[0m\u001b[0mnp\u001b[0m\u001b[1;33m.\u001b[0m\u001b[0mravel\u001b[0m\u001b[1;33m(\u001b[0m\u001b[0mk_indices_del\u001b[0m\u001b[1;33m)\u001b[0m\u001b[1;33m]\u001b[0m\u001b[1;33m\u001b[0m\u001b[1;33m\u001b[0m\u001b[0m\n\u001b[0m\u001b[0;32m     23\u001b[0m \u001b[1;33m\u001b[0m\u001b[0m\n\u001b[0;32m     24\u001b[0m     \u001b[1;32mreturn\u001b[0m \u001b[0mx_train\u001b[0m\u001b[1;33m,\u001b[0m \u001b[0my_train\u001b[0m\u001b[1;33m,\u001b[0m \u001b[0mx_test\u001b[0m\u001b[1;33m,\u001b[0m \u001b[0my_test\u001b[0m\u001b[1;33m\u001b[0m\u001b[1;33m\u001b[0m\u001b[0m\n",
      "\u001b[1;31mKeyboardInterrupt\u001b[0m: "
     ]
    }
   ],
   "source": [
    "from cross_validation import cross_validation\n",
    "from cost import compute_loss_rmse\n",
    "from plots import *\n",
    "\n",
    "w_initial = np.random.rand(num_features)\n",
    "lambdas = np.logspace(-20, -2, 40)\n",
    "k_fold = 4\n",
    "seed = 6\n",
    "\n",
    "# prepare storage of the mean of the weights and rmse for train and test data\n",
    "ws = np.zeros((num_features, len(lambdas)))\n",
    "rmse_train = []\n",
    "rmse_test = []\n",
    "\n",
    "for ind, lambda_ in enumerate(lambdas):\n",
    "    # prepare storage of weights and rmse for train and test data for each fold\n",
    "    ws_tmp = np.zeros((num_features, k_fold))\n",
    "    rmse_tr = []\n",
    "    rmse_te = []\n",
    "    # cross-validation\n",
    "    for i,k in enumerate(range(k_fold)):\n",
    "        tx_train, y_train, tx_test, y_test = cross_validation(y, tx, k, k_fold, seed)\n",
    "        w,_ = ridge_regression(y_train, tx_train, lambda_)\n",
    "        # store weights and rmse for train and test data for each fold\n",
    "        ws_tmp[:, i] = w\n",
    "        rmse_tr.append(compute_loss_rmse(y_train, tx_train, w))\n",
    "        rmse_te.append(compute_loss_rmse(y_test, tx_test, w))\n",
    "    # store the mean of the weights and rmse for train and test data\n",
    "    ws[:, ind] = np.mean(ws_tmp, 1)\n",
    "    rmse_train.append(np.mean(rmse_tr))\n",
    "    rmse_test.append(np.mean(rmse_te))\n",
    "    \n",
    "loss = np.amin(rmse_test)\n",
    "weights = ws[:, np.argmin(rmse_test)]\n",
    "lambda_star = lambdas[np.argmin(rmse_test)]\n",
    "\n",
    "\n",
    "plot_cross_validation(lambdas, \"Lambda\", lambda_star, rmse_train, rmse_test, loss)\n",
    "print(\" Best value of lambda = {g} \\n Loss = {l} \\n Weights = {we}\".format(\n",
    "    g=lambda_star, l=loss, we = weights))"
   ]
  },
  {
   "cell_type": "markdown",
   "metadata": {},
   "source": [
    "### Polynomial regression"
   ]
  },
  {
   "cell_type": "code",
   "execution_count": null,
   "metadata": {
    "scrolled": false
   },
   "outputs": [
    {
     "name": "stdout",
     "output_type": "stream",
     "text": [
      "Degree=1 Best value of lambda = 0.00010826367338740563 \n",
      " Loss = 0.8503266827714623\n",
      "Degree=2 Best value of lambda = 1e-15 \n",
      " Loss = 0.8724819580956794\n",
      "Degree=3 Best value of lambda = 0.7880462815669904 \n",
      " Loss = 0.9559542602338145\n",
      "Degree=4 Best value of lambda = 0.06210169418915604 \n",
      " Loss = 4.9675552399634855\n",
      "Degree=5 Best value of lambda = 10.0 \n",
      " Loss = 111.77832931472047\n",
      "Degree=6 Best value of lambda = 8.531678524172814e-06 \n",
      " Loss = 542.1519781303318\n",
      "Degree=7 Best value of lambda = 0.01743328822199987 \n",
      " Loss = 40919.98420622169\n"
     ]
    }
   ],
   "source": [
    "from cross_validation import cross_validation\n",
    "from cost import compute_loss_rmse\n",
    "\n",
    "w_initial = np.random.rand(num_features)\n",
    "degrees = 8\n",
    "lambdas = np.logspace(-15, 1, 30)\n",
    "k_fold = 2\n",
    "seed = 6\n",
    "\n",
    "Lambdas_star = []\n",
    "Loss = []\n",
    "\n",
    "for indices, degree in enumerate(range(1, degrees+1)):\n",
    "    \n",
    "    # prepare storage of the mean of the weights and rmse for train and test data\n",
    "    ws = np.zeros((num_features*degree, len(lambdas)))\n",
    "    rmse_train = []\n",
    "    rmse_test = []\n",
    "\n",
    "    for ind, lambda_ in enumerate(lambdas):\n",
    "        # prepare storage of weights and rmse for train and test data for each fold\n",
    "        ws_tmp = np.zeros((num_features*degree, k_fold))\n",
    "        rmse_tr = []\n",
    "        rmse_te = []\n",
    "        # cross-validation\n",
    "        for i,k in enumerate(range(k_fold)):\n",
    "            tx_tr, y_train, tx_te, y_test = cross_validation(y, tx, k, k_fold, seed)\n",
    "            #form data with polynomial degree\n",
    "            tx_train = build_poly_all_features(tx_tr, degree)\n",
    "            tx_test = build_poly_all_features(tx_te, degree)\n",
    "            #ridge regression\n",
    "            w,_ = ridge_regression(y_train, tx_train, lambda_)\n",
    "            # store weights and rmse for train and test data for each fold\n",
    "            ws_tmp[:, i] = w\n",
    "            rmse_tr.append(compute_loss_rmse(y_train, tx_train, w))\n",
    "            rmse_te.append(compute_loss_rmse(y_test, tx_test, w))\n",
    "        # store the mean of the weights and rmse for train and test data\n",
    "        ws[:, ind] = np.mean(ws_tmp, 1)\n",
    "        rmse_train.append(np.mean(rmse_tr))\n",
    "        rmse_test.append(np.mean(rmse_te))\n",
    "\n",
    "        \n",
    "    loss = np.amin(rmse_test)\n",
    "    #weights = ws[:, np.argmin(rmse_test)]\n",
    "    lambda_star = lambdas[np.argmin(rmse_test)]\n",
    "\n",
    "    #plot_cross_validation(lambdas, \"Lambda\", lambda_star, rmse_train, rmse_test, loss)\n",
    "    #print(\"Degree={d} Best value of lambda = {g} \\n Loss = {l} \\n Weights = {we}\".format(\n",
    "       # d=degree, g=lambda_star, l=loss)) #, we = weights))\n",
    "    print(\"Degree={d} Best value of lambda = {g} \\n Loss = {l}\".format(d=degree, g=lambda_star, l=loss))\n",
    "    \n",
    "    Lambdas_star.append(lambda_star)\n",
    "    Loss.append(loss)\n"
   ]
  },
  {
   "cell_type": "code",
   "execution_count": 23,
   "metadata": {},
   "outputs": [
    {
     "data": {
      "image/png": "[encoded data removed]",
      "text/plain": [
       "<Figure size 432x288 with 1 Axes>"
      ]
     },
     "metadata": {
      "needs_background": "light"
     },
     "output_type": "display_data"
    },
    {
     "name": "stdout",
     "output_type": "stream",
     "text": [
      "Best degree=1 Best value of lambda = 0.0001 \n",
      " Loss = 0.8503266883986379 \n",
      " Weights = [-0.31460108  0.09817915 -0.30034324 -0.07479191 -0.18568234 -0.03140919\n",
      " -0.0403931  -0.11822224  0.14557187  0.18149619 -0.00055408 -0.00234439\n",
      "  0.21697569 -0.00081263  0.00203905  0.18194239  0.0010509  -0.0851646\n",
      "  0.03716229  0.01790202]\n"
     ]
    }
   ],
   "source": [
    "plt.plot(range(1, degrees+1), Loss, color='g')\n",
    "plt.xlabel(\"Degree\")\n",
    "plt.ylabel(\"RMSE\")\n",
    "plt.title(\"Test error in function of the degree\")\n",
    "plt.grid(True)\n",
    "plt.show()\n",
    "\n",
    "degree_star =  np.argmin(Loss) + 1\n",
    "Loss_star = np.amin(Loss)\n",
    "Lambda_star = Lambdas_star[np.argmin(Loss)]\n",
    "\n",
    "TX_train = build_poly_all_features(tx, degree_star)\n",
    "Weights_star,_ = ridge_regression(y, tx, Lambda_star)\n",
    "print(\"Best degree={d} Best value of lambda = {g} \\n Loss = {l} \\n Weights = {we}\".format(\n",
    "        d=degree_star, g=Lambda_star, l=Loss_star, we = Weights_star))"
   ]
  },
  {
   "cell_type": "code",
   "execution_count": 24,
   "metadata": {},
   "outputs": [
    {
     "data": {
      "text/plain": [
       "66.0768"
      ]
     },
     "execution_count": 24,
     "metadata": {},
     "output_type": "execute_result"
    }
   ],
   "source": [
    "#PREDICT TRAINING ACCURACY\n",
    "training_accuracy = predict_accuracy(y,tx,Weights_star)\n",
    "training_accuracy"
   ]
  },
  {
   "cell_type": "markdown",
   "metadata": {
    "colab_type": "text",
    "id": "yUQybl2IEndu"
   },
   "source": [
    "## Generate predictions and save ouput in csv format for submission:"
   ]
  },
  {
   "cell_type": "code",
   "execution_count": 27,
   "metadata": {
    "colab": {},
    "colab_type": "code",
    "id": "Ewy_ZY2kEndx"
   },
   "outputs": [],
   "source": [
    "DATA_TEST_PATH = 'data/test.csv'\n",
    "ytest, tX_test, ids_test = load_csv_data(DATA_TEST_PATH)\n",
    "\n",
    "columns_correl = np.delete(tX_test, columns_bad_correl, axis=1)\n",
    "tX_test_process = np.delete(columns_correl, ind_remove, axis=1)\n",
    "\n",
    "_, tx_test = build_model_data(tX_test_process,ytest)"
   ]
  },
  {
   "cell_type": "code",
   "execution_count": 28,
   "metadata": {
    "colab": {
     "base_uri": "https://localhost:8080/",
     "height": 198
    },
    "colab_type": "code",
    "id": "Ya9xiZufEnd2",
    "outputId": "a5f1377a-08a2-4255-b58d-9a733eff30fa"
   },
   "outputs": [],
   "source": [
    "OUTPUT_PATH = 'data/submission_ridge.csv'\n",
    "y_pred = predict_labels(Weights_star, tx_test)\n",
    "create_csv_submission(ids_test, y_pred, OUTPUT_PATH)"
   ]
  },
  {
   "cell_type": "code",
   "execution_count": null,
   "metadata": {},
   "outputs": [],
   "source": []
  }
 ],
 "metadata": {
  "anaconda-cloud": {},
  "colab": {
   "collapsed_sections": [],
   "name": "project1.ipynb",
   "provenance": []
  },
  "kernelspec": {
   "display_name": "Python 3",
   "language": "python",
   "name": "python3"
  },
  "language_info": {
   "codemirror_mode": {
    "name": "ipython",
    "version": 3
   },
   "file_extension": ".py",
   "mimetype": "text/x-python",
   "name": "python",
   "nbconvert_exporter": "python",
   "pygments_lexer": "ipython3",
   "version": "3.7.4"
  }
 },
 "nbformat": 4,
 "nbformat_minor": 1
}
